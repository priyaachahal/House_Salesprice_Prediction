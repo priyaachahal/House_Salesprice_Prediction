{
 "cells": [
  {
   "cell_type": "markdown",
   "metadata": {},
   "source": [
    "## Importing libaries\n",
    "---\n",
    "\n",
    "Importing the libraries needed for this project."
   ]
  },
  {
   "cell_type": "code",
   "execution_count": 1,
   "metadata": {},
   "outputs": [
    {
     "name": "stderr",
     "output_type": "stream",
     "text": [
      "/Users/priya/opt/anaconda3/lib/python3.7/site-packages/statsmodels/tools/_testing.py:19: FutureWarning: pandas.util.testing is deprecated. Use the functions in the public API at pandas.testing instead.\n",
      "  import pandas.util.testing as tm\n"
     ]
    }
   ],
   "source": [
    "# import libraries to be used in this notebook\n",
    "import pandas as pd\n",
    "import seaborn as sns\n",
    "import statsmodels.formula.api as smf\n",
    "from sklearn.linear_model import LinearRegression,Lasso,LassoCV,Ridge,RidgeCV\n",
    "from sklearn import metrics\n",
    "from sklearn.model_selection import train_test_split,cross_val_score,KFold\n",
    "from sklearn.preprocessing import StandardScaler\n",
    "import numpy as np\n",
    "from sklearn.metrics import r2_score\n",
    "import matplotlib.pyplot as plt\n",
    "\n",
    "# allow plots to appear directly in the notebook\n",
    "%matplotlib inline"
   ]
  },
  {
   "cell_type": "markdown",
   "metadata": {},
   "source": [
    "## Load the cleaned data\n",
    "\n",
    "---\n",
    "\n",
    "Reading the clean_train.csv and clean_test.csv data from datasets path."
   ]
  },
  {
   "cell_type": "code",
   "execution_count": 2,
   "metadata": {},
   "outputs": [
    {
     "data": {
      "text/html": [
       "<div>\n",
       "<style scoped>\n",
       "    .dataframe tbody tr th:only-of-type {\n",
       "        vertical-align: middle;\n",
       "    }\n",
       "\n",
       "    .dataframe tbody tr th {\n",
       "        vertical-align: top;\n",
       "    }\n",
       "\n",
       "    .dataframe thead th {\n",
       "        text-align: right;\n",
       "    }\n",
       "</style>\n",
       "<table border=\"1\" class=\"dataframe\">\n",
       "  <thead>\n",
       "    <tr style=\"text-align: right;\">\n",
       "      <th></th>\n",
       "      <th>id</th>\n",
       "      <th>pid</th>\n",
       "      <th>ms_subclass</th>\n",
       "      <th>lot_frontage</th>\n",
       "      <th>lot_area</th>\n",
       "      <th>lot_shape</th>\n",
       "      <th>utilities</th>\n",
       "      <th>land_slope</th>\n",
       "      <th>overall_qual</th>\n",
       "      <th>overall_cond</th>\n",
       "      <th>...</th>\n",
       "      <th>sale_type_Oth</th>\n",
       "      <th>sale_type_WD</th>\n",
       "      <th>exterior_1st_PreCast</th>\n",
       "      <th>exterior_2nd_Other</th>\n",
       "      <th>exterior_2nd_PreCast</th>\n",
       "      <th>heating_GasA</th>\n",
       "      <th>mas_vnr_type_CBlock</th>\n",
       "      <th>roof_matl_Metal</th>\n",
       "      <th>roof_matl_Roll</th>\n",
       "      <th>sale_type_VWD</th>\n",
       "    </tr>\n",
       "  </thead>\n",
       "  <tbody>\n",
       "    <tr>\n",
       "      <th>0</th>\n",
       "      <td>109</td>\n",
       "      <td>533352170</td>\n",
       "      <td>60</td>\n",
       "      <td>0</td>\n",
       "      <td>13517</td>\n",
       "      <td>1</td>\n",
       "      <td>3</td>\n",
       "      <td>3</td>\n",
       "      <td>6</td>\n",
       "      <td>8</td>\n",
       "      <td>...</td>\n",
       "      <td>0</td>\n",
       "      <td>1</td>\n",
       "      <td>0</td>\n",
       "      <td>0</td>\n",
       "      <td>0</td>\n",
       "      <td>0</td>\n",
       "      <td>0</td>\n",
       "      <td>0</td>\n",
       "      <td>0</td>\n",
       "      <td>0</td>\n",
       "    </tr>\n",
       "    <tr>\n",
       "      <th>1</th>\n",
       "      <td>544</td>\n",
       "      <td>531379050</td>\n",
       "      <td>60</td>\n",
       "      <td>43</td>\n",
       "      <td>11492</td>\n",
       "      <td>1</td>\n",
       "      <td>3</td>\n",
       "      <td>3</td>\n",
       "      <td>7</td>\n",
       "      <td>5</td>\n",
       "      <td>...</td>\n",
       "      <td>0</td>\n",
       "      <td>1</td>\n",
       "      <td>0</td>\n",
       "      <td>0</td>\n",
       "      <td>0</td>\n",
       "      <td>0</td>\n",
       "      <td>0</td>\n",
       "      <td>0</td>\n",
       "      <td>0</td>\n",
       "      <td>0</td>\n",
       "    </tr>\n",
       "    <tr>\n",
       "      <th>2</th>\n",
       "      <td>153</td>\n",
       "      <td>535304180</td>\n",
       "      <td>20</td>\n",
       "      <td>68</td>\n",
       "      <td>7922</td>\n",
       "      <td>4</td>\n",
       "      <td>3</td>\n",
       "      <td>3</td>\n",
       "      <td>5</td>\n",
       "      <td>7</td>\n",
       "      <td>...</td>\n",
       "      <td>0</td>\n",
       "      <td>1</td>\n",
       "      <td>0</td>\n",
       "      <td>0</td>\n",
       "      <td>0</td>\n",
       "      <td>0</td>\n",
       "      <td>0</td>\n",
       "      <td>0</td>\n",
       "      <td>0</td>\n",
       "      <td>0</td>\n",
       "    </tr>\n",
       "    <tr>\n",
       "      <th>3</th>\n",
       "      <td>318</td>\n",
       "      <td>916386060</td>\n",
       "      <td>60</td>\n",
       "      <td>73</td>\n",
       "      <td>9802</td>\n",
       "      <td>4</td>\n",
       "      <td>3</td>\n",
       "      <td>3</td>\n",
       "      <td>5</td>\n",
       "      <td>5</td>\n",
       "      <td>...</td>\n",
       "      <td>0</td>\n",
       "      <td>1</td>\n",
       "      <td>0</td>\n",
       "      <td>0</td>\n",
       "      <td>0</td>\n",
       "      <td>0</td>\n",
       "      <td>0</td>\n",
       "      <td>0</td>\n",
       "      <td>0</td>\n",
       "      <td>0</td>\n",
       "    </tr>\n",
       "    <tr>\n",
       "      <th>4</th>\n",
       "      <td>255</td>\n",
       "      <td>906425045</td>\n",
       "      <td>50</td>\n",
       "      <td>82</td>\n",
       "      <td>14235</td>\n",
       "      <td>1</td>\n",
       "      <td>3</td>\n",
       "      <td>3</td>\n",
       "      <td>6</td>\n",
       "      <td>8</td>\n",
       "      <td>...</td>\n",
       "      <td>0</td>\n",
       "      <td>1</td>\n",
       "      <td>0</td>\n",
       "      <td>0</td>\n",
       "      <td>0</td>\n",
       "      <td>0</td>\n",
       "      <td>0</td>\n",
       "      <td>0</td>\n",
       "      <td>0</td>\n",
       "      <td>0</td>\n",
       "    </tr>\n",
       "  </tbody>\n",
       "</table>\n",
       "<p>5 rows × 191 columns</p>\n",
       "</div>"
      ],
      "text/plain": [
       "    id        pid  ms_subclass  lot_frontage  lot_area  lot_shape  utilities  \\\n",
       "0  109  533352170           60             0     13517          1          3   \n",
       "1  544  531379050           60            43     11492          1          3   \n",
       "2  153  535304180           20            68      7922          4          3   \n",
       "3  318  916386060           60            73      9802          4          3   \n",
       "4  255  906425045           50            82     14235          1          3   \n",
       "\n",
       "   land_slope  overall_qual  overall_cond  ...  sale_type_Oth  sale_type_WD   \\\n",
       "0           3             6             8  ...              0              1   \n",
       "1           3             7             5  ...              0              1   \n",
       "2           3             5             7  ...              0              1   \n",
       "3           3             5             5  ...              0              1   \n",
       "4           3             6             8  ...              0              1   \n",
       "\n",
       "   exterior_1st_PreCast  exterior_2nd_Other  exterior_2nd_PreCast  \\\n",
       "0                     0                   0                     0   \n",
       "1                     0                   0                     0   \n",
       "2                     0                   0                     0   \n",
       "3                     0                   0                     0   \n",
       "4                     0                   0                     0   \n",
       "\n",
       "   heating_GasA  mas_vnr_type_CBlock  roof_matl_Metal  roof_matl_Roll  \\\n",
       "0             0                    0                0               0   \n",
       "1             0                    0                0               0   \n",
       "2             0                    0                0               0   \n",
       "3             0                    0                0               0   \n",
       "4             0                    0                0               0   \n",
       "\n",
       "   sale_type_VWD  \n",
       "0              0  \n",
       "1              0  \n",
       "2              0  \n",
       "3              0  \n",
       "4              0  \n",
       "\n",
       "[5 rows x 191 columns]"
      ]
     },
     "execution_count": 2,
     "metadata": {},
     "output_type": "execute_result"
    }
   ],
   "source": [
    "#Read the training data\n",
    "clean_train = pd.read_csv('../datasets/clean_train.csv')\n",
    "clean_train.head()"
   ]
  },
  {
   "cell_type": "code",
   "execution_count": 3,
   "metadata": {},
   "outputs": [
    {
     "data": {
      "text/html": [
       "<div>\n",
       "<style scoped>\n",
       "    .dataframe tbody tr th:only-of-type {\n",
       "        vertical-align: middle;\n",
       "    }\n",
       "\n",
       "    .dataframe tbody tr th {\n",
       "        vertical-align: top;\n",
       "    }\n",
       "\n",
       "    .dataframe thead th {\n",
       "        text-align: right;\n",
       "    }\n",
       "</style>\n",
       "<table border=\"1\" class=\"dataframe\">\n",
       "  <thead>\n",
       "    <tr style=\"text-align: right;\">\n",
       "      <th></th>\n",
       "      <th>id</th>\n",
       "      <th>pid</th>\n",
       "      <th>ms_subclass</th>\n",
       "      <th>lot_frontage</th>\n",
       "      <th>lot_area</th>\n",
       "      <th>lot_shape</th>\n",
       "      <th>utilities</th>\n",
       "      <th>land_slope</th>\n",
       "      <th>overall_qual</th>\n",
       "      <th>overall_cond</th>\n",
       "      <th>...</th>\n",
       "      <th>exterior_1st_CBlock</th>\n",
       "      <th>exterior_1st_ImStucc</th>\n",
       "      <th>exterior_1st_Stone</th>\n",
       "      <th>exterior_2nd_Stone</th>\n",
       "      <th>heating_OthW</th>\n",
       "      <th>heating_Wall</th>\n",
       "      <th>ms_zoning_C (all)</th>\n",
       "      <th>neighborhood_GrnHill</th>\n",
       "      <th>neighborhood_Landmrk</th>\n",
       "      <th>roof_matl_Membran</th>\n",
       "    </tr>\n",
       "  </thead>\n",
       "  <tbody>\n",
       "    <tr>\n",
       "      <th>0</th>\n",
       "      <td>2658</td>\n",
       "      <td>902301120</td>\n",
       "      <td>190</td>\n",
       "      <td>69</td>\n",
       "      <td>9142</td>\n",
       "      <td>4</td>\n",
       "      <td>3</td>\n",
       "      <td>3</td>\n",
       "      <td>6</td>\n",
       "      <td>8</td>\n",
       "      <td>...</td>\n",
       "      <td>0</td>\n",
       "      <td>0</td>\n",
       "      <td>0</td>\n",
       "      <td>0</td>\n",
       "      <td>0</td>\n",
       "      <td>0</td>\n",
       "      <td>0</td>\n",
       "      <td>0</td>\n",
       "      <td>0</td>\n",
       "      <td>0</td>\n",
       "    </tr>\n",
       "    <tr>\n",
       "      <th>1</th>\n",
       "      <td>2718</td>\n",
       "      <td>905108090</td>\n",
       "      <td>90</td>\n",
       "      <td>0</td>\n",
       "      <td>9662</td>\n",
       "      <td>1</td>\n",
       "      <td>3</td>\n",
       "      <td>3</td>\n",
       "      <td>5</td>\n",
       "      <td>4</td>\n",
       "      <td>...</td>\n",
       "      <td>0</td>\n",
       "      <td>0</td>\n",
       "      <td>0</td>\n",
       "      <td>0</td>\n",
       "      <td>0</td>\n",
       "      <td>0</td>\n",
       "      <td>0</td>\n",
       "      <td>0</td>\n",
       "      <td>0</td>\n",
       "      <td>0</td>\n",
       "    </tr>\n",
       "    <tr>\n",
       "      <th>2</th>\n",
       "      <td>2414</td>\n",
       "      <td>528218130</td>\n",
       "      <td>60</td>\n",
       "      <td>58</td>\n",
       "      <td>17104</td>\n",
       "      <td>1</td>\n",
       "      <td>3</td>\n",
       "      <td>3</td>\n",
       "      <td>7</td>\n",
       "      <td>5</td>\n",
       "      <td>...</td>\n",
       "      <td>0</td>\n",
       "      <td>0</td>\n",
       "      <td>0</td>\n",
       "      <td>0</td>\n",
       "      <td>0</td>\n",
       "      <td>0</td>\n",
       "      <td>0</td>\n",
       "      <td>0</td>\n",
       "      <td>0</td>\n",
       "      <td>0</td>\n",
       "    </tr>\n",
       "    <tr>\n",
       "      <th>3</th>\n",
       "      <td>1989</td>\n",
       "      <td>902207150</td>\n",
       "      <td>30</td>\n",
       "      <td>60</td>\n",
       "      <td>8520</td>\n",
       "      <td>4</td>\n",
       "      <td>3</td>\n",
       "      <td>3</td>\n",
       "      <td>5</td>\n",
       "      <td>6</td>\n",
       "      <td>...</td>\n",
       "      <td>0</td>\n",
       "      <td>0</td>\n",
       "      <td>0</td>\n",
       "      <td>0</td>\n",
       "      <td>0</td>\n",
       "      <td>0</td>\n",
       "      <td>0</td>\n",
       "      <td>0</td>\n",
       "      <td>0</td>\n",
       "      <td>0</td>\n",
       "    </tr>\n",
       "    <tr>\n",
       "      <th>4</th>\n",
       "      <td>625</td>\n",
       "      <td>535105100</td>\n",
       "      <td>20</td>\n",
       "      <td>0</td>\n",
       "      <td>9500</td>\n",
       "      <td>1</td>\n",
       "      <td>3</td>\n",
       "      <td>3</td>\n",
       "      <td>6</td>\n",
       "      <td>5</td>\n",
       "      <td>...</td>\n",
       "      <td>0</td>\n",
       "      <td>0</td>\n",
       "      <td>0</td>\n",
       "      <td>0</td>\n",
       "      <td>0</td>\n",
       "      <td>0</td>\n",
       "      <td>0</td>\n",
       "      <td>0</td>\n",
       "      <td>0</td>\n",
       "      <td>0</td>\n",
       "    </tr>\n",
       "  </tbody>\n",
       "</table>\n",
       "<p>5 rows × 190 columns</p>\n",
       "</div>"
      ],
      "text/plain": [
       "     id        pid  ms_subclass  lot_frontage  lot_area  lot_shape  utilities  \\\n",
       "0  2658  902301120          190            69      9142          4          3   \n",
       "1  2718  905108090           90             0      9662          1          3   \n",
       "2  2414  528218130           60            58     17104          1          3   \n",
       "3  1989  902207150           30            60      8520          4          3   \n",
       "4   625  535105100           20             0      9500          1          3   \n",
       "\n",
       "   land_slope  overall_qual  overall_cond  ...  exterior_1st_CBlock  \\\n",
       "0           3             6             8  ...                    0   \n",
       "1           3             5             4  ...                    0   \n",
       "2           3             7             5  ...                    0   \n",
       "3           3             5             6  ...                    0   \n",
       "4           3             6             5  ...                    0   \n",
       "\n",
       "   exterior_1st_ImStucc  exterior_1st_Stone  exterior_2nd_Stone  heating_OthW  \\\n",
       "0                     0                   0                   0             0   \n",
       "1                     0                   0                   0             0   \n",
       "2                     0                   0                   0             0   \n",
       "3                     0                   0                   0             0   \n",
       "4                     0                   0                   0             0   \n",
       "\n",
       "   heating_Wall  ms_zoning_C (all)  neighborhood_GrnHill  \\\n",
       "0             0                  0                     0   \n",
       "1             0                  0                     0   \n",
       "2             0                  0                     0   \n",
       "3             0                  0                     0   \n",
       "4             0                  0                     0   \n",
       "\n",
       "   neighborhood_Landmrk  roof_matl_Membran  \n",
       "0                     0                  0  \n",
       "1                     0                  0  \n",
       "2                     0                  0  \n",
       "3                     0                  0  \n",
       "4                     0                  0  \n",
       "\n",
       "[5 rows x 190 columns]"
      ]
     },
     "execution_count": 3,
     "metadata": {},
     "output_type": "execute_result"
    }
   ],
   "source": [
    "#Read the testing data\n",
    "clean_test = pd.read_csv('../datasets/clean_test.csv')\n",
    "clean_test.head()"
   ]
  },
  {
   "cell_type": "code",
   "execution_count": 4,
   "metadata": {},
   "outputs": [
    {
     "name": "stdout",
     "output_type": "stream",
     "text": [
      "Train data dimension is: (2044, 191)\n",
      "Test data dimension is: (879, 190)\n"
     ]
    }
   ],
   "source": [
    "# Check the shape of train and test data\n",
    "print('Train data dimension is: {}'.format(clean_train.shape))\n",
    "print('Test data dimension is: {}'.format(clean_test.shape))"
   ]
  },
  {
   "cell_type": "code",
   "execution_count": 5,
   "metadata": {},
   "outputs": [],
   "source": [
    "#Defining the predictor columns\n",
    "\n",
    "#Predictor columns will be each column in train data except the target variable: saleprice\n",
    "predictor_columns = [col for col in clean_train.columns if col!='saleprice']\n"
   ]
  },
  {
   "cell_type": "markdown",
   "metadata": {},
   "source": [
    "## Model Prep: Create our features matrix (`X`) and target vector (`y`)\n",
    "\n",
    "Columns in predictor_columns list will be used as a feature.\n",
    "\n",
    "The `saleprice` column is our target."
   ]
  },
  {
   "cell_type": "code",
   "execution_count": 6,
   "metadata": {},
   "outputs": [],
   "source": [
    "# Creating the features matrix(X) and target vector(y)\n",
    "X = clean_train[predictor_columns]\n",
    "y = clean_train['saleprice']"
   ]
  },
  {
   "cell_type": "markdown",
   "metadata": {},
   "source": [
    "## Model Prep: Train/test split\n",
    "\n",
    "Using the `train_test_split` function to split our `X` and `y` variables into a training set and testing set. <br>\n",
    "The testing set will be used to test our model performance."
   ]
  },
  {
   "cell_type": "code",
   "execution_count": 7,
   "metadata": {},
   "outputs": [],
   "source": [
    "X_train, X_test, y_train, y_test = train_test_split(X, y,shuffle=True)"
   ]
  },
  {
   "cell_type": "code",
   "execution_count": 8,
   "metadata": {},
   "outputs": [
    {
     "name": "stdout",
     "output_type": "stream",
     "text": [
      "Shape of X_train is :(1533, 190)\n",
      "Shape of X_train is :(511, 190)\n",
      "Shape of X_train is :(1533,)\n",
      "Shape of X_train is :(511,)\n"
     ]
    }
   ],
   "source": [
    "# Check the shape of splitted data\n",
    "print(\"Shape of X_train is :{}\".format(X_train.shape))\n",
    "print(\"Shape of X_train is :{}\".format(X_test.shape))\n",
    "print(\"Shape of X_train is :{}\".format(y_train.shape))\n",
    "print(\"Shape of X_train is :{}\".format(y_test.shape))"
   ]
  },
  {
   "cell_type": "markdown",
   "metadata": {},
   "source": [
    "## Model Prep: Scaling\n",
    "\n",
    "Since, the features are in different scale, I will be scaling X_train and X_test using the StandardScaler."
   ]
  },
  {
   "cell_type": "code",
   "execution_count": 9,
   "metadata": {},
   "outputs": [
    {
     "data": {
      "text/html": [
       "<div>\n",
       "<style scoped>\n",
       "    .dataframe tbody tr th:only-of-type {\n",
       "        vertical-align: middle;\n",
       "    }\n",
       "\n",
       "    .dataframe tbody tr th {\n",
       "        vertical-align: top;\n",
       "    }\n",
       "\n",
       "    .dataframe thead th {\n",
       "        text-align: right;\n",
       "    }\n",
       "</style>\n",
       "<table border=\"1\" class=\"dataframe\">\n",
       "  <thead>\n",
       "    <tr style=\"text-align: right;\">\n",
       "      <th></th>\n",
       "      <th>id</th>\n",
       "      <th>pid</th>\n",
       "      <th>ms_subclass</th>\n",
       "      <th>lot_frontage</th>\n",
       "      <th>lot_area</th>\n",
       "      <th>lot_shape</th>\n",
       "      <th>utilities</th>\n",
       "      <th>land_slope</th>\n",
       "      <th>overall_qual</th>\n",
       "      <th>overall_cond</th>\n",
       "      <th>...</th>\n",
       "      <th>sale_type_Oth</th>\n",
       "      <th>sale_type_WD</th>\n",
       "      <th>exterior_1st_PreCast</th>\n",
       "      <th>exterior_2nd_Other</th>\n",
       "      <th>exterior_2nd_PreCast</th>\n",
       "      <th>heating_GasA</th>\n",
       "      <th>mas_vnr_type_CBlock</th>\n",
       "      <th>roof_matl_Metal</th>\n",
       "      <th>roof_matl_Roll</th>\n",
       "      <th>sale_type_VWD</th>\n",
       "    </tr>\n",
       "  </thead>\n",
       "  <tbody>\n",
       "    <tr>\n",
       "      <th>754</th>\n",
       "      <td>1015</td>\n",
       "      <td>527252080</td>\n",
       "      <td>120</td>\n",
       "      <td>60</td>\n",
       "      <td>8118</td>\n",
       "      <td>4</td>\n",
       "      <td>3</td>\n",
       "      <td>3</td>\n",
       "      <td>9</td>\n",
       "      <td>5</td>\n",
       "      <td>...</td>\n",
       "      <td>0</td>\n",
       "      <td>1</td>\n",
       "      <td>0</td>\n",
       "      <td>0</td>\n",
       "      <td>0</td>\n",
       "      <td>0</td>\n",
       "      <td>0</td>\n",
       "      <td>0</td>\n",
       "      <td>0</td>\n",
       "      <td>0</td>\n",
       "    </tr>\n",
       "    <tr>\n",
       "      <th>1461</th>\n",
       "      <td>2416</td>\n",
       "      <td>528221010</td>\n",
       "      <td>20</td>\n",
       "      <td>102</td>\n",
       "      <td>11660</td>\n",
       "      <td>1</td>\n",
       "      <td>3</td>\n",
       "      <td>3</td>\n",
       "      <td>6</td>\n",
       "      <td>5</td>\n",
       "      <td>...</td>\n",
       "      <td>0</td>\n",
       "      <td>0</td>\n",
       "      <td>0</td>\n",
       "      <td>0</td>\n",
       "      <td>0</td>\n",
       "      <td>0</td>\n",
       "      <td>0</td>\n",
       "      <td>0</td>\n",
       "      <td>0</td>\n",
       "      <td>0</td>\n",
       "    </tr>\n",
       "  </tbody>\n",
       "</table>\n",
       "<p>2 rows × 190 columns</p>\n",
       "</div>"
      ],
      "text/plain": [
       "        id        pid  ms_subclass  lot_frontage  lot_area  lot_shape  \\\n",
       "754   1015  527252080          120            60      8118          4   \n",
       "1461  2416  528221010           20           102     11660          1   \n",
       "\n",
       "      utilities  land_slope  overall_qual  overall_cond  ...  sale_type_Oth  \\\n",
       "754           3           3             9             5  ...              0   \n",
       "1461          3           3             6             5  ...              0   \n",
       "\n",
       "      sale_type_WD   exterior_1st_PreCast  exterior_2nd_Other  \\\n",
       "754               1                     0                   0   \n",
       "1461              0                     0                   0   \n",
       "\n",
       "      exterior_2nd_PreCast  heating_GasA  mas_vnr_type_CBlock  \\\n",
       "754                      0             0                    0   \n",
       "1461                     0             0                    0   \n",
       "\n",
       "      roof_matl_Metal  roof_matl_Roll  sale_type_VWD  \n",
       "754                 0               0              0  \n",
       "1461                0               0              0  \n",
       "\n",
       "[2 rows x 190 columns]"
      ]
     },
     "execution_count": 9,
     "metadata": {},
     "output_type": "execute_result"
    }
   ],
   "source": [
    "#Check the first 2 rows of X_train data.\n",
    "X_train.head(2)"
   ]
  },
  {
   "cell_type": "code",
   "execution_count": 10,
   "metadata": {},
   "outputs": [
    {
     "data": {
      "text/html": [
       "<div>\n",
       "<style scoped>\n",
       "    .dataframe tbody tr th:only-of-type {\n",
       "        vertical-align: middle;\n",
       "    }\n",
       "\n",
       "    .dataframe tbody tr th {\n",
       "        vertical-align: top;\n",
       "    }\n",
       "\n",
       "    .dataframe thead th {\n",
       "        text-align: right;\n",
       "    }\n",
       "</style>\n",
       "<table border=\"1\" class=\"dataframe\">\n",
       "  <thead>\n",
       "    <tr style=\"text-align: right;\">\n",
       "      <th></th>\n",
       "      <th>id</th>\n",
       "      <th>pid</th>\n",
       "      <th>ms_subclass</th>\n",
       "      <th>lot_frontage</th>\n",
       "      <th>lot_area</th>\n",
       "      <th>lot_shape</th>\n",
       "      <th>utilities</th>\n",
       "      <th>land_slope</th>\n",
       "      <th>overall_qual</th>\n",
       "      <th>overall_cond</th>\n",
       "      <th>...</th>\n",
       "      <th>sale_type_Oth</th>\n",
       "      <th>sale_type_WD</th>\n",
       "      <th>exterior_1st_PreCast</th>\n",
       "      <th>exterior_2nd_Other</th>\n",
       "      <th>exterior_2nd_PreCast</th>\n",
       "      <th>heating_GasA</th>\n",
       "      <th>mas_vnr_type_CBlock</th>\n",
       "      <th>roof_matl_Metal</th>\n",
       "      <th>roof_matl_Roll</th>\n",
       "      <th>sale_type_VWD</th>\n",
       "    </tr>\n",
       "  </thead>\n",
       "  <tbody>\n",
       "    <tr>\n",
       "      <th>1192</th>\n",
       "      <td>1582</td>\n",
       "      <td>916402215</td>\n",
       "      <td>20</td>\n",
       "      <td>93</td>\n",
       "      <td>18265</td>\n",
       "      <td>4</td>\n",
       "      <td>3</td>\n",
       "      <td>3</td>\n",
       "      <td>6</td>\n",
       "      <td>5</td>\n",
       "      <td>...</td>\n",
       "      <td>0</td>\n",
       "      <td>1</td>\n",
       "      <td>0</td>\n",
       "      <td>0</td>\n",
       "      <td>0</td>\n",
       "      <td>0</td>\n",
       "      <td>0</td>\n",
       "      <td>0</td>\n",
       "      <td>0</td>\n",
       "      <td>0</td>\n",
       "    </tr>\n",
       "    <tr>\n",
       "      <th>106</th>\n",
       "      <td>2513</td>\n",
       "      <td>533223080</td>\n",
       "      <td>160</td>\n",
       "      <td>0</td>\n",
       "      <td>2651</td>\n",
       "      <td>4</td>\n",
       "      <td>3</td>\n",
       "      <td>3</td>\n",
       "      <td>7</td>\n",
       "      <td>5</td>\n",
       "      <td>...</td>\n",
       "      <td>0</td>\n",
       "      <td>1</td>\n",
       "      <td>0</td>\n",
       "      <td>0</td>\n",
       "      <td>0</td>\n",
       "      <td>0</td>\n",
       "      <td>0</td>\n",
       "      <td>0</td>\n",
       "      <td>0</td>\n",
       "      <td>0</td>\n",
       "    </tr>\n",
       "  </tbody>\n",
       "</table>\n",
       "<p>2 rows × 190 columns</p>\n",
       "</div>"
      ],
      "text/plain": [
       "        id        pid  ms_subclass  lot_frontage  lot_area  lot_shape  \\\n",
       "1192  1582  916402215           20            93     18265          4   \n",
       "106   2513  533223080          160             0      2651          4   \n",
       "\n",
       "      utilities  land_slope  overall_qual  overall_cond  ...  sale_type_Oth  \\\n",
       "1192          3           3             6             5  ...              0   \n",
       "106           3           3             7             5  ...              0   \n",
       "\n",
       "      sale_type_WD   exterior_1st_PreCast  exterior_2nd_Other  \\\n",
       "1192              1                     0                   0   \n",
       "106               1                     0                   0   \n",
       "\n",
       "      exterior_2nd_PreCast  heating_GasA  mas_vnr_type_CBlock  \\\n",
       "1192                     0             0                    0   \n",
       "106                      0             0                    0   \n",
       "\n",
       "      roof_matl_Metal  roof_matl_Roll  sale_type_VWD  \n",
       "1192                0               0              0  \n",
       "106                 0               0              0  \n",
       "\n",
       "[2 rows x 190 columns]"
      ]
     },
     "execution_count": 10,
     "metadata": {},
     "output_type": "execute_result"
    }
   ],
   "source": [
    "#Check the first 2 rows of X_test data.\n",
    "X_test.head(2)"
   ]
  },
  {
   "cell_type": "code",
   "execution_count": 11,
   "metadata": {},
   "outputs": [],
   "source": [
    "#Instantiate a StandardScaler object\n",
    "ss = StandardScaler()\n",
    "\n",
    "#Fit the X_train data into StandardScaler object\n",
    "ss.fit(X_train)\n",
    "\n",
    "#Apply the fit method to X_train and X_test data\n",
    "X_train = ss.transform(X_train)\n",
    "X_test = ss.transform(X_test)"
   ]
  },
  {
   "cell_type": "code",
   "execution_count": 12,
   "metadata": {},
   "outputs": [
    {
     "data": {
      "text/plain": [
       "array([[-0.5337429 , -0.99419885,  1.51204157,  0.07464835, -0.35286271,\n",
       "         0.74182915,  0.03428627,  0.21232686,  2.00566409, -0.50242615,\n",
       "         1.175328  ,  1.08571292,  0.49532207,  2.66739119, -0.20654068,\n",
       "         1.63229649,  0.14162878,  2.21793901,  1.15139306, -0.33413956,\n",
       "         1.53706469,  0.87924237,  0.27529888,  0.28595565, -0.76318271,\n",
       "        -0.10406774,  0.45969202,  1.13830408, -0.26179453,  0.77389466,\n",
       "        -0.73461417, -1.03621045, -0.20048856,  2.19787873,  0.23964557,\n",
       "         0.64340781,  1.21631769,  0.31114882,  0.3072278 ,  0.37372577,\n",
       "         0.27597398,  0.2767261 ,  0.31544799,  0.51525529,  0.024131  ,\n",
       "        -0.38915648, -0.09781913, -0.28722068, -0.06412177, -0.10403697,\n",
       "         0.28224585,  0.15657827, -0.09940535, -0.21873932, -0.02554881,\n",
       "        -0.08103079,  0.51767758, -0.41583058,  0.06268391,  4.64156414,\n",
       "        -0.14128015, -2.92937707, -0.26698095, -0.1657706 , -0.06268391,\n",
       "         0.59417591, -0.05114772, -0.09248044, -0.18738039, -0.10589486,\n",
       "        -0.31326911, -0.19471695, -0.28344006, -0.24528754, -0.03614327,\n",
       "        -0.03614327, -0.18738039, -0.02554881, -0.11202472, -0.20006783,\n",
       "        -0.41798642, -0.08501372, -0.21210793, -0.15285446, -0.25121066,\n",
       "        -0.29273546, -0.12611333, -0.24378948, -0.21210793, -0.25413251,\n",
       "         7.46845217, -0.16156862, -0.09600307, -0.23618875, -2.46262383,\n",
       "        -0.07684733,  8.10260291, -0.09940535, -0.12611333, -0.04428074,\n",
       "        -0.0572036 , -0.06772855, -8.69770085, -0.04428074, 22.58317958,\n",
       "        -0.02554881, -0.02554881, -0.02554881, -0.15060474, -0.19471695,\n",
       "        -0.18361765,  3.65063047, -0.08103079,  0.96348424, -0.05114772,\n",
       "        -0.06772855, -0.63245553, -0.16156862, -0.23153455, -1.94695275,\n",
       "        -0.08501372,  2.06592382, -0.06268391, -0.04428074, -0.02554881,\n",
       "        -0.08501372, -0.05114772, -0.0572036 ,  0.        , -0.04428074,\n",
       "        -0.18550729, -0.03614327, -0.21873932, -0.40607095, -0.02554881,\n",
       "         2.34430431, -0.27529888, -0.03614327, -0.10900086, -0.75225232,\n",
       "        -0.39730968, -0.15507449, -0.03614327, -0.09248044, -0.14128015,\n",
       "        -0.03614327, -0.21709709, -0.38287969, -0.06772855,  2.36807065,\n",
       "        -0.30439873, -0.06268391, -0.11785113, -0.75118953, -0.38957103,\n",
       "        -0.17784413,  1.49471643, -1.23850083, -0.29404677, -0.85797834,\n",
       "         1.10970314, -0.14128015, -0.05114772, -0.03614327, -0.08882312,\n",
       "        -0.05114772, -0.02554881, -0.06268391,  0.84430395, -0.12066439,\n",
       "        -0.26557622, -0.08501372, -0.59417591, -0.24973999, -0.0724286 ,\n",
       "        -0.04428074, -0.09600307, -0.0572036 , -0.05114772, -0.30567621,\n",
       "        -0.05114772,  0.40170093,  0.        ,  0.        ,  0.        ,\n",
       "         0.        ,  0.        ,  0.        ,  0.        ,  0.        ]])"
      ]
     },
     "execution_count": 12,
     "metadata": {},
     "output_type": "execute_result"
    }
   ],
   "source": [
    "# Check the scaled X_train\n",
    "X_train[:1]"
   ]
  },
  {
   "cell_type": "code",
   "execution_count": 13,
   "metadata": {},
   "outputs": [
    {
     "data": {
      "text/plain": [
       "array([[ 0.13716651,  1.06812893, -0.85129421,  1.10532115,  1.52675964,\n",
       "         0.74182915,  0.03428627,  0.21232686, -0.07229247, -0.50242615,\n",
       "         0.47252822,  0.09860919,  0.79552082,  0.99426898,  2.47673781,\n",
       "         0.56430224,  1.78645395,  1.26739372,  1.15139306,  3.17432586,\n",
       "         0.48404052,  0.87924237,  0.27529888,  0.28595565, -0.76318271,\n",
       "        -0.10406774, -0.48274717, -0.80492549, -0.26179453,  0.77389466,\n",
       "        -0.73461417,  0.19710525, -0.20048856,  0.71227552,  0.23964557,\n",
       "         0.64340781,  0.11332152,  0.26629976, -0.79577036,  0.4691612 ,\n",
       "         0.27597398,  0.2767261 ,  0.31544799,  1.53066803, -0.70599059,\n",
       "        -0.38915648, -0.09781913, -0.28722068, -0.06412177, -0.10403697,\n",
       "        -1.16485411,  0.15657827, -0.09940535, -0.21873932, -0.02554881,\n",
       "        -0.08103079,  0.51767758, -0.41583058,  0.06268391, -0.21544462,\n",
       "        -0.14128015,  0.34136951, -0.26698095, -0.1657706 , -0.06268391,\n",
       "        -1.68300327, -0.05114772, -0.09248044, -0.18738039, -0.10589486,\n",
       "        -0.31326911, -0.19471695, -0.28344006, -0.24528754, -0.03614327,\n",
       "        -0.03614327, -0.18738039, -0.02554881, -0.11202472, -0.20006783,\n",
       "        -0.41798642, -0.08501372, -0.21210793, -0.15285446, -0.25121066,\n",
       "        -0.29273546, -0.12611333, -0.24378948, -0.21210793, -0.25413251,\n",
       "        -0.13389655,  6.18932083, -0.09600307, -0.23618875,  0.40607095,\n",
       "        -0.07684733, -0.12341713, -0.09940535, -0.12611333, -0.04428074,\n",
       "        -0.0572036 , -0.06772855,  0.11497291, -0.04428074, -0.04428074,\n",
       "        -0.02554881, -0.02554881, -0.02554881, -0.15060474, -0.19471695,\n",
       "        -0.18361765, -0.27392529, -0.08103079,  0.96348424, -0.05114772,\n",
       "        -0.06772855, -0.63245553, -0.16156862, -0.23153455,  0.51362315,\n",
       "        -0.08501372, -0.48404495, -0.06268391, -0.04428074, -0.02554881,\n",
       "        -0.08501372, -0.05114772, -0.0572036 ,  0.        , -0.04428074,\n",
       "        -0.18550729, -0.03614327, -0.21873932, -0.40607095, -0.02554881,\n",
       "        -0.42656578,  3.63241579, -0.03614327, -0.10900086, -0.75225232,\n",
       "        -0.39730968, -0.15507449, -0.03614327, -0.09248044, -0.14128015,\n",
       "        -0.03614327, -0.21709709,  2.61178647, -0.06772855, -0.4222847 ,\n",
       "        -0.30439873, -0.06268391, -0.11785113, -0.75118953, -0.38957103,\n",
       "        -0.17784413,  1.49471643, -1.23850083, -0.29404677,  1.16553058,\n",
       "        -0.90114191, -0.14128015, -0.05114772, -0.03614327, -0.08882312,\n",
       "        -0.05114772, -0.02554881, -0.06268391,  0.84430395, -0.12066439,\n",
       "        -0.26557622, -0.08501372, -0.59417591, -0.24973999, -0.0724286 ,\n",
       "        -0.04428074, -0.09600307, -0.0572036 , -0.05114772, -0.30567621,\n",
       "        -0.05114772,  0.40170093,  0.        ,  0.        ,  0.        ,\n",
       "         0.        ,  0.        ,  0.        ,  0.        ,  0.        ],\n",
       "       [ 1.2387832 , -0.96255513,  2.45737588, -1.7993022 , -1.36556551,\n",
       "         0.74182915,  0.03428627,  0.21232686,  0.62035972, -0.50242615,\n",
       "         0.94106141,  0.75667835, -0.5733855 ,  0.99426898, -0.20654068,\n",
       "         0.56430224,  0.14162878, -0.63369686,  1.15139306, -0.33413956,\n",
       "        -0.86819095,  0.87924237,  0.27529888,  0.28595565,  0.91802808,\n",
       "        -0.10406774, -0.22118916,  1.13830408, -0.26179453,  0.77389466,\n",
       "         1.26212967,  0.19710525, -0.20048856,  0.71227552,  0.23964557,\n",
       "        -0.94235452, -0.98967464,  0.29619913, -0.79577036,  0.0692413 ,\n",
       "         0.27597398,  0.2767261 ,  0.31544799,  0.49107879,  0.05455274,\n",
       "        -0.38915648, -0.09781913, -0.28722068, -0.06412177, -0.10403697,\n",
       "        -0.80307912, -1.36262731, -0.09940535,  4.57165178, -0.02554881,\n",
       "        -0.08103079, -1.93170429, -0.41583058,  0.06268391, -0.21544462,\n",
       "        -0.14128015,  0.34136951, -0.26698095,  6.03243267, -0.06268391,\n",
       "        -1.68300327, -0.05114772, -0.09248044, -0.18738039, -0.10589486,\n",
       "        -0.31326911, -0.19471695, -0.28344006, -0.24528754, -0.03614327,\n",
       "        -0.03614327, -0.18738039, -0.02554881, -0.11202472, -0.20006783,\n",
       "        -0.41798642, -0.08501372, -0.21210793, -0.15285446, -0.25121066,\n",
       "        -0.29273546, -0.12611333, -0.24378948, -0.21210793,  3.93495501,\n",
       "        -0.13389655, -0.16156862, -0.09600307, -0.23618875,  0.40607095,\n",
       "        -0.07684733, -0.12341713, -0.09940535, -0.12611333, -0.04428074,\n",
       "        -0.0572036 , -0.06772855,  0.11497291, -0.04428074, -0.04428074,\n",
       "        -0.02554881, -0.02554881, -0.02554881, -0.15060474, -0.19471695,\n",
       "         5.44609952, -0.27392529, -0.08103079, -1.03789969, -0.05114772,\n",
       "        -0.06772855,  1.58113883, -0.16156862, -0.23153455,  0.51362315,\n",
       "        -0.08501372, -0.48404495, -0.06268391, -0.04428074, -0.02554881,\n",
       "        -0.08501372, -0.05114772, -0.0572036 ,  0.        , -0.04428074,\n",
       "        -0.18550729, -0.03614327, -0.21873932, -0.40607095, -0.02554881,\n",
       "         2.34430431, -0.27529888, -0.03614327, -0.10900086, -0.75225232,\n",
       "        -0.39730968, -0.15507449, -0.03614327, -0.09248044, -0.14128015,\n",
       "        -0.03614327, -0.21709709, -0.38287969, -0.06772855,  2.36807065,\n",
       "        -0.30439873, -0.06268391, -0.11785113, -0.75118953, -0.38957103,\n",
       "        -0.17784413, -0.66902322,  0.8074278 , -0.29404677, -0.85797834,\n",
       "         1.10970314, -0.14128015, -0.05114772, -0.03614327, -0.08882312,\n",
       "        -0.05114772, -0.02554881, -0.06268391, -1.18440758, -0.12066439,\n",
       "        -0.26557622, -0.08501372,  1.68300327, -0.24973999, -0.0724286 ,\n",
       "        -0.04428074, -0.09600307, -0.0572036 , -0.05114772, -0.30567621,\n",
       "        -0.05114772,  0.40170093,  0.        ,  0.        ,  0.        ,\n",
       "         0.        ,  0.        ,  0.        ,  0.        ,  0.        ]])"
      ]
     },
     "execution_count": 13,
     "metadata": {},
     "output_type": "execute_result"
    }
   ],
   "source": [
    "# Check the scaled X_test\n",
    "X_test[:2]"
   ]
  },
  {
   "cell_type": "markdown",
   "metadata": {},
   "source": [
    "## Model Prep: Baseline model\n",
    "---"
   ]
  },
  {
   "cell_type": "code",
   "execution_count": 14,
   "metadata": {},
   "outputs": [],
   "source": [
    "# Instantiate 3 models, LinearRegression, LassoCV and RidgeCV.\n",
    "lrCV = LinearRegression()\n",
    "lassoCV = LassoCV()\n",
    "ridgeCV = RidgeCV()"
   ]
  },
  {
   "cell_type": "markdown",
   "metadata": {},
   "source": [
    "> Evaluating `cross_val_score` R2-score for all `LinearRegression` model."
   ]
  },
  {
   "cell_type": "code",
   "execution_count": 15,
   "metadata": {},
   "outputs": [
    {
     "name": "stdout",
     "output_type": "stream",
     "text": [
      "The R2 score for each fold in LinearRegression model for training data is: \n",
      "[-1.11582932e+22 -9.70678462e+20 -7.11205283e+23 -5.10936477e+21\n",
      " -6.81987118e+20]\n",
      "\n",
      "The mean R2 score for LinearRegression model for training data is: -1.4582512137737934e+23\n"
     ]
    }
   ],
   "source": [
    "# cross_val_score for LinearRegression() model\n",
    "\n",
    "lrCV_score = cross_val_score(lrCV, X_train, y_train, cv=5)\n",
    "\n",
    "print('The R2 score for each fold in LinearRegression model for training data is: \\n{}'.format(lrCV_score))\n",
    "print('\\nThe mean R2 score for LinearRegression model for training data is: {}'. format(lrCV_score.mean()))"
   ]
  },
  {
   "cell_type": "markdown",
   "metadata": {},
   "source": [
    "> Evaluating `cross_val_score` R2-score for all `LassoCV` model."
   ]
  },
  {
   "cell_type": "code",
   "execution_count": 16,
   "metadata": {},
   "outputs": [
    {
     "ename": "NameError",
     "evalue": "name 'lasso' is not defined",
     "output_type": "error",
     "traceback": [
      "\u001b[0;31m---------------------------------------------------------------------------\u001b[0m",
      "\u001b[0;31mNameError\u001b[0m                                 Traceback (most recent call last)",
      "\u001b[0;32m<ipython-input-16-210c53c05a80>\u001b[0m in \u001b[0;36m<module>\u001b[0;34m\u001b[0m\n\u001b[0;32m----> 1\u001b[0;31m \u001b[0mbase_lasso_score\u001b[0m \u001b[0;34m=\u001b[0m \u001b[0mcross_val_score\u001b[0m\u001b[0;34m(\u001b[0m\u001b[0mlasso\u001b[0m\u001b[0;34m,\u001b[0m \u001b[0mX_train\u001b[0m\u001b[0;34m,\u001b[0m \u001b[0my_train\u001b[0m\u001b[0;34m,\u001b[0m\u001b[0mcv\u001b[0m\u001b[0;34m=\u001b[0m\u001b[0;36m5\u001b[0m\u001b[0;34m)\u001b[0m\u001b[0;34m;\u001b[0m\u001b[0;34m\u001b[0m\u001b[0;34m\u001b[0m\u001b[0m\n\u001b[0m\u001b[1;32m      2\u001b[0m \u001b[0mprint\u001b[0m\u001b[0;34m(\u001b[0m\u001b[0;34m\"The R2 score for lasso model is : {}\"\u001b[0m\u001b[0;34m.\u001b[0m\u001b[0mformat\u001b[0m\u001b[0;34m(\u001b[0m\u001b[0mbase_lasso_score\u001b[0m\u001b[0;34m.\u001b[0m\u001b[0mmean\u001b[0m\u001b[0;34m(\u001b[0m\u001b[0;34m)\u001b[0m\u001b[0;34m)\u001b[0m\u001b[0;34m)\u001b[0m\u001b[0;34m\u001b[0m\u001b[0;34m\u001b[0m\u001b[0m\n",
      "\u001b[0;31mNameError\u001b[0m: name 'lasso' is not defined"
     ]
    }
   ],
   "source": [
    "base_lasso_score = cross_val_score(lasso, X_train, y_train,cv=5);\n",
    "print(\"The R2 score for lasso model is : {}\".format(base_lasso_score.mean()))"
   ]
  },
  {
   "cell_type": "markdown",
   "metadata": {},
   "source": [
    "> Evaluating `cross_val_score` R2-score for all `RidgeCV` model."
   ]
  },
  {
   "cell_type": "code",
   "execution_count": null,
   "metadata": {},
   "outputs": [],
   "source": [
    "base_ridge_score = > Evaluating `cross_val_score` R2-score for all `LinearRegression` model.cross_val_score(ridge, X_train, y_train,cv=5);\n",
    "print(\"The R2 score for ridge model is : {}\".format(base_ridge_score.mean()))"
   ]
  },
  {
   "cell_type": "markdown",
   "metadata": {},
   "source": [
    "_R2 score for linear regression indicates that model complexity is too high. Therefore, its best to use regularization using Lasso & Ridge._\n",
    "\n",
    "When comparing lasso and ridge, lasso seems to be performing slightly better than ridge."
   ]
  },
  {
   "cell_type": "markdown",
   "metadata": {},
   "source": [
    "## Model Prep: building models with optimum parameters.\n",
    "---\n",
    "\n",
    "Models I will be evaluating `LassoCV` and `RidgeCV` and `ElasticNetCV`."
   ]
  },
  {
   "cell_type": "code",
   "execution_count": null,
   "metadata": {},
   "outputs": [],
   "source": [
    "# Instantiate 2 models, LassoCV and RidgeCV.\n",
    "lassoCV = LassoCV()\n",
    "ridgeCV = RidgeCV()"
   ]
  },
  {
   "cell_type": "markdown",
   "metadata": {},
   "source": [
    "## Cross validation\n",
    "---\n",
    "\n",
    "Evaluating `cross_val_score` R2-score for 3 models with optimum parameters:<br>\n",
    "1. Lasso\n",
    "2. Ridge\n",
    "3. ElasticNet"
   ]
  },
  {
   "cell_type": "markdown",
   "metadata": {},
   "source": [
    "_R2 score for linear regression indicates that model complexity is too high. Therefore, its best to use regularization using Lasso & Ridge._"
   ]
  },
  {
   "cell_type": "markdown",
   "metadata": {},
   "source": [
    "> Finding the optimum alpha for `Lasso` model **and** <br>\n",
    "Evaluating `cross_val_score` R2-score with optimum alpha value in `Lasso` model.<br>\n"
   ]
  },
  {
   "cell_type": "code",
   "execution_count": null,
   "metadata": {},
   "outputs": [],
   "source": [
    "# Find optimum alpha for Lasso model.\n",
    "lassoCV = LassoCV(cv=10,n_alphas=200).fit(X_train, y_train)\n",
    "\n",
    "print('The optimum alpha value for LassoCV model is: {}'.format(lassoCV.alpha_))"
   ]
  },
  {
   "cell_type": "code",
   "execution_count": null,
   "metadata": {},
   "outputs": [],
   "source": [
    "# Instantiate the Lasso() model with optimum alpha value\n",
    "lasso = Lasso(alpha=lassoCV.alpha_)"
   ]
  },
  {
   "cell_type": "code",
   "execution_count": null,
   "metadata": {},
   "outputs": [],
   "source": [
    "# Calculate the cross_val_score R2 score for Lasso model\n",
    "\n",
    "lasso_score = cross_val_score(lasso, X_train, y_train,cv=5);\n",
    "\n",
    "print('The R2 score for each fold in Lasso model for training data is: \\n{}'.format(lasso_score))\n",
    "print('\\nThe mean R2 score for Lasso model for training data is: {}'. format(lasso_score.mean()))"
   ]
  },
  {
   "cell_type": "markdown",
   "metadata": {},
   "source": [
    "> Finding the optimum alpha for `Ridge` model **and** <br>\n",
    "Evaluating `cross_val_score` R2-score with optimum alpha value in `Ridge` model.<br>"
   ]
  },
  {
   "cell_type": "code",
   "execution_count": null,
   "metadata": {},
   "outputs": [],
   "source": [
    "# calculate the optimum alpha for Ridge model\n",
    "\n",
    "r_alphas = list(np.logspace(-5, 5, 200))\n",
    "\n",
    "#Iterate through the r_alphas and find the optimal alpha\n",
    "ridgeCV = RidgeCV(alphas=[index for index in r_alphas]).fit(X_train, y_train)\n",
    "print('The optimum alpha value for Ridge model is: {}'.format(ridgeCV.alpha_))"
   ]
  },
  {
   "cell_type": "code",
   "execution_count": null,
   "metadata": {},
   "outputs": [],
   "source": [
    "# Instantiate the Ridge() model with optimum alpha value\n",
    "ridge = Ridge(alpha = ridgeCV.alpha_)\n",
    "\n",
    "# Calculate the cross_val_score R2 score for Lasso model\n",
    "ridge_score = cross_val_score(ridge, X_train, y_train, cv=5)\n",
    "\n",
    "print('The R2 score for each fold in Ridge model for training data is: \\n{}'.format(ridge_score))\n",
    "print('\\nThe mean R2 score for Ridge model for training data is: {}'. format(ridge_score.mean()))"
   ]
  },
  {
   "cell_type": "markdown",
   "metadata": {},
   "source": [
    "> Finding the optimum alpha&ratio for `ElasticNet` model **and** <br>\n",
    "Evaluating `cross_val_score` R2-score with optimum alpha and ratio value in `ElasticNet` model.<br>"
   ]
  },
  {
   "cell_type": "code",
   "execution_count": null,
   "metadata": {},
   "outputs": [],
   "source": [
    "# Import ElasticNet,ElasticNetCV models from sklearn\n",
    "from sklearn.linear_model import ElasticNet, ElasticNetCV\n",
    "enet_ratio = [0.1,0.3,0.5,0.8,0.9]\n",
    "\n",
    "#Instantiate the model\n",
    "enet_model = ElasticNetCV(n_alphas=100, l1_ratio=enet_ratio, cv=5)\n",
    "\n",
    "#Fit the model\n",
    "enet_model = enet_model.fit(X_train, y_train)\n",
    "\n",
    "# Here is the optimal value of alpha & l1-ratio\n",
    "enet_alpha = enet_model.alpha_\n",
    "enet_l1ratio = enet_model.l1_ratio_\n",
    "print('Optimum alpha and l1ratio are : {}, {}'.format(enet_alpha,enet_l1ratio))\n",
    "\n",
    "#Instantiate the ElasticNet model with optimum values and calculate the R2 score\n",
    "enet_model = ElasticNet(alpha=enet_alpha,l1_ratio=enet_l1ratio)\n",
    "\n",
    "enet_score = cross_val_score(enet_model, X_test, y_test,cv=10);\n",
    "\n",
    "print('\\nThe R2 score for each fold in ElasticNet model for training data is: \\n{}'.format(enet_score))\n",
    "print('\\nThe mean R2 score for ElasticNet model for training data is: {}'. format(enet_score.mean()))"
   ]
  },
  {
   "cell_type": "markdown",
   "metadata": {},
   "source": [
    "------\n",
    "#### Plotting the coefficients for both Lasso model <br>\n",
    "This will help to understand what features dominate the `salesprice` the most.\n"
   ]
  },
  {
   "cell_type": "code",
   "execution_count": null,
   "metadata": {
    "scrolled": true
   },
   "outputs": [],
   "source": [
    "# Create a dataframe for the lasso coefficients\n",
    "coef_lasso = pd.DataFrame((lassoCV.coef_), index=predictor_columns)\n",
    "coef_lasso.columns=['coefficients']\n",
    "\n",
    "print(\"Total number of features in X_train were: {}\".format(len(predictor_columns)))\n",
    "print(\"-------------------------\")\n",
    "print(\"Number of regression coefficients shrinked to zero by lasso are: {}\".format(coef_lasso[coef_lasso['coefficients']==0.000000].count()[0]))"
   ]
  },
  {
   "cell_type": "code",
   "execution_count": null,
   "metadata": {},
   "outputs": [],
   "source": [
    "# Dropping the features with coefficients of zero.\n",
    "coef_lasso.drop(coef_lasso[coef_lasso['coefficients']==0.000000].index, inplace=True)\n",
    "\n",
    "# Sort the coefficients in descending order\n",
    "coef_lasso.sort_values(['coefficients'], ascending=False, inplace=True)\n",
    "\n",
    "#Reset the index\n",
    "coef_lasso.reset_index\n",
    "\n",
    "# Plot the coefficients\n",
    "fig = plt.figure(figsize=(15,25))\n",
    "ax = sns.barplot(y=coef_lasso.index,x='coefficients', data=coef_lasso, orient=\"h\");"
   ]
  },
  {
   "cell_type": "code",
   "execution_count": null,
   "metadata": {},
   "outputs": [],
   "source": [
    "# Print top 10 features with their coefficients (lasso model)\n",
    "\n",
    "coef_lasso[:10]"
   ]
  },
  {
   "cell_type": "code",
   "execution_count": null,
   "metadata": {},
   "outputs": [],
   "source": [
    "# Print top 10 negatively correlated features with their coefficients (lasso model)\n",
    "\n",
    "coef_lasso[-10:]"
   ]
  },
  {
   "cell_type": "markdown",
   "metadata": {},
   "source": [
    "#### Plotting the coefficients for  Ridge model <br>"
   ]
  },
  {
   "cell_type": "code",
   "execution_count": null,
   "metadata": {},
   "outputs": [],
   "source": [
    "# Create a dataframe for the ridge coefficients\n",
    "coef = pd.DataFrame((ridgeCV.coef_), index=predictor_columns)\n",
    "coef.columns=['coefficients']\n",
    "\n",
    "print(\"Total number of features in X_train were: {}\".format(len(predictor_columns)))\n",
    "print(\"-------------------------\")\n",
    "print(\"Number of regression coefficients shrinked to zero by ridge are: {}\".format(coef[coef['coefficients']==0.000000].count()[0]))"
   ]
  },
  {
   "cell_type": "code",
   "execution_count": null,
   "metadata": {},
   "outputs": [],
   "source": [
    "# Dropping the features with coefficients of zero.\n",
    "coef.drop(coef[coef['coefficients']==0.000000].index, inplace=True)\n",
    "\n",
    "# Sort the coefficients in descending order\n",
    "coef.sort_values(['coefficients'], ascending=False, inplace=True)\n",
    "\n",
    "# Reset the index of dataframe\n",
    "coef.reset_index\n",
    "\n",
    "#Plot the coefficients\n",
    "fig = plt.figure(figsize=(15,45))\n",
    "ax = sns.barplot(y=coef.index,x='coefficients', data=coef, orient=\"h\");"
   ]
  },
  {
   "cell_type": "code",
   "execution_count": null,
   "metadata": {},
   "outputs": [],
   "source": [
    "# Print top 10 features with their coefficients (ridge model)\n",
    "\n",
    "coef[:10]"
   ]
  },
  {
   "cell_type": "code",
   "execution_count": null,
   "metadata": {},
   "outputs": [],
   "source": [
    "# Print top 10 negatively correlated features with their coefficients (ridge model)\n",
    "\n",
    "coef[-10:]"
   ]
  },
  {
   "cell_type": "markdown",
   "metadata": {},
   "source": [
    "On comparing the R2 score for all 4 models: `Lasso` seems to perform better than others. <br>\n",
    "So, I will be using `Lasso` model for further training and testing."
   ]
  },
  {
   "cell_type": "markdown",
   "metadata": {},
   "source": [
    "## Model Fitting and Evaluation\n",
    "---\n",
    "\n",
    "`LassoCV` seems to be doing the best. <br>\n",
    "\n",
    "- change to lasso and then optimum alpha for predicted ones.\n",
    "predicted - split\n",
    "scale\n",
    "fit n predict\n",
    "\n",
    "So, I will be fitting the model to the training data, evaluate the training and test scores and predicting the `salesprice`."
   ]
  },
  {
   "cell_type": "code",
   "execution_count": null,
   "metadata": {},
   "outputs": [],
   "source": [
    "# Instantiate the Lasso model with already calculated optimum alpha value\n",
    "lasso = Lasso(alpha = lassoCV.alpha_)\n",
    "\n",
    "# Fit the model with X_train and y_train data\n",
    "lasso.fit(X_train, y_train)"
   ]
  },
  {
   "cell_type": "code",
   "execution_count": null,
   "metadata": {},
   "outputs": [],
   "source": [
    "# Calculate the R2 score on training data\n",
    "r2_score_train = lasso.score(X_train, y_train)\n",
    "print('The R2 score for train data is: {:.4f}'.format(r2_score_train))"
   ]
  },
  {
   "cell_type": "code",
   "execution_count": null,
   "metadata": {},
   "outputs": [],
   "source": [
    "# Predicting the salesprice for X_test\n",
    "pred = lasso.predict(X_test)\n",
    "\n",
    "# Print first 5 predictions done.\n",
    "pred[:5]"
   ]
  },
  {
   "cell_type": "code",
   "execution_count": null,
   "metadata": {},
   "outputs": [],
   "source": [
    "# Calculate the R2 score for predictions\n",
    "\n",
    "r2_score_pred = r2_score(y_test, pred)\n",
    "print('The predictions R2 score is : {}'.format(r2_score_pred))"
   ]
  },
  {
   "cell_type": "code",
   "execution_count": null,
   "metadata": {},
   "outputs": [],
   "source": [
    "# Calculate the residuals\n",
    "residuals = y_test - pred\n",
    "\n",
    "# Print first 5 residuals\n",
    "residuals[:5]"
   ]
  },
  {
   "cell_type": "code",
   "execution_count": null,
   "metadata": {},
   "outputs": [],
   "source": [
    "# Plot the histogram for residuals\n",
    "residuals.hist(bins=50)\n",
    "plt.title('Histogram for residuals');"
   ]
  },
  {
   "cell_type": "code",
   "execution_count": null,
   "metadata": {},
   "outputs": [],
   "source": [
    "# Residual plot\n",
    "fig = plt.figure(figsize=(10,7))\n",
    "\n",
    "ax = plt.scatter(x=pred,y=residuals)\n",
    "plt.plot([0,700000], [0,0], color='k', linestyle='--', linewidth=2);\n",
    "plt.ylabel('Residuals')\n",
    "plt.xlabel('Predicted values')\n",
    "plt.title('Residual plot',fontsize=20);\n",
    "\n",
    "#plt.ylim(-100000,)\n",
    "#plt.xlim(-100000,)"
   ]
  },
  {
   "cell_type": "markdown",
   "metadata": {},
   "source": [
    "**Residual plot interpretation**<br>\n",
    "_The x-axis represents our predicted values and y-axis represnts the residual for each predicted value._\n",
    "\n",
    "_The distance from the line at 0 is how bad the prediction was for that value._\n",
    "\n",
    "_Since, in this residual plot, values are not substantially not far from line at 0, we can say that accuracy of model is good._\n"
   ]
  },
  {
   "cell_type": "code",
   "execution_count": null,
   "metadata": {},
   "outputs": [],
   "source": [
    "# Scatter plot to understand the relationship between predicted and actual values.\n",
    "fig = plt.figure(figsize=(10,7))\n",
    "ax = sns.regplot(y_test, pred)\n",
    "ax.set_title('Actual vs predicted values', fontsize=20)\n",
    "ax.set_xlabel('Actual values', fontsize=15)\n",
    "ax.set_ylabel('Predicted values', fontsize=15);"
   ]
  },
  {
   "cell_type": "markdown",
   "metadata": {},
   "source": [
    "**Predicted vs Actual values plot interpretation**<br>\n",
    "Predictions have close correlation with the Actual values. Therefore, we can say that accuracy of model is good."
   ]
  },
  {
   "cell_type": "code",
   "execution_count": null,
   "metadata": {
    "scrolled": true
   },
   "outputs": [],
   "source": [
    "# Distribution plot for predicted and actual values\n",
    "fig = plt.figure(figsize=(15,7))\n",
    "\n",
    "ax1 = sns.distplot(y_test,hist=False, label='Actual test values', color='b')\n",
    "sns.distplot(pred,hist=False,label='Predicted values', color='r',ax=ax1)\n",
    "\n",
    "ax1.set_title('Distribution plot for actual and predicted values',fontsize=20);"
   ]
  },
  {
   "cell_type": "markdown",
   "metadata": {},
   "source": [
    "### Feature selection based on lasso.\n",
    "\n",
    "It makes sense to drop the features whose coefficients became zero by lasso from our initial predictors list."
   ]
  },
  {
   "cell_type": "code",
   "execution_count": null,
   "metadata": {},
   "outputs": [],
   "source": [
    "# Take the features from lasso coefficients\n",
    "final_predictor_features = list(coef_lasso.index)\n",
    "\n",
    "print(\"Features used are: {}\".format(len(final_predictor_features)))"
   ]
  },
  {
   "cell_type": "markdown",
   "metadata": {},
   "source": [
    "## Model fitting on entire X_train dataset.\n",
    "\n",
    "In this step, I will be training my model on entire training data.<br>\n",
    "\n",
    "So, X_train_final will be entire dataset minus the target variable.<br>\n",
    "y_train_final will be `saleprice` column in clean_train data.\n",
    "\n",
    "X_test_final will be predictor columns, like in X_train_final."
   ]
  },
  {
   "cell_type": "code",
   "execution_count": null,
   "metadata": {},
   "outputs": [],
   "source": [
    "# To see all columns in jupyter notebook\n",
    "pd.set_option('display.max_columns', 200)"
   ]
  },
  {
   "cell_type": "code",
   "execution_count": null,
   "metadata": {},
   "outputs": [],
   "source": [
    "# Creating the feature and target variables.\n",
    "X_train_final = clean_train[final_predictor_features]\n",
    "y_train_final = clean_train['saleprice']"
   ]
  },
  {
   "cell_type": "code",
   "execution_count": null,
   "metadata": {},
   "outputs": [],
   "source": [
    "# Creating the X_test_final data\n",
    "X_test_final = clean_test[final_predictor_features]"
   ]
  },
  {
   "cell_type": "markdown",
   "metadata": {},
   "source": [
    "### Scaling the X_train_final and X_test_final data"
   ]
  },
  {
   "cell_type": "code",
   "execution_count": null,
   "metadata": {},
   "outputs": [],
   "source": [
    "# Check the first 2 rows of X_train_final\n",
    "X_train_final.head(2)"
   ]
  },
  {
   "cell_type": "code",
   "execution_count": null,
   "metadata": {},
   "outputs": [],
   "source": [
    "# Check the first 2 rows of X_train_final\n",
    "X_test_final.head(2)"
   ]
  },
  {
   "cell_type": "code",
   "execution_count": null,
   "metadata": {},
   "outputs": [],
   "source": [
    "#Instantiate a StandardScaler object\n",
    "ss = StandardScaler()\n",
    "\n",
    "#Fit the X_train_final data into StandardScaler object\n",
    "ss.fit(X_train_final)\n",
    "\n",
    "#Apply the fit method to X_train_final\n",
    "X_train_final = ss.transform(X_train_final)\n",
    "X_test_final = ss.transform(X_test_final)"
   ]
  },
  {
   "cell_type": "code",
   "execution_count": null,
   "metadata": {},
   "outputs": [],
   "source": [
    "# Check the scaled X_train_final\n",
    "X_train_final[:2]"
   ]
  },
  {
   "cell_type": "code",
   "execution_count": null,
   "metadata": {},
   "outputs": [],
   "source": [
    "# Check the scaled X_test_final\n",
    "X_test_final[:2]"
   ]
  },
  {
   "cell_type": "code",
   "execution_count": null,
   "metadata": {},
   "outputs": [],
   "source": [
    "#Instantiate the LassoCV() model\n",
    "lasso_final = LassoCV()"
   ]
  },
  {
   "cell_type": "code",
   "execution_count": null,
   "metadata": {},
   "outputs": [],
   "source": [
    "# Find optimum alpha for Lasso model.\n",
    "lasso_final = LassoCV(cv=10,n_alphas=200).fit(X_train_final, y_train_final)\n",
    "\n",
    "print('The optimum alpha value for LassoCV model is: {}'.format(lassoCV.alpha_))"
   ]
  },
  {
   "cell_type": "code",
   "execution_count": null,
   "metadata": {},
   "outputs": [],
   "source": [
    "# Instantiate the Lasso() model with optimum alpha value\n",
    "lasso = Lasso(alpha=lasso_final.alpha_)\n",
    "\n",
    "# Calculate the cross_val_score R2 score for Lasso model\n",
    "lasso_score = cross_val_score(lasso, X_train_final, y_train_final,cv=5);\n",
    "\n",
    "print('The R2 score for each fold in Lasso model for training data is: \\n{}'.format(lasso_score))\n",
    "print('\\nThe mean R2 score for Lasso model for training data is: {}'. format(lasso_score.mean()))"
   ]
  },
  {
   "cell_type": "code",
   "execution_count": null,
   "metadata": {},
   "outputs": [],
   "source": [
    "# Fit the model with X_train_final and y_train_final data\n",
    "\n",
    "lasso.fit(X_train_final, y_train_final)"
   ]
  },
  {
   "cell_type": "code",
   "execution_count": null,
   "metadata": {},
   "outputs": [],
   "source": [
    "# Calculate the R2 score on training data\n",
    "r2_score_train = lasso.score(X_train_final, y_train_final)\n",
    "print('The R2 score for train data is: {:.4f}'.format(r2_score_train))"
   ]
  },
  {
   "cell_type": "code",
   "execution_count": null,
   "metadata": {},
   "outputs": [],
   "source": []
  },
  {
   "cell_type": "code",
   "execution_count": null,
   "metadata": {},
   "outputs": [],
   "source": []
  },
  {
   "cell_type": "code",
   "execution_count": null,
   "metadata": {},
   "outputs": [],
   "source": [
    "\n"
   ]
  },
  {
   "cell_type": "code",
   "execution_count": null,
   "metadata": {},
   "outputs": [],
   "source": []
  },
  {
   "cell_type": "markdown",
   "metadata": {},
   "source": [
    "# Prediction\n",
    "\n",
    "Predict the values of `saleprice` for the X_test_final data."
   ]
  },
  {
   "cell_type": "code",
   "execution_count": null,
   "metadata": {},
   "outputs": [],
   "source": [
    "# Predicting the salesprice for X_test_final\n",
    "predictions_final1 = lasso.predict(X_test_final)\n",
    "\n",
    "# Print first 5 predictions done.\n",
    "predictions_final1[:5]"
   ]
  },
  {
   "cell_type": "code",
   "execution_count": null,
   "metadata": {},
   "outputs": [],
   "source": [
    "clean_test['id'].head()"
   ]
  },
  {
   "cell_type": "code",
   "execution_count": null,
   "metadata": {},
   "outputs": [],
   "source": [
    "# Creating the dataframe for submissions\n",
    "predicted_saleprice1 = pd.DataFrame(clean_test['id'])\n",
    "predicted_saleprice1['SalePrice'] = predictions_final1"
   ]
  },
  {
   "cell_type": "code",
   "execution_count": null,
   "metadata": {},
   "outputs": [],
   "source": [
    "# Check the dataframe created\n",
    "predicted_saleprice1.head()"
   ]
  },
  {
   "cell_type": "code",
   "execution_count": null,
   "metadata": {},
   "outputs": [],
   "source": [
    "# Save the predictions in csv format\n",
    "predicted_saleprice1.to_csv('../datasets/predictions1.csv',index=False)"
   ]
  },
  {
   "cell_type": "code",
   "execution_count": null,
   "metadata": {},
   "outputs": [],
   "source": []
  }
 ],
 "metadata": {
  "kernelspec": {
   "display_name": "Python 3",
   "language": "python",
   "name": "python3"
  },
  "language_info": {
   "codemirror_mode": {
    "name": "ipython",
    "version": 3
   },
   "file_extension": ".py",
   "mimetype": "text/x-python",
   "name": "python",
   "nbconvert_exporter": "python",
   "pygments_lexer": "ipython3",
   "version": "3.7.4"
  }
 },
 "nbformat": 4,
 "nbformat_minor": 2
}
