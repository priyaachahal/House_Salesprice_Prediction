{
 "cells": [
  {
   "cell_type": "markdown",
   "metadata": {},
   "source": [
    "## Importing libaries\n",
    "---\n",
    "\n",
    "Importing the libraries needed for this project."
   ]
  },
  {
   "cell_type": "code",
   "execution_count": 1,
   "metadata": {},
   "outputs": [
    {
     "name": "stderr",
     "output_type": "stream",
     "text": [
      "/Users/priya/opt/anaconda3/lib/python3.7/site-packages/statsmodels/tools/_testing.py:19: FutureWarning: pandas.util.testing is deprecated. Use the functions in the public API at pandas.testing instead.\n",
      "  import pandas.util.testing as tm\n"
     ]
    }
   ],
   "source": [
    "# import libraries to be used in this notebook\n",
    "import pandas as pd\n",
    "import seaborn as sns\n",
    "import statsmodels.formula.api as smf\n",
    "from sklearn.linear_model import LinearRegression,Lasso,LassoCV,Ridge,RidgeCV\n",
    "from sklearn import metrics\n",
    "from sklearn.model_selection import train_test_split,cross_val_score,KFold\n",
    "from sklearn.preprocessing import StandardScaler\n",
    "import numpy as np\n",
    "from sklearn.metrics import r2_score\n",
    "import matplotlib.pyplot as plt\n",
    "from sklearn.metrics import mean_squared_error\n",
    "\n",
    "# allow plots to appear directly in the notebook\n",
    "%matplotlib inline"
   ]
  },
  {
   "cell_type": "markdown",
   "metadata": {},
   "source": [
    "## Load the cleaned data\n",
    "\n",
    "---\n",
    "\n",
    "Reading the clean_train.csv and clean_test.csv data from datasets path."
   ]
  },
  {
   "cell_type": "code",
   "execution_count": 2,
   "metadata": {},
   "outputs": [
    {
     "data": {
      "text/html": [
       "<div>\n",
       "<style scoped>\n",
       "    .dataframe tbody tr th:only-of-type {\n",
       "        vertical-align: middle;\n",
       "    }\n",
       "\n",
       "    .dataframe tbody tr th {\n",
       "        vertical-align: top;\n",
       "    }\n",
       "\n",
       "    .dataframe thead th {\n",
       "        text-align: right;\n",
       "    }\n",
       "</style>\n",
       "<table border=\"1\" class=\"dataframe\">\n",
       "  <thead>\n",
       "    <tr style=\"text-align: right;\">\n",
       "      <th></th>\n",
       "      <th>id</th>\n",
       "      <th>pid</th>\n",
       "      <th>ms_subclass</th>\n",
       "      <th>lot_frontage</th>\n",
       "      <th>lot_area</th>\n",
       "      <th>lot_shape</th>\n",
       "      <th>utilities</th>\n",
       "      <th>land_slope</th>\n",
       "      <th>overall_qual</th>\n",
       "      <th>overall_cond</th>\n",
       "      <th>...</th>\n",
       "      <th>sale_type_Oth</th>\n",
       "      <th>sale_type_WD</th>\n",
       "      <th>exterior_1st_PreCast</th>\n",
       "      <th>exterior_2nd_Other</th>\n",
       "      <th>exterior_2nd_PreCast</th>\n",
       "      <th>heating_GasA</th>\n",
       "      <th>mas_vnr_type_CBlock</th>\n",
       "      <th>roof_matl_Metal</th>\n",
       "      <th>roof_matl_Roll</th>\n",
       "      <th>sale_type_VWD</th>\n",
       "    </tr>\n",
       "  </thead>\n",
       "  <tbody>\n",
       "    <tr>\n",
       "      <th>0</th>\n",
       "      <td>109</td>\n",
       "      <td>533352170</td>\n",
       "      <td>60</td>\n",
       "      <td>0</td>\n",
       "      <td>13517</td>\n",
       "      <td>1</td>\n",
       "      <td>3</td>\n",
       "      <td>3</td>\n",
       "      <td>6</td>\n",
       "      <td>8</td>\n",
       "      <td>...</td>\n",
       "      <td>0</td>\n",
       "      <td>1</td>\n",
       "      <td>0</td>\n",
       "      <td>0</td>\n",
       "      <td>0</td>\n",
       "      <td>0</td>\n",
       "      <td>0</td>\n",
       "      <td>0</td>\n",
       "      <td>0</td>\n",
       "      <td>0</td>\n",
       "    </tr>\n",
       "    <tr>\n",
       "      <th>1</th>\n",
       "      <td>544</td>\n",
       "      <td>531379050</td>\n",
       "      <td>60</td>\n",
       "      <td>43</td>\n",
       "      <td>11492</td>\n",
       "      <td>1</td>\n",
       "      <td>3</td>\n",
       "      <td>3</td>\n",
       "      <td>7</td>\n",
       "      <td>5</td>\n",
       "      <td>...</td>\n",
       "      <td>0</td>\n",
       "      <td>1</td>\n",
       "      <td>0</td>\n",
       "      <td>0</td>\n",
       "      <td>0</td>\n",
       "      <td>0</td>\n",
       "      <td>0</td>\n",
       "      <td>0</td>\n",
       "      <td>0</td>\n",
       "      <td>0</td>\n",
       "    </tr>\n",
       "    <tr>\n",
       "      <th>2</th>\n",
       "      <td>153</td>\n",
       "      <td>535304180</td>\n",
       "      <td>20</td>\n",
       "      <td>68</td>\n",
       "      <td>7922</td>\n",
       "      <td>4</td>\n",
       "      <td>3</td>\n",
       "      <td>3</td>\n",
       "      <td>5</td>\n",
       "      <td>7</td>\n",
       "      <td>...</td>\n",
       "      <td>0</td>\n",
       "      <td>1</td>\n",
       "      <td>0</td>\n",
       "      <td>0</td>\n",
       "      <td>0</td>\n",
       "      <td>0</td>\n",
       "      <td>0</td>\n",
       "      <td>0</td>\n",
       "      <td>0</td>\n",
       "      <td>0</td>\n",
       "    </tr>\n",
       "    <tr>\n",
       "      <th>3</th>\n",
       "      <td>318</td>\n",
       "      <td>916386060</td>\n",
       "      <td>60</td>\n",
       "      <td>73</td>\n",
       "      <td>9802</td>\n",
       "      <td>4</td>\n",
       "      <td>3</td>\n",
       "      <td>3</td>\n",
       "      <td>5</td>\n",
       "      <td>5</td>\n",
       "      <td>...</td>\n",
       "      <td>0</td>\n",
       "      <td>1</td>\n",
       "      <td>0</td>\n",
       "      <td>0</td>\n",
       "      <td>0</td>\n",
       "      <td>0</td>\n",
       "      <td>0</td>\n",
       "      <td>0</td>\n",
       "      <td>0</td>\n",
       "      <td>0</td>\n",
       "    </tr>\n",
       "    <tr>\n",
       "      <th>4</th>\n",
       "      <td>255</td>\n",
       "      <td>906425045</td>\n",
       "      <td>50</td>\n",
       "      <td>82</td>\n",
       "      <td>14235</td>\n",
       "      <td>1</td>\n",
       "      <td>3</td>\n",
       "      <td>3</td>\n",
       "      <td>6</td>\n",
       "      <td>8</td>\n",
       "      <td>...</td>\n",
       "      <td>0</td>\n",
       "      <td>1</td>\n",
       "      <td>0</td>\n",
       "      <td>0</td>\n",
       "      <td>0</td>\n",
       "      <td>0</td>\n",
       "      <td>0</td>\n",
       "      <td>0</td>\n",
       "      <td>0</td>\n",
       "      <td>0</td>\n",
       "    </tr>\n",
       "  </tbody>\n",
       "</table>\n",
       "<p>5 rows × 191 columns</p>\n",
       "</div>"
      ],
      "text/plain": [
       "    id        pid  ms_subclass  lot_frontage  lot_area  lot_shape  utilities  \\\n",
       "0  109  533352170           60             0     13517          1          3   \n",
       "1  544  531379050           60            43     11492          1          3   \n",
       "2  153  535304180           20            68      7922          4          3   \n",
       "3  318  916386060           60            73      9802          4          3   \n",
       "4  255  906425045           50            82     14235          1          3   \n",
       "\n",
       "   land_slope  overall_qual  overall_cond  ...  sale_type_Oth  sale_type_WD   \\\n",
       "0           3             6             8  ...              0              1   \n",
       "1           3             7             5  ...              0              1   \n",
       "2           3             5             7  ...              0              1   \n",
       "3           3             5             5  ...              0              1   \n",
       "4           3             6             8  ...              0              1   \n",
       "\n",
       "   exterior_1st_PreCast  exterior_2nd_Other  exterior_2nd_PreCast  \\\n",
       "0                     0                   0                     0   \n",
       "1                     0                   0                     0   \n",
       "2                     0                   0                     0   \n",
       "3                     0                   0                     0   \n",
       "4                     0                   0                     0   \n",
       "\n",
       "   heating_GasA  mas_vnr_type_CBlock  roof_matl_Metal  roof_matl_Roll  \\\n",
       "0             0                    0                0               0   \n",
       "1             0                    0                0               0   \n",
       "2             0                    0                0               0   \n",
       "3             0                    0                0               0   \n",
       "4             0                    0                0               0   \n",
       "\n",
       "   sale_type_VWD  \n",
       "0              0  \n",
       "1              0  \n",
       "2              0  \n",
       "3              0  \n",
       "4              0  \n",
       "\n",
       "[5 rows x 191 columns]"
      ]
     },
     "execution_count": 2,
     "metadata": {},
     "output_type": "execute_result"
    }
   ],
   "source": [
    "#Read the training data\n",
    "clean_train = pd.read_csv('../datasets/clean_train.csv')\n",
    "clean_train.head()"
   ]
  },
  {
   "cell_type": "code",
   "execution_count": 3,
   "metadata": {},
   "outputs": [
    {
     "data": {
      "text/html": [
       "<div>\n",
       "<style scoped>\n",
       "    .dataframe tbody tr th:only-of-type {\n",
       "        vertical-align: middle;\n",
       "    }\n",
       "\n",
       "    .dataframe tbody tr th {\n",
       "        vertical-align: top;\n",
       "    }\n",
       "\n",
       "    .dataframe thead th {\n",
       "        text-align: right;\n",
       "    }\n",
       "</style>\n",
       "<table border=\"1\" class=\"dataframe\">\n",
       "  <thead>\n",
       "    <tr style=\"text-align: right;\">\n",
       "      <th></th>\n",
       "      <th>id</th>\n",
       "      <th>pid</th>\n",
       "      <th>ms_subclass</th>\n",
       "      <th>lot_frontage</th>\n",
       "      <th>lot_area</th>\n",
       "      <th>lot_shape</th>\n",
       "      <th>utilities</th>\n",
       "      <th>land_slope</th>\n",
       "      <th>overall_qual</th>\n",
       "      <th>overall_cond</th>\n",
       "      <th>...</th>\n",
       "      <th>exterior_1st_CBlock</th>\n",
       "      <th>exterior_1st_ImStucc</th>\n",
       "      <th>exterior_1st_Stone</th>\n",
       "      <th>exterior_2nd_Stone</th>\n",
       "      <th>heating_OthW</th>\n",
       "      <th>heating_Wall</th>\n",
       "      <th>ms_zoning_C (all)</th>\n",
       "      <th>neighborhood_GrnHill</th>\n",
       "      <th>neighborhood_Landmrk</th>\n",
       "      <th>roof_matl_Membran</th>\n",
       "    </tr>\n",
       "  </thead>\n",
       "  <tbody>\n",
       "    <tr>\n",
       "      <th>0</th>\n",
       "      <td>2658</td>\n",
       "      <td>902301120</td>\n",
       "      <td>190</td>\n",
       "      <td>69</td>\n",
       "      <td>9142</td>\n",
       "      <td>4</td>\n",
       "      <td>3</td>\n",
       "      <td>3</td>\n",
       "      <td>6</td>\n",
       "      <td>8</td>\n",
       "      <td>...</td>\n",
       "      <td>0</td>\n",
       "      <td>0</td>\n",
       "      <td>0</td>\n",
       "      <td>0</td>\n",
       "      <td>0</td>\n",
       "      <td>0</td>\n",
       "      <td>0</td>\n",
       "      <td>0</td>\n",
       "      <td>0</td>\n",
       "      <td>0</td>\n",
       "    </tr>\n",
       "    <tr>\n",
       "      <th>1</th>\n",
       "      <td>2718</td>\n",
       "      <td>905108090</td>\n",
       "      <td>90</td>\n",
       "      <td>0</td>\n",
       "      <td>9662</td>\n",
       "      <td>1</td>\n",
       "      <td>3</td>\n",
       "      <td>3</td>\n",
       "      <td>5</td>\n",
       "      <td>4</td>\n",
       "      <td>...</td>\n",
       "      <td>0</td>\n",
       "      <td>0</td>\n",
       "      <td>0</td>\n",
       "      <td>0</td>\n",
       "      <td>0</td>\n",
       "      <td>0</td>\n",
       "      <td>0</td>\n",
       "      <td>0</td>\n",
       "      <td>0</td>\n",
       "      <td>0</td>\n",
       "    </tr>\n",
       "    <tr>\n",
       "      <th>2</th>\n",
       "      <td>2414</td>\n",
       "      <td>528218130</td>\n",
       "      <td>60</td>\n",
       "      <td>58</td>\n",
       "      <td>17104</td>\n",
       "      <td>1</td>\n",
       "      <td>3</td>\n",
       "      <td>3</td>\n",
       "      <td>7</td>\n",
       "      <td>5</td>\n",
       "      <td>...</td>\n",
       "      <td>0</td>\n",
       "      <td>0</td>\n",
       "      <td>0</td>\n",
       "      <td>0</td>\n",
       "      <td>0</td>\n",
       "      <td>0</td>\n",
       "      <td>0</td>\n",
       "      <td>0</td>\n",
       "      <td>0</td>\n",
       "      <td>0</td>\n",
       "    </tr>\n",
       "    <tr>\n",
       "      <th>3</th>\n",
       "      <td>1989</td>\n",
       "      <td>902207150</td>\n",
       "      <td>30</td>\n",
       "      <td>60</td>\n",
       "      <td>8520</td>\n",
       "      <td>4</td>\n",
       "      <td>3</td>\n",
       "      <td>3</td>\n",
       "      <td>5</td>\n",
       "      <td>6</td>\n",
       "      <td>...</td>\n",
       "      <td>0</td>\n",
       "      <td>0</td>\n",
       "      <td>0</td>\n",
       "      <td>0</td>\n",
       "      <td>0</td>\n",
       "      <td>0</td>\n",
       "      <td>0</td>\n",
       "      <td>0</td>\n",
       "      <td>0</td>\n",
       "      <td>0</td>\n",
       "    </tr>\n",
       "    <tr>\n",
       "      <th>4</th>\n",
       "      <td>625</td>\n",
       "      <td>535105100</td>\n",
       "      <td>20</td>\n",
       "      <td>0</td>\n",
       "      <td>9500</td>\n",
       "      <td>1</td>\n",
       "      <td>3</td>\n",
       "      <td>3</td>\n",
       "      <td>6</td>\n",
       "      <td>5</td>\n",
       "      <td>...</td>\n",
       "      <td>0</td>\n",
       "      <td>0</td>\n",
       "      <td>0</td>\n",
       "      <td>0</td>\n",
       "      <td>0</td>\n",
       "      <td>0</td>\n",
       "      <td>0</td>\n",
       "      <td>0</td>\n",
       "      <td>0</td>\n",
       "      <td>0</td>\n",
       "    </tr>\n",
       "  </tbody>\n",
       "</table>\n",
       "<p>5 rows × 190 columns</p>\n",
       "</div>"
      ],
      "text/plain": [
       "     id        pid  ms_subclass  lot_frontage  lot_area  lot_shape  utilities  \\\n",
       "0  2658  902301120          190            69      9142          4          3   \n",
       "1  2718  905108090           90             0      9662          1          3   \n",
       "2  2414  528218130           60            58     17104          1          3   \n",
       "3  1989  902207150           30            60      8520          4          3   \n",
       "4   625  535105100           20             0      9500          1          3   \n",
       "\n",
       "   land_slope  overall_qual  overall_cond  ...  exterior_1st_CBlock  \\\n",
       "0           3             6             8  ...                    0   \n",
       "1           3             5             4  ...                    0   \n",
       "2           3             7             5  ...                    0   \n",
       "3           3             5             6  ...                    0   \n",
       "4           3             6             5  ...                    0   \n",
       "\n",
       "   exterior_1st_ImStucc  exterior_1st_Stone  exterior_2nd_Stone  heating_OthW  \\\n",
       "0                     0                   0                   0             0   \n",
       "1                     0                   0                   0             0   \n",
       "2                     0                   0                   0             0   \n",
       "3                     0                   0                   0             0   \n",
       "4                     0                   0                   0             0   \n",
       "\n",
       "   heating_Wall  ms_zoning_C (all)  neighborhood_GrnHill  \\\n",
       "0             0                  0                     0   \n",
       "1             0                  0                     0   \n",
       "2             0                  0                     0   \n",
       "3             0                  0                     0   \n",
       "4             0                  0                     0   \n",
       "\n",
       "   neighborhood_Landmrk  roof_matl_Membran  \n",
       "0                     0                  0  \n",
       "1                     0                  0  \n",
       "2                     0                  0  \n",
       "3                     0                  0  \n",
       "4                     0                  0  \n",
       "\n",
       "[5 rows x 190 columns]"
      ]
     },
     "execution_count": 3,
     "metadata": {},
     "output_type": "execute_result"
    }
   ],
   "source": [
    "#Read the testing data\n",
    "clean_test = pd.read_csv('../datasets/clean_test.csv')\n",
    "clean_test.head()"
   ]
  },
  {
   "cell_type": "code",
   "execution_count": 4,
   "metadata": {},
   "outputs": [
    {
     "name": "stdout",
     "output_type": "stream",
     "text": [
      "Train data dimension is: (2044, 191)\n",
      "Test data dimension is: (879, 190)\n"
     ]
    }
   ],
   "source": [
    "# Check the shape of train and test data\n",
    "print('Train data dimension is: {}'.format(clean_train.shape))\n",
    "print('Test data dimension is: {}'.format(clean_test.shape))"
   ]
  },
  {
   "cell_type": "code",
   "execution_count": 5,
   "metadata": {},
   "outputs": [],
   "source": [
    "#Defining the predictor columns\n",
    "\n",
    "#Predictor columns will be each column in train data except the target variable: saleprice\n",
    "predictor_columns = [col for col in clean_train.columns if col!='saleprice']\n"
   ]
  },
  {
   "cell_type": "markdown",
   "metadata": {},
   "source": [
    "## Model Prep: Create our features matrix (`X`) and target vector (`y`)\n",
    "\n",
    "Columns in predictor_columns list will be used as a feature.\n",
    "\n",
    "The `saleprice` column is our target."
   ]
  },
  {
   "cell_type": "code",
   "execution_count": 6,
   "metadata": {},
   "outputs": [],
   "source": [
    "# Creating the features matrix(X) and target vector(y)\n",
    "X = clean_train[predictor_columns]\n",
    "y = clean_train['saleprice']"
   ]
  },
  {
   "cell_type": "markdown",
   "metadata": {},
   "source": [
    "## Model Prep: Train/test split\n",
    "\n",
    "Using the `train_test_split` function to split our `X` and `y` variables into a training set and testing set. <br>\n",
    "The testing set will be used to test our model performance."
   ]
  },
  {
   "cell_type": "code",
   "execution_count": 7,
   "metadata": {},
   "outputs": [],
   "source": [
    "X_train, X_test, y_train, y_test = train_test_split(X, y,shuffle=True)"
   ]
  },
  {
   "cell_type": "code",
   "execution_count": 8,
   "metadata": {},
   "outputs": [
    {
     "name": "stdout",
     "output_type": "stream",
     "text": [
      "Shape of X_train is :(1533, 190)\n",
      "Shape of X_train is :(511, 190)\n",
      "Shape of X_train is :(1533,)\n",
      "Shape of X_train is :(511,)\n"
     ]
    }
   ],
   "source": [
    "# Check the shape of splitted data\n",
    "print(\"Shape of X_train is :{}\".format(X_train.shape))\n",
    "print(\"Shape of X_train is :{}\".format(X_test.shape))\n",
    "print(\"Shape of X_train is :{}\".format(y_train.shape))\n",
    "print(\"Shape of X_train is :{}\".format(y_test.shape))"
   ]
  },
  {
   "cell_type": "markdown",
   "metadata": {},
   "source": [
    "## Model Prep: Scaling\n",
    "\n",
    "Since, the features are in different scale, I will be scaling X_train and X_test using the StandardScaler."
   ]
  },
  {
   "cell_type": "code",
   "execution_count": 9,
   "metadata": {},
   "outputs": [
    {
     "data": {
      "text/html": [
       "<div>\n",
       "<style scoped>\n",
       "    .dataframe tbody tr th:only-of-type {\n",
       "        vertical-align: middle;\n",
       "    }\n",
       "\n",
       "    .dataframe tbody tr th {\n",
       "        vertical-align: top;\n",
       "    }\n",
       "\n",
       "    .dataframe thead th {\n",
       "        text-align: right;\n",
       "    }\n",
       "</style>\n",
       "<table border=\"1\" class=\"dataframe\">\n",
       "  <thead>\n",
       "    <tr style=\"text-align: right;\">\n",
       "      <th></th>\n",
       "      <th>id</th>\n",
       "      <th>pid</th>\n",
       "      <th>ms_subclass</th>\n",
       "      <th>lot_frontage</th>\n",
       "      <th>lot_area</th>\n",
       "      <th>lot_shape</th>\n",
       "      <th>utilities</th>\n",
       "      <th>land_slope</th>\n",
       "      <th>overall_qual</th>\n",
       "      <th>overall_cond</th>\n",
       "      <th>...</th>\n",
       "      <th>sale_type_Oth</th>\n",
       "      <th>sale_type_WD</th>\n",
       "      <th>exterior_1st_PreCast</th>\n",
       "      <th>exterior_2nd_Other</th>\n",
       "      <th>exterior_2nd_PreCast</th>\n",
       "      <th>heating_GasA</th>\n",
       "      <th>mas_vnr_type_CBlock</th>\n",
       "      <th>roof_matl_Metal</th>\n",
       "      <th>roof_matl_Roll</th>\n",
       "      <th>sale_type_VWD</th>\n",
       "    </tr>\n",
       "  </thead>\n",
       "  <tbody>\n",
       "    <tr>\n",
       "      <th>776</th>\n",
       "      <td>38</td>\n",
       "      <td>528112020</td>\n",
       "      <td>20</td>\n",
       "      <td>98</td>\n",
       "      <td>11478</td>\n",
       "      <td>4</td>\n",
       "      <td>3</td>\n",
       "      <td>3</td>\n",
       "      <td>8</td>\n",
       "      <td>5</td>\n",
       "      <td>...</td>\n",
       "      <td>0</td>\n",
       "      <td>1</td>\n",
       "      <td>0</td>\n",
       "      <td>0</td>\n",
       "      <td>0</td>\n",
       "      <td>0</td>\n",
       "      <td>0</td>\n",
       "      <td>0</td>\n",
       "      <td>0</td>\n",
       "      <td>0</td>\n",
       "    </tr>\n",
       "    <tr>\n",
       "      <th>1133</th>\n",
       "      <td>2821</td>\n",
       "      <td>908103320</td>\n",
       "      <td>90</td>\n",
       "      <td>35</td>\n",
       "      <td>9400</td>\n",
       "      <td>1</td>\n",
       "      <td>3</td>\n",
       "      <td>3</td>\n",
       "      <td>6</td>\n",
       "      <td>5</td>\n",
       "      <td>...</td>\n",
       "      <td>0</td>\n",
       "      <td>1</td>\n",
       "      <td>0</td>\n",
       "      <td>0</td>\n",
       "      <td>0</td>\n",
       "      <td>0</td>\n",
       "      <td>0</td>\n",
       "      <td>0</td>\n",
       "      <td>0</td>\n",
       "      <td>0</td>\n",
       "    </tr>\n",
       "  </tbody>\n",
       "</table>\n",
       "<p>2 rows × 190 columns</p>\n",
       "</div>"
      ],
      "text/plain": [
       "        id        pid  ms_subclass  lot_frontage  lot_area  lot_shape  \\\n",
       "776     38  528112020           20            98     11478          4   \n",
       "1133  2821  908103320           90            35      9400          1   \n",
       "\n",
       "      utilities  land_slope  overall_qual  overall_cond  ...  sale_type_Oth  \\\n",
       "776           3           3             8             5  ...              0   \n",
       "1133          3           3             6             5  ...              0   \n",
       "\n",
       "      sale_type_WD   exterior_1st_PreCast  exterior_2nd_Other  \\\n",
       "776               1                     0                   0   \n",
       "1133              1                     0                   0   \n",
       "\n",
       "      exterior_2nd_PreCast  heating_GasA  mas_vnr_type_CBlock  \\\n",
       "776                      0             0                    0   \n",
       "1133                     0             0                    0   \n",
       "\n",
       "      roof_matl_Metal  roof_matl_Roll  sale_type_VWD  \n",
       "776                 0               0              0  \n",
       "1133                0               0              0  \n",
       "\n",
       "[2 rows x 190 columns]"
      ]
     },
     "execution_count": 9,
     "metadata": {},
     "output_type": "execute_result"
    }
   ],
   "source": [
    "#Check the first 2 rows of X_train data.\n",
    "X_train.head(2)"
   ]
  },
  {
   "cell_type": "code",
   "execution_count": 10,
   "metadata": {},
   "outputs": [
    {
     "data": {
      "text/html": [
       "<div>\n",
       "<style scoped>\n",
       "    .dataframe tbody tr th:only-of-type {\n",
       "        vertical-align: middle;\n",
       "    }\n",
       "\n",
       "    .dataframe tbody tr th {\n",
       "        vertical-align: top;\n",
       "    }\n",
       "\n",
       "    .dataframe thead th {\n",
       "        text-align: right;\n",
       "    }\n",
       "</style>\n",
       "<table border=\"1\" class=\"dataframe\">\n",
       "  <thead>\n",
       "    <tr style=\"text-align: right;\">\n",
       "      <th></th>\n",
       "      <th>id</th>\n",
       "      <th>pid</th>\n",
       "      <th>ms_subclass</th>\n",
       "      <th>lot_frontage</th>\n",
       "      <th>lot_area</th>\n",
       "      <th>lot_shape</th>\n",
       "      <th>utilities</th>\n",
       "      <th>land_slope</th>\n",
       "      <th>overall_qual</th>\n",
       "      <th>overall_cond</th>\n",
       "      <th>...</th>\n",
       "      <th>sale_type_Oth</th>\n",
       "      <th>sale_type_WD</th>\n",
       "      <th>exterior_1st_PreCast</th>\n",
       "      <th>exterior_2nd_Other</th>\n",
       "      <th>exterior_2nd_PreCast</th>\n",
       "      <th>heating_GasA</th>\n",
       "      <th>mas_vnr_type_CBlock</th>\n",
       "      <th>roof_matl_Metal</th>\n",
       "      <th>roof_matl_Roll</th>\n",
       "      <th>sale_type_VWD</th>\n",
       "    </tr>\n",
       "  </thead>\n",
       "  <tbody>\n",
       "    <tr>\n",
       "      <th>552</th>\n",
       "      <td>141</td>\n",
       "      <td>535152130</td>\n",
       "      <td>20</td>\n",
       "      <td>0</td>\n",
       "      <td>8050</td>\n",
       "      <td>1</td>\n",
       "      <td>3</td>\n",
       "      <td>3</td>\n",
       "      <td>5</td>\n",
       "      <td>5</td>\n",
       "      <td>...</td>\n",
       "      <td>0</td>\n",
       "      <td>1</td>\n",
       "      <td>0</td>\n",
       "      <td>0</td>\n",
       "      <td>0</td>\n",
       "      <td>0</td>\n",
       "      <td>0</td>\n",
       "      <td>0</td>\n",
       "      <td>0</td>\n",
       "      <td>0</td>\n",
       "    </tr>\n",
       "    <tr>\n",
       "      <th>501</th>\n",
       "      <td>1751</td>\n",
       "      <td>528240020</td>\n",
       "      <td>60</td>\n",
       "      <td>62</td>\n",
       "      <td>8244</td>\n",
       "      <td>1</td>\n",
       "      <td>3</td>\n",
       "      <td>3</td>\n",
       "      <td>7</td>\n",
       "      <td>5</td>\n",
       "      <td>...</td>\n",
       "      <td>0</td>\n",
       "      <td>1</td>\n",
       "      <td>0</td>\n",
       "      <td>0</td>\n",
       "      <td>0</td>\n",
       "      <td>0</td>\n",
       "      <td>0</td>\n",
       "      <td>0</td>\n",
       "      <td>0</td>\n",
       "      <td>0</td>\n",
       "    </tr>\n",
       "  </tbody>\n",
       "</table>\n",
       "<p>2 rows × 190 columns</p>\n",
       "</div>"
      ],
      "text/plain": [
       "       id        pid  ms_subclass  lot_frontage  lot_area  lot_shape  \\\n",
       "552   141  535152130           20             0      8050          1   \n",
       "501  1751  528240020           60            62      8244          1   \n",
       "\n",
       "     utilities  land_slope  overall_qual  overall_cond  ...  sale_type_Oth  \\\n",
       "552          3           3             5             5  ...              0   \n",
       "501          3           3             7             5  ...              0   \n",
       "\n",
       "     sale_type_WD   exterior_1st_PreCast  exterior_2nd_Other  \\\n",
       "552              1                     0                   0   \n",
       "501              1                     0                   0   \n",
       "\n",
       "     exterior_2nd_PreCast  heating_GasA  mas_vnr_type_CBlock  roof_matl_Metal  \\\n",
       "552                     0             0                    0                0   \n",
       "501                     0             0                    0                0   \n",
       "\n",
       "     roof_matl_Roll  sale_type_VWD  \n",
       "552               0              0  \n",
       "501               0              0  \n",
       "\n",
       "[2 rows x 190 columns]"
      ]
     },
     "execution_count": 10,
     "metadata": {},
     "output_type": "execute_result"
    }
   ],
   "source": [
    "#Check the first 2 rows of X_test data.\n",
    "X_test.head(2)"
   ]
  },
  {
   "cell_type": "code",
   "execution_count": 11,
   "metadata": {},
   "outputs": [],
   "source": [
    "#Instantiate a StandardScaler object\n",
    "ss = StandardScaler()\n",
    "\n",
    "#Fit the X_train data into StandardScaler object\n",
    "ss.fit(X_train)\n",
    "\n",
    "#Apply the fit method to X_train and X_test data\n",
    "X_train = ss.transform(X_train)\n",
    "X_test = ss.transform(X_test)"
   ]
  },
  {
   "cell_type": "code",
   "execution_count": 12,
   "metadata": {},
   "outputs": [
    {
     "data": {
      "text/plain": [
       "array([[-1.66743683, -0.9739391 , -0.85330599,  1.26017487,  0.31004305,\n",
       "         0.74543874,  0.03428627,  0.20329824,  1.31368125, -0.48642662,\n",
       "         1.17363167,  1.13870194,  0.59652661,  1.01197527, -0.21451233,\n",
       "         1.68143916,  0.11038962, -0.62829554,  1.11732246, -0.32690593,\n",
       "         1.52690563,  0.87814668,  0.26132869,  0.27605752, -0.75973974,\n",
       "        -0.11025163,  0.45015382,  1.11248326, -0.25353939,  0.75340892,\n",
       "        -0.73304832,  0.18692083, -0.20223617,  0.72521618,  0.22627625,\n",
       "         0.64434295,  1.22836346,  0.30974714,  0.31722154,  1.38685695,\n",
       "         0.27210999,  0.26182959,  0.30110388, -0.73739825,  0.0520328 ,\n",
       "        -0.38110549, -0.10337872, -0.28351285, -0.05881152, -0.09775289,\n",
       "        -0.4299998 ,  1.65869113, -0.08103079, -0.2236068 , -0.02554881,\n",
       "        -0.08103079,  0.5186904 , -0.41906264,  0.05114772, -0.21042321,\n",
       "        -0.12875655,  0.32321333, -0.26557622, -0.17784413, -0.07684733,\n",
       "         0.60724789, -0.05114772, -0.09600307, -0.20182467, -0.11202472,\n",
       "        -0.31075155, -0.19107893, -0.26838028, -0.24677855, -0.04428074,\n",
       "         0.        , -0.17784413, -0.02554881, -0.10900086, -0.19471695,\n",
       "        -0.4222847 , -0.09600307, -0.21709709, -0.14601069,  3.91260919,\n",
       "        -0.28877712, -0.12066439, -0.2526748 , -0.20872722, -0.25558392,\n",
       "        -0.14128015, -0.15943042, -0.09600307, -0.22838997,  0.38734676,\n",
       "        -0.07684733, -0.10269923, -0.09600307, -0.13885933, -0.03614327,\n",
       "        -0.06268391, -0.0724286 ,  0.12066439, -0.04428074, -0.04428074,\n",
       "        -0.02554881, -0.02554881, -0.02554881, -0.15943042, -0.19651434,\n",
       "        -0.19290529, -0.28611727, -0.07684733,  0.94972897, -0.05114772,\n",
       "        -0.06772855, -0.62740447, -0.15726608, -0.22521028,  0.5186904 ,\n",
       "        -0.08103079, -0.49326362, -0.05114772, -0.04428074, -0.02554881,\n",
       "        -0.08103079, -0.04428074, -0.04428074, -0.02554881, -0.03614327,\n",
       "        -0.16987955, -0.03614327, -0.21378165, -0.43189409, -0.02554881,\n",
       "        -0.44353276, -0.27939054, -0.03614327, -0.11785113,  1.36776698,\n",
       "        -0.39178932, -0.13134999, -0.04428074, -0.09600307, -0.12875655,\n",
       "        -0.03614327, -0.21378165, -0.40933509, -0.0724286 , -0.43401854,\n",
       "        -0.30695018, -0.0572036 , -0.12875655,  1.36776698, -0.38063663,\n",
       "        -0.16156862, -0.6731126 , -1.22341435,  3.34165628, -0.86717934,\n",
       "         1.1111678 , -0.12875655, -0.04428074, -0.03614327, -0.09940535,\n",
       "        -0.04428074, -0.03614327, -0.05114772,  0.8307752 , -0.12066439,\n",
       "        -0.25558392, -0.08103079, -0.59317101, -0.24528754, -0.08103079,\n",
       "        -0.03614327, -0.09600307, -0.0572036 , -0.04428074, -0.28478086,\n",
       "        -0.04428074,  0.39178932,  0.        ,  0.        ,  0.        ,\n",
       "         0.        ,  0.        ,  0.        ,  0.        ,  0.        ]])"
      ]
     },
     "execution_count": 12,
     "metadata": {},
     "output_type": "execute_result"
    }
   ],
   "source": [
    "# Check the scaled X_train\n",
    "X_train[:1]"
   ]
  },
  {
   "cell_type": "code",
   "execution_count": 13,
   "metadata": {},
   "outputs": [
    {
     "data": {
      "text/plain": [
       "array([[-1.54605497, -0.93659259, -0.85330599, -1.78921083, -0.3677364 ,\n",
       "        -1.38657168,  0.03428627,  0.20329824, -0.77323415, -0.48642662,\n",
       "        -0.43541053, -1.19045266,  0.30209685, -0.67062569, -0.21451233,\n",
       "        -0.56487564,  0.11038962, -0.62829554, -0.09660761,  3.30459256,\n",
       "         0.2037345 , -1.1929285 ,  0.26132869,  0.27605752, -0.75973974,\n",
       "        -0.11025163, -0.7258894 ,  1.11248326, -0.25353939, -1.05974002,\n",
       "        -0.73304832,  0.18692083, -0.20223617, -0.77310781,  0.22627625,\n",
       "        -0.94117509, -0.98767795,  0.20343688,  0.31722154, -0.76785145,\n",
       "         0.27210999,  0.26182959,  0.30110388, -0.73739825, -0.72239712,\n",
       "        -0.38110549, -0.10337872, -0.28351285, -0.05881152, -0.09775289,\n",
       "        -0.4299998 ,  1.65869113, -0.08103079, -0.2236068 , -0.02554881,\n",
       "        -0.08103079,  0.5186904 , -0.41906264,  0.05114772, -0.21042321,\n",
       "        -0.12875655,  0.32321333, -0.26557622, -0.17784413, -0.07684733,\n",
       "         0.60724789, -0.05114772, -0.09600307, -0.20182467, -0.11202472,\n",
       "        -0.31075155, -0.19107893, -0.26838028, -0.24677855, -0.04428074,\n",
       "         0.        , -0.17784413, -0.02554881, -0.10900086, -0.19471695,\n",
       "         2.36807065, -0.09600307, -0.21709709, -0.14601069, -0.25558392,\n",
       "        -0.28877712, -0.12066439, -0.2526748 , -0.20872722, -0.25558392,\n",
       "        -0.14128015, -0.15943042, -0.09600307, -0.22838997,  0.38734676,\n",
       "        -0.07684733, -0.10269923, -0.09600307, -0.13885933, -0.03614327,\n",
       "        -0.06268391, -0.0724286 ,  0.12066439, -0.04428074, -0.04428074,\n",
       "        -0.02554881, -0.02554881, -0.02554881, -0.15943042, -0.19651434,\n",
       "        -0.19290529, -0.28611727, -0.07684733,  0.94972897, -0.05114772,\n",
       "        -0.06772855, -0.62740447, -0.15726608, -0.22521028, -1.92793233,\n",
       "        -0.08103079,  2.02731349, -0.05114772, -0.04428074, -0.02554881,\n",
       "        -0.08103079, -0.04428074, -0.04428074, -0.02554881, -0.03614327,\n",
       "        -0.16987955, -0.03614327, -0.21378165, -0.43189409, -0.02554881,\n",
       "         2.25462488, -0.27939054, -0.03614327, -0.11785113, -0.73111869,\n",
       "        -0.39178932, -0.13134999, -0.04428074, -0.09600307, -0.12875655,\n",
       "        -0.03614327, -0.21378165, -0.40933509, -0.0724286 ,  2.30404904,\n",
       "        -0.30695018, -0.0572036 , -0.12875655, -0.73111869, -0.38063663,\n",
       "        -0.16156862,  1.48563554, -1.22341435, -0.2992528 ,  1.15316401,\n",
       "        -0.89995409, -0.12875655, -0.04428074, -0.03614327, -0.09940535,\n",
       "        -0.04428074, -0.03614327, -0.05114772,  0.8307752 , -0.12066439,\n",
       "        -0.25558392, -0.08103079, -0.59317101, -0.24528754, -0.08103079,\n",
       "        -0.03614327, -0.09600307, -0.0572036 , -0.04428074, -0.28478086,\n",
       "        -0.04428074,  0.39178932,  0.        ,  0.        ,  0.        ,\n",
       "         0.        ,  0.        ,  0.        ,  0.        ,  0.        ],\n",
       "       [ 0.35127319, -0.97326009,  0.0644301 ,  0.13999237, -0.32937898,\n",
       "        -1.38657168,  0.03428627,  0.20329824,  0.61804279, -0.48642662,\n",
       "         1.07306653,  0.94856687, -0.58119245,  1.01197527, -0.21451233,\n",
       "         0.55828176,  0.11038962, -0.62829554, -1.31053769, -0.32690593,\n",
       "        -0.51091942,  0.87814668,  0.26132869,  0.27605752,  1.32715375,\n",
       "        -0.11025163,  0.48369516, -0.80805372, -0.25353939,  0.75340892,\n",
       "         1.28447964,  0.18692083, -0.20223617,  0.72521618,  0.22627625,\n",
       "         0.64434295,  1.22836346,  0.30106875,  1.42496783, -0.15487406,\n",
       "         0.27210999,  0.26182959,  0.30110388,  0.08249768,  0.0210556 ,\n",
       "        -0.38110549, -0.10337872, -0.28351285, -0.05881152, -0.09775289,\n",
       "        -0.4299998 , -0.60692233, -0.08103079, -0.2236068 , -0.02554881,\n",
       "        -0.08103079,  0.5186904 , -0.41906264,  0.05114772, -0.21042321,\n",
       "        -0.12875655,  0.32321333, -0.26557622, -0.17784413, -0.07684733,\n",
       "         0.60724789, -0.05114772, -0.09600307, -0.20182467, -0.11202472,\n",
       "        -0.31075155, -0.19107893, -0.26838028,  4.052216  , -0.04428074,\n",
       "         0.        , -0.17784413, -0.02554881, -0.10900086, -0.19471695,\n",
       "        -0.4222847 , -0.09600307, -0.21709709, -0.14601069, -0.25558392,\n",
       "        -0.28877712, -0.12066439, -0.2526748 , -0.20872722, -0.25558392,\n",
       "        -0.14128015, -0.15943042, -0.09600307, -0.22838997,  0.38734676,\n",
       "        -0.07684733, -0.10269923, -0.09600307, -0.13885933, -0.03614327,\n",
       "        -0.06268391, -0.0724286 ,  0.12066439, -0.04428074, -0.04428074,\n",
       "        -0.02554881, -0.02554881, -0.02554881, -0.15943042, -0.19651434,\n",
       "        -0.19290529, -0.28611727, -0.07684733, -1.05293198, -0.05114772,\n",
       "        -0.06772855,  1.59386816, -0.15726608, -0.22521028,  0.5186904 ,\n",
       "        -0.08103079, -0.49326362, -0.05114772, -0.04428074, -0.02554881,\n",
       "        -0.08103079, -0.04428074, -0.04428074, -0.02554881, -0.03614327,\n",
       "        -0.16987955, -0.03614327, -0.21378165, -0.43189409, -0.02554881,\n",
       "        -0.44353276, -0.27939054, -0.03614327, -0.11785113,  1.36776698,\n",
       "        -0.39178932, -0.13134999, -0.04428074, -0.09600307, -0.12875655,\n",
       "        -0.03614327, -0.21378165, -0.40933509, -0.0724286 , -0.43401854,\n",
       "        -0.30695018, -0.0572036 , -0.12875655,  1.36776698, -0.38063663,\n",
       "        -0.16156862, -0.6731126 ,  0.81738456, -0.2992528 , -0.86717934,\n",
       "         1.1111678 , -0.12875655, -0.04428074, -0.03614327, -0.09940535,\n",
       "        -0.04428074, -0.03614327, -0.05114772,  0.8307752 , -0.12066439,\n",
       "        -0.25558392, -0.08103079, -0.59317101, -0.24528754, -0.08103079,\n",
       "        -0.03614327, -0.09600307, -0.0572036 , -0.04428074, -0.28478086,\n",
       "        -0.04428074,  0.39178932,  0.        ,  0.        ,  0.        ,\n",
       "         0.        ,  0.        ,  0.        ,  0.        ,  0.        ]])"
      ]
     },
     "execution_count": 13,
     "metadata": {},
     "output_type": "execute_result"
    }
   ],
   "source": [
    "# Check the scaled X_test\n",
    "X_test[:2]"
   ]
  },
  {
   "cell_type": "markdown",
   "metadata": {},
   "source": [
    "## Model Prep: Baseline model\n",
    "---"
   ]
  },
  {
   "cell_type": "code",
   "execution_count": 14,
   "metadata": {},
   "outputs": [],
   "source": [
    "# Instantiate 3 models, LinearRegression, LassoCV and RidgeCV.\n",
    "lrCV = LinearRegression()\n",
    "lasso = LassoCV()\n",
    "ridge = RidgeCV()"
   ]
  },
  {
   "cell_type": "markdown",
   "metadata": {},
   "source": [
    "> Evaluating `cross_val_score` R2-score for `LinearRegression` model."
   ]
  },
  {
   "cell_type": "code",
   "execution_count": 15,
   "metadata": {},
   "outputs": [
    {
     "name": "stdout",
     "output_type": "stream",
     "text": [
      "The R2 score for each fold in LinearRegression model for training data is: \n",
      "[-1.04000895e+24 -3.92130940e+23 -4.53972788e+23 -2.21927574e+22\n",
      " -6.75870003e+24]\n",
      "\n",
      "The mean R2 score for LinearRegression model for training data is: -1.733401094680858e+24\n"
     ]
    }
   ],
   "source": [
    "# cross_val_score for LinearRegression() model\n",
    "\n",
    "lrCV_score = cross_val_score(lrCV, X_train, y_train, cv=5)\n",
    "\n",
    "print('The R2 score for each fold in LinearRegression model for training data is: \\n{}'.format(lrCV_score))\n",
    "print('\\nThe mean R2 score for LinearRegression model for training data is: {}'. format(lrCV_score.mean()))"
   ]
  },
  {
   "cell_type": "markdown",
   "metadata": {},
   "source": [
    "> Evaluating `cross_val_score` R2-score for `LassoCV` model."
   ]
  },
  {
   "cell_type": "code",
   "execution_count": 16,
   "metadata": {},
   "outputs": [
    {
     "name": "stderr",
     "output_type": "stream",
     "text": [
      "/Users/priya/opt/anaconda3/lib/python3.7/site-packages/sklearn/model_selection/_split.py:1978: FutureWarning: The default value of cv will change from 3 to 5 in version 0.22. Specify it explicitly to silence this warning.\n",
      "  warnings.warn(CV_WARNING, FutureWarning)\n",
      "/Users/priya/opt/anaconda3/lib/python3.7/site-packages/sklearn/model_selection/_split.py:1978: FutureWarning: The default value of cv will change from 3 to 5 in version 0.22. Specify it explicitly to silence this warning.\n",
      "  warnings.warn(CV_WARNING, FutureWarning)\n",
      "/Users/priya/opt/anaconda3/lib/python3.7/site-packages/sklearn/model_selection/_split.py:1978: FutureWarning: The default value of cv will change from 3 to 5 in version 0.22. Specify it explicitly to silence this warning.\n",
      "  warnings.warn(CV_WARNING, FutureWarning)\n",
      "/Users/priya/opt/anaconda3/lib/python3.7/site-packages/sklearn/model_selection/_split.py:1978: FutureWarning: The default value of cv will change from 3 to 5 in version 0.22. Specify it explicitly to silence this warning.\n",
      "  warnings.warn(CV_WARNING, FutureWarning)\n"
     ]
    },
    {
     "name": "stdout",
     "output_type": "stream",
     "text": [
      "The R2 score for lasso model is : 0.9102684630232709\n"
     ]
    },
    {
     "name": "stderr",
     "output_type": "stream",
     "text": [
      "/Users/priya/opt/anaconda3/lib/python3.7/site-packages/sklearn/model_selection/_split.py:1978: FutureWarning: The default value of cv will change from 3 to 5 in version 0.22. Specify it explicitly to silence this warning.\n",
      "  warnings.warn(CV_WARNING, FutureWarning)\n"
     ]
    }
   ],
   "source": [
    "base_lasso_score = cross_val_score(lasso, X_train, y_train,cv=5);\n",
    "print(\"The R2 score for lasso model is : {}\".format(base_lasso_score.mean()))"
   ]
  },
  {
   "cell_type": "markdown",
   "metadata": {},
   "source": [
    "> Evaluating `cross_val_score` R2-score for `RidgeCV` model."
   ]
  },
  {
   "cell_type": "code",
   "execution_count": 17,
   "metadata": {},
   "outputs": [
    {
     "name": "stdout",
     "output_type": "stream",
     "text": [
      "The R2 score for ridge model is : 0.9047015385916876\n"
     ]
    }
   ],
   "source": [
    "base_ridge_score = cross_val_score(ridge, X_train, y_train,cv=5);\n",
    "print(\"The R2 score for ridge model is : {}\".format(base_ridge_score.mean()))"
   ]
  },
  {
   "cell_type": "markdown",
   "metadata": {},
   "source": [
    "_R2 score for linear regression indicates that model complexity is too high. Therefore, its best to use regularization using Lasso & Ridge._\n",
    "\n",
    "When comparing lasso and ridge, lasso seems to be performing slightly better than ridge."
   ]
  },
  {
   "cell_type": "markdown",
   "metadata": {},
   "source": [
    "## Model Prep: building models with optimum parameters.\n",
    "---\n",
    "\n",
    "Models I will be evaluating `LassoCV` and `RidgeCV` and `ElasticNetCV`."
   ]
  },
  {
   "cell_type": "code",
   "execution_count": 18,
   "metadata": {},
   "outputs": [],
   "source": [
    "# Instantiate 2 models, LassoCV and RidgeCV.\n",
    "lassoCV = LassoCV()\n",
    "ridgeCV = RidgeCV()"
   ]
  },
  {
   "cell_type": "markdown",
   "metadata": {},
   "source": [
    "## Cross validation\n",
    "---\n",
    "\n",
    "Evaluating `cross_val_score` R2-score for 3 models with optimum parameters:<br>\n",
    "1. Lasso\n",
    "2. Ridge\n",
    "3. ElasticNet"
   ]
  },
  {
   "cell_type": "markdown",
   "metadata": {},
   "source": [
    "_R2 score for linear regression indicates that model complexity is too high. Therefore, its best to use regularization using Lasso & Ridge._"
   ]
  },
  {
   "cell_type": "markdown",
   "metadata": {},
   "source": [
    "> Finding the optimum alpha for `Lasso` model **and** <br>\n",
    "Evaluating `cross_val_score` R2-score with optimum alpha value in `Lasso` model.<br>\n"
   ]
  },
  {
   "cell_type": "code",
   "execution_count": 19,
   "metadata": {},
   "outputs": [
    {
     "name": "stdout",
     "output_type": "stream",
     "text": [
      "The optimum alpha value for LassoCV model is: 407.74304430295075\n"
     ]
    }
   ],
   "source": [
    "# Find optimum alpha for Lasso model.\n",
    "lassoCV = LassoCV(cv=10,n_alphas=200).fit(X_train, y_train)\n",
    "\n",
    "print('The optimum alpha value for LassoCV model is: {}'.format(lassoCV.alpha_))"
   ]
  },
  {
   "cell_type": "code",
   "execution_count": 20,
   "metadata": {},
   "outputs": [],
   "source": [
    "# Instantiate the Lasso() model with optimum alpha value\n",
    "lasso = Lasso(alpha=lassoCV.alpha_)"
   ]
  },
  {
   "cell_type": "code",
   "execution_count": 21,
   "metadata": {},
   "outputs": [
    {
     "name": "stdout",
     "output_type": "stream",
     "text": [
      "The R2 score for each fold in Lasso model for training data is: \n",
      "[0.93178709 0.91423895 0.91203901 0.91319583 0.88363765]\n",
      "\n",
      "The mean R2 score for Lasso model for training data is: 0.9109797065376057\n"
     ]
    }
   ],
   "source": [
    "# Calculate the cross_val_score R2 score for Lasso model\n",
    "\n",
    "lasso_score = cross_val_score(lasso, X_train, y_train,cv=5);\n",
    "\n",
    "print('The R2 score for each fold in Lasso model for training data is: \\n{}'.format(lasso_score))\n",
    "print('\\nThe mean R2 score for Lasso model for training data is: {}'. format(lasso_score.mean()))"
   ]
  },
  {
   "cell_type": "code",
   "execution_count": 22,
   "metadata": {},
   "outputs": [],
   "source": [
    "# Fir and do prediction with this model\n",
    "lasso = lasso.fit(X_train, y_train)\n",
    "y_pred = lasso.predict(X_test)"
   ]
  },
  {
   "cell_type": "code",
   "execution_count": 23,
   "metadata": {},
   "outputs": [
    {
     "name": "stdout",
     "output_type": "stream",
     "text": [
      "The RMSE for lasso model is: 27622.569582384025\n"
     ]
    }
   ],
   "source": [
    "# RMSE for lasso model\n",
    "print(\"The RMSE for lasso model is: {}\".format(np.sqrt(mean_squared_error(y_test, y_pred))))"
   ]
  },
  {
   "cell_type": "markdown",
   "metadata": {},
   "source": [
    "> Finding the optimum alpha for `Ridge` model **and** <br>\n",
    "Evaluating `cross_val_score` R2-score with optimum alpha value in `Ridge` model.<br>"
   ]
  },
  {
   "cell_type": "code",
   "execution_count": 24,
   "metadata": {},
   "outputs": [
    {
     "name": "stdout",
     "output_type": "stream",
     "text": [
      "The optimum alpha value for Ridge model is: 121.7382727739662\n"
     ]
    }
   ],
   "source": [
    "# calculate the optimum alpha for Ridge model\n",
    "\n",
    "r_alphas = list(np.logspace(-5, 5, 200))\n",
    "\n",
    "#Iterate through the r_alphas and find the optimal alpha\n",
    "ridgeCV = RidgeCV(alphas=[index for index in r_alphas]).fit(X_train, y_train)\n",
    "print('The optimum alpha value for Ridge model is: {}'.format(ridgeCV.alpha_))"
   ]
  },
  {
   "cell_type": "code",
   "execution_count": 25,
   "metadata": {},
   "outputs": [
    {
     "name": "stdout",
     "output_type": "stream",
     "text": [
      "The R2 score for each fold in Ridge model for training data is: \n",
      "[0.93014789 0.91198055 0.90661257 0.91062975 0.88653747]\n",
      "\n",
      "The mean R2 score for Ridge model for training data is: 0.9091816481229499\n"
     ]
    }
   ],
   "source": [
    "# Instantiate the Ridge() model with optimum alpha value\n",
    "ridge = Ridge(alpha = ridgeCV.alpha_)\n",
    "\n",
    "# Calculate the cross_val_score R2 score for Lasso model\n",
    "ridge_score = cross_val_score(ridge, X_train, y_train, cv=5)\n",
    "\n",
    "print('The R2 score for each fold in Ridge model for training data is: \\n{}'.format(ridge_score))\n",
    "print('\\nThe mean R2 score for Ridge model for training data is: {}'. format(ridge_score.mean()))"
   ]
  },
  {
   "cell_type": "code",
   "execution_count": 26,
   "metadata": {},
   "outputs": [],
   "source": [
    "# Fit and do prediction with this model\n",
    "ridge = ridge.fit(X_train, y_train)\n",
    "y_pred = ridge.predict(X_test)"
   ]
  },
  {
   "cell_type": "code",
   "execution_count": 27,
   "metadata": {},
   "outputs": [
    {
     "name": "stdout",
     "output_type": "stream",
     "text": [
      "The RMSE for ridge model is: 27929.72675281874\n"
     ]
    }
   ],
   "source": [
    "# RMSE for lasso model\n",
    "print(\"The RMSE for ridge model is: {}\".format(np.sqrt(mean_squared_error(y_test, y_pred))))"
   ]
  },
  {
   "cell_type": "markdown",
   "metadata": {},
   "source": [
    "> Finding the optimum alpha&ratio for `ElasticNet` model **and** <br>\n",
    "Evaluating `cross_val_score` R2-score with optimum alpha and ratio value in `ElasticNet` model.<br>"
   ]
  },
  {
   "cell_type": "code",
   "execution_count": 28,
   "metadata": {},
   "outputs": [
    {
     "name": "stdout",
     "output_type": "stream",
     "text": [
      "Optimum alpha and l1ratio are : 71.96959799405612, 0.9\n",
      "\n",
      "The R2 score for each fold in ElasticNet model for training data is: \n",
      "[0.65076697 0.66906549 0.65640417 0.64629264 0.73735226 0.77489868\n",
      " 0.66952063 0.72749577 0.61407742 0.64436581]\n",
      "\n",
      "The mean R2 score for ElasticNet model for training data is: 0.6790239820408402\n"
     ]
    }
   ],
   "source": [
    "# Import ElasticNet,ElasticNetCV models from sklearn\n",
    "from sklearn.linear_model import ElasticNet, ElasticNetCV\n",
    "enet_ratio = [0.1,0.3,0.5,0.8,0.9]\n",
    "\n",
    "#Instantiate the model\n",
    "enet_model = ElasticNetCV(n_alphas=100, l1_ratio=enet_ratio, cv=5)\n",
    "\n",
    "#Fit the model\n",
    "enet_model = enet_model.fit(X_train, y_train)\n",
    "\n",
    "# Here is the optimal value of alpha & l1-ratio\n",
    "enet_alpha = enet_model.alpha_\n",
    "enet_l1ratio = enet_model.l1_ratio_\n",
    "print('Optimum alpha and l1ratio are : {}, {}'.format(enet_alpha,enet_l1ratio))\n",
    "\n",
    "#Instantiate the ElasticNet model with optimum values and calculate the R2 score\n",
    "enet_model = ElasticNet(alpha=enet_alpha,l1_ratio=enet_l1ratio)\n",
    "\n",
    "enet_score = cross_val_score(enet_model, X_test, y_test,cv=10);\n",
    "\n",
    "print('\\nThe R2 score for each fold in ElasticNet model for training data is: \\n{}'.format(enet_score))\n",
    "print('\\nThe mean R2 score for ElasticNet model for training data is: {}'. format(enet_score.mean()))"
   ]
  },
  {
   "cell_type": "markdown",
   "metadata": {},
   "source": [
    "------\n",
    "#### Plotting the coefficients for both Lasso model <br>\n",
    "This will help to understand what features dominate the `salesprice` the most.\n"
   ]
  },
  {
   "cell_type": "code",
   "execution_count": 29,
   "metadata": {
    "scrolled": true
   },
   "outputs": [
    {
     "name": "stdout",
     "output_type": "stream",
     "text": [
      "Total number of features in X_train were: 190\n",
      "-------------------------\n",
      "Number of regression coefficients shrinked to zero by lasso are: 86\n"
     ]
    }
   ],
   "source": [
    "# Create a dataframe for the lasso coefficients\n",
    "coef_lasso = pd.DataFrame((lassoCV.coef_), index=predictor_columns)\n",
    "coef_lasso.columns=['coefficients']\n",
    "\n",
    "print(\"Total number of features in X_train were: {}\".format(len(predictor_columns)))\n",
    "print(\"-------------------------\")\n",
    "print(\"Number of regression coefficients shrinked to zero by lasso are: {}\".format(coef_lasso[coef_lasso['coefficients']==0.000000].count()[0]))"
   ]
  },
  {
   "cell_type": "code",
   "execution_count": 30,
   "metadata": {},
   "outputs": [
    {
     "data": {
      "image/png": "[encoded data removed]",
      "text/plain": [
       "<Figure size 1080x1800 with 1 Axes>"
      ]
     },
     "metadata": {
      "needs_background": "light"
     },
     "output_type": "display_data"
    }
   ],
   "source": [
    "# Dropping the features with coefficients of zero.\n",
    "coef_lasso.drop(coef_lasso[coef_lasso['coefficients']==0.000000].index, inplace=True)\n",
    "\n",
    "# Sort the coefficients in descending order\n",
    "coef_lasso.sort_values(['coefficients'], ascending=False, inplace=True)\n",
    "\n",
    "#Reset the index\n",
    "coef_lasso.reset_index\n",
    "\n",
    "# Plot the coefficients\n",
    "fig = plt.figure(figsize=(15,25))\n",
    "ax = sns.barplot(y=coef_lasso.index,x='coefficients', data=coef_lasso, orient=\"h\");"
   ]
  },
  {
   "cell_type": "code",
   "execution_count": 31,
   "metadata": {},
   "outputs": [
    {
     "data": {
      "text/html": [
       "<div>\n",
       "<style scoped>\n",
       "    .dataframe tbody tr th:only-of-type {\n",
       "        vertical-align: middle;\n",
       "    }\n",
       "\n",
       "    .dataframe tbody tr th {\n",
       "        vertical-align: top;\n",
       "    }\n",
       "\n",
       "    .dataframe thead th {\n",
       "        text-align: right;\n",
       "    }\n",
       "</style>\n",
       "<table border=\"1\" class=\"dataframe\">\n",
       "  <thead>\n",
       "    <tr style=\"text-align: right;\">\n",
       "      <th></th>\n",
       "      <th>coefficients</th>\n",
       "    </tr>\n",
       "  </thead>\n",
       "  <tbody>\n",
       "    <tr>\n",
       "      <th>gr_liv_area</th>\n",
       "      <td>25206.305947</td>\n",
       "    </tr>\n",
       "    <tr>\n",
       "      <th>overall_qual</th>\n",
       "      <td>11747.550185</td>\n",
       "    </tr>\n",
       "    <tr>\n",
       "      <th>total_bsmt_sf</th>\n",
       "      <td>8851.684001</td>\n",
       "    </tr>\n",
       "    <tr>\n",
       "      <th>mas_vnr_area</th>\n",
       "      <td>8783.442091</td>\n",
       "    </tr>\n",
       "    <tr>\n",
       "      <th>neighborhood_NridgHt</th>\n",
       "      <td>6309.254160</td>\n",
       "    </tr>\n",
       "    <tr>\n",
       "      <th>neighborhood_StoneBr</th>\n",
       "      <td>5803.640751</td>\n",
       "    </tr>\n",
       "    <tr>\n",
       "      <th>year_built</th>\n",
       "      <td>5473.537128</td>\n",
       "    </tr>\n",
       "    <tr>\n",
       "      <th>bsmt_exposure</th>\n",
       "      <td>5318.192967</td>\n",
       "    </tr>\n",
       "    <tr>\n",
       "      <th>exter_qual</th>\n",
       "      <td>5252.281757</td>\n",
       "    </tr>\n",
       "    <tr>\n",
       "      <th>garage_area</th>\n",
       "      <td>4817.122233</td>\n",
       "    </tr>\n",
       "  </tbody>\n",
       "</table>\n",
       "</div>"
      ],
      "text/plain": [
       "                      coefficients\n",
       "gr_liv_area           25206.305947\n",
       "overall_qual          11747.550185\n",
       "total_bsmt_sf          8851.684001\n",
       "mas_vnr_area           8783.442091\n",
       "neighborhood_NridgHt   6309.254160\n",
       "neighborhood_StoneBr   5803.640751\n",
       "year_built             5473.537128\n",
       "bsmt_exposure          5318.192967\n",
       "exter_qual             5252.281757\n",
       "garage_area            4817.122233"
      ]
     },
     "execution_count": 31,
     "metadata": {},
     "output_type": "execute_result"
    }
   ],
   "source": [
    "# Print top 10 features with their coefficients (lasso model)\n",
    "\n",
    "coef_lasso[:10]"
   ]
  },
  {
   "cell_type": "code",
   "execution_count": 32,
   "metadata": {},
   "outputs": [
    {
     "data": {
      "text/plain": [
       "Index(['gr_liv_area', 'overall_qual', 'total_bsmt_sf', 'mas_vnr_area',\n",
       "       'neighborhood_NridgHt', 'neighborhood_StoneBr', 'year_built',\n",
       "       'bsmt_exposure', 'exter_qual', 'garage_area'],\n",
       "      dtype='object')"
      ]
     },
     "execution_count": 32,
     "metadata": {},
     "output_type": "execute_result"
    }
   ],
   "source": [
    "coef_lasso.index[:10]"
   ]
  },
  {
   "cell_type": "code",
   "execution_count": 33,
   "metadata": {},
   "outputs": [
    {
     "data": {
      "text/html": [
       "<div>\n",
       "<style scoped>\n",
       "    .dataframe tbody tr th:only-of-type {\n",
       "        vertical-align: middle;\n",
       "    }\n",
       "\n",
       "    .dataframe tbody tr th {\n",
       "        vertical-align: top;\n",
       "    }\n",
       "\n",
       "    .dataframe thead th {\n",
       "        text-align: right;\n",
       "    }\n",
       "</style>\n",
       "<table border=\"1\" class=\"dataframe\">\n",
       "  <thead>\n",
       "    <tr style=\"text-align: right;\">\n",
       "      <th></th>\n",
       "      <th>coefficients</th>\n",
       "    </tr>\n",
       "  </thead>\n",
       "  <tbody>\n",
       "    <tr>\n",
       "      <th>exterior_2nd_HdBoard</th>\n",
       "      <td>-909.082996</td>\n",
       "    </tr>\n",
       "    <tr>\n",
       "      <th>bldg_type_Duplex</th>\n",
       "      <td>-988.343831</td>\n",
       "    </tr>\n",
       "    <tr>\n",
       "      <th>heating_OthW</th>\n",
       "      <td>-1037.983675</td>\n",
       "    </tr>\n",
       "    <tr>\n",
       "      <th>neighborhood_NWAmes</th>\n",
       "      <td>-1295.797275</td>\n",
       "    </tr>\n",
       "    <tr>\n",
       "      <th>bsmt_cond</th>\n",
       "      <td>-1352.379744</td>\n",
       "    </tr>\n",
       "    <tr>\n",
       "      <th>bldg_type_Twnhs</th>\n",
       "      <td>-1469.751566</td>\n",
       "    </tr>\n",
       "    <tr>\n",
       "      <th>mas_vnr_type_BrkFace</th>\n",
       "      <td>-2072.346402</td>\n",
       "    </tr>\n",
       "    <tr>\n",
       "      <th>bldg_type_TwnhsE</th>\n",
       "      <td>-2155.352892</td>\n",
       "    </tr>\n",
       "    <tr>\n",
       "      <th>bedroom_abvgr</th>\n",
       "      <td>-2300.149454</td>\n",
       "    </tr>\n",
       "    <tr>\n",
       "      <th>ms_subclass</th>\n",
       "      <td>-4275.095491</td>\n",
       "    </tr>\n",
       "  </tbody>\n",
       "</table>\n",
       "</div>"
      ],
      "text/plain": [
       "                      coefficients\n",
       "exterior_2nd_HdBoard   -909.082996\n",
       "bldg_type_Duplex       -988.343831\n",
       "heating_OthW          -1037.983675\n",
       "neighborhood_NWAmes   -1295.797275\n",
       "bsmt_cond             -1352.379744\n",
       "bldg_type_Twnhs       -1469.751566\n",
       "mas_vnr_type_BrkFace  -2072.346402\n",
       "bldg_type_TwnhsE      -2155.352892\n",
       "bedroom_abvgr         -2300.149454\n",
       "ms_subclass           -4275.095491"
      ]
     },
     "execution_count": 33,
     "metadata": {},
     "output_type": "execute_result"
    }
   ],
   "source": [
    "# Print top 10 negatively correlated features with their coefficients (lasso model)\n",
    "\n",
    "coef_lasso[-10:]"
   ]
  },
  {
   "cell_type": "markdown",
   "metadata": {},
   "source": [
    "#### Plotting the coefficients for  Ridge model <br>"
   ]
  },
  {
   "cell_type": "code",
   "execution_count": 34,
   "metadata": {},
   "outputs": [
    {
     "name": "stdout",
     "output_type": "stream",
     "text": [
      "Total number of features in X_train were: 190\n",
      "-------------------------\n",
      "Number of regression coefficients shrinked to zero by ridge are: 9\n"
     ]
    }
   ],
   "source": [
    "# Create a dataframe for the ridge coefficients\n",
    "coef = pd.DataFrame((ridgeCV.coef_), index=predictor_columns)\n",
    "coef.columns=['coefficients']\n",
    "\n",
    "print(\"Total number of features in X_train were: {}\".format(len(predictor_columns)))\n",
    "print(\"-------------------------\")\n",
    "print(\"Number of regression coefficients shrinked to zero by ridge are: {}\".format(coef[coef['coefficients']==0.000000].count()[0]))"
   ]
  },
  {
   "cell_type": "code",
   "execution_count": 35,
   "metadata": {},
   "outputs": [
    {
     "data": {
      "image/png": "[encoded data removed]",
      "text/plain": [
       "<Figure size 1080x3240 with 1 Axes>"
      ]
     },
     "metadata": {
      "needs_background": "light"
     },
     "output_type": "display_data"
    }
   ],
   "source": [
    "# Dropping the features with coefficients of zero.\n",
    "coef.drop(coef[coef['coefficients']==0.000000].index, inplace=True)\n",
    "\n",
    "# Sort the coefficients in descending order\n",
    "coef.sort_values(['coefficients'], ascending=False, inplace=True)\n",
    "\n",
    "# Reset the index of dataframe\n",
    "coef.reset_index\n",
    "\n",
    "#Plot the coefficients\n",
    "fig = plt.figure(figsize=(15,45))\n",
    "ax = sns.barplot(y=coef.index,x='coefficients', data=coef, orient=\"h\");"
   ]
  },
  {
   "cell_type": "code",
   "execution_count": 36,
   "metadata": {},
   "outputs": [
    {
     "data": {
      "text/html": [
       "<div>\n",
       "<style scoped>\n",
       "    .dataframe tbody tr th:only-of-type {\n",
       "        vertical-align: middle;\n",
       "    }\n",
       "\n",
       "    .dataframe tbody tr th {\n",
       "        vertical-align: top;\n",
       "    }\n",
       "\n",
       "    .dataframe thead th {\n",
       "        text-align: right;\n",
       "    }\n",
       "</style>\n",
       "<table border=\"1\" class=\"dataframe\">\n",
       "  <thead>\n",
       "    <tr style=\"text-align: right;\">\n",
       "      <th></th>\n",
       "      <th>coefficients</th>\n",
       "    </tr>\n",
       "  </thead>\n",
       "  <tbody>\n",
       "    <tr>\n",
       "      <th>gr_liv_area</th>\n",
       "      <td>17939.065271</td>\n",
       "    </tr>\n",
       "    <tr>\n",
       "      <th>overall_qual</th>\n",
       "      <td>10346.936500</td>\n",
       "    </tr>\n",
       "    <tr>\n",
       "      <th>total_bsmt_sf</th>\n",
       "      <td>10109.495550</td>\n",
       "    </tr>\n",
       "    <tr>\n",
       "      <th>mas_vnr_area</th>\n",
       "      <td>8728.998984</td>\n",
       "    </tr>\n",
       "    <tr>\n",
       "      <th>neighborhood_NridgHt</th>\n",
       "      <td>5491.404580</td>\n",
       "    </tr>\n",
       "    <tr>\n",
       "      <th>bsmt_exposure</th>\n",
       "      <td>5387.711553</td>\n",
       "    </tr>\n",
       "    <tr>\n",
       "      <th>neighborhood_StoneBr</th>\n",
       "      <td>5384.414704</td>\n",
       "    </tr>\n",
       "    <tr>\n",
       "      <th>lot_area</th>\n",
       "      <td>5363.531933</td>\n",
       "    </tr>\n",
       "    <tr>\n",
       "      <th>garage_area</th>\n",
       "      <td>5324.053116</td>\n",
       "    </tr>\n",
       "    <tr>\n",
       "      <th>kitchen_qual</th>\n",
       "      <td>5072.100529</td>\n",
       "    </tr>\n",
       "  </tbody>\n",
       "</table>\n",
       "</div>"
      ],
      "text/plain": [
       "                      coefficients\n",
       "gr_liv_area           17939.065271\n",
       "overall_qual          10346.936500\n",
       "total_bsmt_sf         10109.495550\n",
       "mas_vnr_area           8728.998984\n",
       "neighborhood_NridgHt   5491.404580\n",
       "bsmt_exposure          5387.711553\n",
       "neighborhood_StoneBr   5384.414704\n",
       "lot_area               5363.531933\n",
       "garage_area            5324.053116\n",
       "kitchen_qual           5072.100529"
      ]
     },
     "execution_count": 36,
     "metadata": {},
     "output_type": "execute_result"
    }
   ],
   "source": [
    "# Print top 10 features with their coefficients (ridge model)\n",
    "\n",
    "coef[:10]"
   ]
  },
  {
   "cell_type": "code",
   "execution_count": 37,
   "metadata": {},
   "outputs": [
    {
     "data": {
      "text/html": [
       "<div>\n",
       "<style scoped>\n",
       "    .dataframe tbody tr th:only-of-type {\n",
       "        vertical-align: middle;\n",
       "    }\n",
       "\n",
       "    .dataframe tbody tr th {\n",
       "        vertical-align: top;\n",
       "    }\n",
       "\n",
       "    .dataframe thead th {\n",
       "        text-align: right;\n",
       "    }\n",
       "</style>\n",
       "<table border=\"1\" class=\"dataframe\">\n",
       "  <thead>\n",
       "    <tr style=\"text-align: right;\">\n",
       "      <th></th>\n",
       "      <th>coefficients</th>\n",
       "    </tr>\n",
       "  </thead>\n",
       "  <tbody>\n",
       "    <tr>\n",
       "      <th>neighborhood_Gilbert</th>\n",
       "      <td>-1752.712112</td>\n",
       "    </tr>\n",
       "    <tr>\n",
       "      <th>neighborhood_SawyerW</th>\n",
       "      <td>-1762.324211</td>\n",
       "    </tr>\n",
       "    <tr>\n",
       "      <th>neighborhood_Edwards</th>\n",
       "      <td>-1964.889338</td>\n",
       "    </tr>\n",
       "    <tr>\n",
       "      <th>bsmt_cond</th>\n",
       "      <td>-2145.648299</td>\n",
       "    </tr>\n",
       "    <tr>\n",
       "      <th>neighborhood_NWAmes</th>\n",
       "      <td>-2223.221453</td>\n",
       "    </tr>\n",
       "    <tr>\n",
       "      <th>neighborhood_CollgCr</th>\n",
       "      <td>-2399.329445</td>\n",
       "    </tr>\n",
       "    <tr>\n",
       "      <th>bldg_type_Twnhs</th>\n",
       "      <td>-2734.171633</td>\n",
       "    </tr>\n",
       "    <tr>\n",
       "      <th>neighborhood_NAmes</th>\n",
       "      <td>-2794.522979</td>\n",
       "    </tr>\n",
       "    <tr>\n",
       "      <th>bldg_type_TwnhsE</th>\n",
       "      <td>-3180.963539</td>\n",
       "    </tr>\n",
       "    <tr>\n",
       "      <th>ms_subclass</th>\n",
       "      <td>-3913.701438</td>\n",
       "    </tr>\n",
       "  </tbody>\n",
       "</table>\n",
       "</div>"
      ],
      "text/plain": [
       "                      coefficients\n",
       "neighborhood_Gilbert  -1752.712112\n",
       "neighborhood_SawyerW  -1762.324211\n",
       "neighborhood_Edwards  -1964.889338\n",
       "bsmt_cond             -2145.648299\n",
       "neighborhood_NWAmes   -2223.221453\n",
       "neighborhood_CollgCr  -2399.329445\n",
       "bldg_type_Twnhs       -2734.171633\n",
       "neighborhood_NAmes    -2794.522979\n",
       "bldg_type_TwnhsE      -3180.963539\n",
       "ms_subclass           -3913.701438"
      ]
     },
     "execution_count": 37,
     "metadata": {},
     "output_type": "execute_result"
    }
   ],
   "source": [
    "# Print top 10 negatively correlated features with their coefficients (ridge model)\n",
    "\n",
    "coef[-10:]"
   ]
  },
  {
   "cell_type": "markdown",
   "metadata": {},
   "source": [
    "On comparing the R2 score for all 4 models: `Lasso` seems to perform better than others. <br>\n",
    "The Root-Mean-square-error was also better for `Lasso` than `Ridge`.\n",
    "So, I will be using `Lasso` model for further training and testing."
   ]
  },
  {
   "cell_type": "markdown",
   "metadata": {},
   "source": [
    "## Model Fitting and Evaluation\n",
    "---\n",
    "\n",
    "`LassoCV` seems to be doing the best. <br>\n",
    "\n",
    "- change to lasso and then optimum alpha for predicted ones.\n",
    "predicted - split\n",
    "scale\n",
    "fit n predict\n",
    "\n",
    "So, I will be fitting the model to the training data, evaluate the training and test scores and predicting the `salesprice`."
   ]
  },
  {
   "cell_type": "code",
   "execution_count": 38,
   "metadata": {},
   "outputs": [
    {
     "data": {
      "text/plain": [
       "Lasso(alpha=407.74304430295075, copy_X=True, fit_intercept=True, max_iter=1000,\n",
       "      normalize=False, positive=False, precompute=False, random_state=None,\n",
       "      selection='cyclic', tol=0.0001, warm_start=False)"
      ]
     },
     "execution_count": 38,
     "metadata": {},
     "output_type": "execute_result"
    }
   ],
   "source": [
    "# Instantiate the Lasso model with already calculated optimum alpha value\n",
    "lasso = Lasso(alpha = lassoCV.alpha_)\n",
    "\n",
    "# Fit the model with X_train and y_train data\n",
    "lasso.fit(X_train, y_train)"
   ]
  },
  {
   "cell_type": "code",
   "execution_count": 39,
   "metadata": {},
   "outputs": [
    {
     "name": "stdout",
     "output_type": "stream",
     "text": [
      "The R2 score for train data is: 0.9320\n"
     ]
    }
   ],
   "source": [
    "# Calculate the R2 score on training data\n",
    "r2_score_train = lasso.score(X_train, y_train)\n",
    "print('The R2 score for train data is: {:.4f}'.format(r2_score_train))"
   ]
  },
  {
   "cell_type": "code",
   "execution_count": 40,
   "metadata": {},
   "outputs": [
    {
     "data": {
      "text/plain": [
       "array([127035.04378475, 196123.37740236, 273784.63319438, 206522.63661701,\n",
       "       403330.51807997])"
      ]
     },
     "execution_count": 40,
     "metadata": {},
     "output_type": "execute_result"
    }
   ],
   "source": [
    "# Predicting the salesprice for X_test\n",
    "pred = lasso.predict(X_test)\n",
    "\n",
    "# Print first 5 predictions done.\n",
    "pred[:5]"
   ]
  },
  {
   "cell_type": "code",
   "execution_count": 41,
   "metadata": {},
   "outputs": [
    {
     "name": "stdout",
     "output_type": "stream",
     "text": [
      "The predictions R2 score is : 0.8734804481340674\n"
     ]
    }
   ],
   "source": [
    "# Calculate the R2 score for predictions\n",
    "\n",
    "r2_score_pred = r2_score(y_test, pred)\n",
    "print('The predictions R2 score is : {}'.format(r2_score_pred))"
   ]
  },
  {
   "cell_type": "code",
   "execution_count": 42,
   "metadata": {},
   "outputs": [
    {
     "data": {
      "text/plain": [
       "552      8964.956215\n",
       "501    -12623.377402\n",
       "1619     3715.366806\n",
       "461    -30037.636617\n",
       "508     42930.481920\n",
       "Name: saleprice, dtype: float64"
      ]
     },
     "execution_count": 42,
     "metadata": {},
     "output_type": "execute_result"
    }
   ],
   "source": [
    "# Calculate the residuals\n",
    "residuals = y_test - pred\n",
    "\n",
    "# Print first 5 residuals\n",
    "residuals[:5]"
   ]
  },
  {
   "cell_type": "code",
   "execution_count": 43,
   "metadata": {},
   "outputs": [
    {
     "data": {
      "text/plain": [
       "27622.569582384025"
      ]
     },
     "execution_count": 43,
     "metadata": {},
     "output_type": "execute_result"
    }
   ],
   "source": [
    "# Calculating the RMSE for model\n",
    "mean_squared_error(y_test, pred)\n",
    "rmse = np.sqrt(mean_squared_error(y_test, pred))\n",
    "rmse"
   ]
  },
  {
   "cell_type": "code",
   "execution_count": 44,
   "metadata": {},
   "outputs": [
    {
     "data": {
      "image/png": "[encoded data removed]",
      "text/plain": [
       "<Figure size 432x288 with 1 Axes>"
      ]
     },
     "metadata": {
      "needs_background": "light"
     },
     "output_type": "display_data"
    }
   ],
   "source": [
    "# Plot the histogram for residuals\n",
    "residuals.hist(bins=50)\n",
    "plt.title('Histogram for residuals');"
   ]
  },
  {
   "cell_type": "code",
   "execution_count": 45,
   "metadata": {},
   "outputs": [
    {
     "data": {
      "image/png": "[encoded data removed]",
      "text/plain": [
       "<Figure size 720x504 with 1 Axes>"
      ]
     },
     "metadata": {
      "needs_background": "light"
     },
     "output_type": "display_data"
    }
   ],
   "source": [
    "# Residual plot\n",
    "fig = plt.figure(figsize=(10,7))\n",
    "\n",
    "ax = plt.scatter(x=pred,y=residuals)\n",
    "plt.plot([0,700000], [0,0], color='k', linestyle='--', linewidth=2);\n",
    "plt.ylabel('Residuals')\n",
    "plt.xlabel('Predicted values')\n",
    "plt.title('Residual plot',fontsize=20);\n",
    "\n",
    "#plt.ylim(-100000,)\n",
    "#plt.xlim(-100000,)"
   ]
  },
  {
   "cell_type": "markdown",
   "metadata": {},
   "source": [
    "**Residual plot interpretation**<br>\n",
    "_The x-axis represents our predicted values and y-axis represnts the residual for each predicted value._\n",
    "\n",
    "_The distance from the line at 0 is how bad the prediction was for that value._\n",
    "\n",
    "_Since, in this residual plot, values are not substantially not far from line at 0, we can say that accuracy of model is good._\n",
    "\n",
    "From the histogram of residuals, we can see that residuals are close to normal distribution.\n"
   ]
  },
  {
   "cell_type": "code",
   "execution_count": 46,
   "metadata": {},
   "outputs": [
    {
     "data": {
      "image/png": "[encoded data removed]",
      "text/plain": [
       "<Figure size 720x504 with 1 Axes>"
      ]
     },
     "metadata": {
      "needs_background": "light"
     },
     "output_type": "display_data"
    }
   ],
   "source": [
    "# Scatter plot to understand the relationship between predicted and actual values.\n",
    "fig = plt.figure(figsize=(10,7))\n",
    "ax = sns.regplot(y_test, pred)\n",
    "ax.set_title('Actual vs predicted values', fontsize=20)\n",
    "ax.set_xlabel('Actual values', fontsize=15)\n",
    "ax.set_ylabel('Predicted values', fontsize=15);"
   ]
  },
  {
   "cell_type": "markdown",
   "metadata": {},
   "source": [
    "**Predicted vs Actual values plot interpretation**<br>\n",
    "Predictions have close correlation with the Actual values. Therefore, we can say that accuracy of model is good."
   ]
  },
  {
   "cell_type": "code",
   "execution_count": 47,
   "metadata": {
    "scrolled": true
   },
   "outputs": [
    {
     "data": {
      "image/png": "[encoded data removed]",
      "text/plain": [
       "<Figure size 1080x504 with 1 Axes>"
      ]
     },
     "metadata": {
      "needs_background": "light"
     },
     "output_type": "display_data"
    }
   ],
   "source": [
    "# Distribution plot for predicted and actual values\n",
    "fig = plt.figure(figsize=(15,7))\n",
    "\n",
    "ax1 = sns.distplot(y_test,hist=False, label='Actual test values', color='b')\n",
    "sns.distplot(pred,hist=False,label='Predicted values', color='r',ax=ax1)\n",
    "\n",
    "ax1.set_title('Distribution plot for actual and predicted values',fontsize=20);"
   ]
  },
  {
   "cell_type": "markdown",
   "metadata": {},
   "source": [
    "### Feature selection based on lasso.\n",
    "\n",
    "It makes sense to drop the features whose coefficients became zero by lasso from our initial predictors list."
   ]
  },
  {
   "cell_type": "code",
   "execution_count": 48,
   "metadata": {},
   "outputs": [
    {
     "name": "stdout",
     "output_type": "stream",
     "text": [
      "Features used are: 104\n"
     ]
    }
   ],
   "source": [
    "# Take the features from lasso coefficients\n",
    "final_predictor_features = list(coef_lasso.index)\n",
    "\n",
    "print(\"Features used are: {}\".format(len(final_predictor_features)))"
   ]
  },
  {
   "cell_type": "markdown",
   "metadata": {},
   "source": [
    "## Model fitting on entire X_train dataset.\n",
    "\n",
    "In this step, I will be training my model on entire training data.<br>\n",
    "\n",
    "So, X_train_final will be entire dataset minus the target variable.<br>\n",
    "y_train_final will be `saleprice` column in clean_train data.\n",
    "\n",
    "X_test_final will be predictor columns, like in X_train_final."
   ]
  },
  {
   "cell_type": "code",
   "execution_count": 49,
   "metadata": {},
   "outputs": [],
   "source": [
    "# To see all columns in jupyter notebook\n",
    "pd.set_option('display.max_columns', 200)"
   ]
  },
  {
   "cell_type": "code",
   "execution_count": 50,
   "metadata": {},
   "outputs": [],
   "source": [
    "# Creating the feature and target variables.\n",
    "X_train_final = clean_train[final_predictor_features]\n",
    "y_train_final = clean_train['saleprice']"
   ]
  },
  {
   "cell_type": "code",
   "execution_count": 51,
   "metadata": {},
   "outputs": [],
   "source": [
    "# Creating the X_test_final data\n",
    "X_test_final = clean_test[final_predictor_features]"
   ]
  },
  {
   "cell_type": "markdown",
   "metadata": {},
   "source": [
    "### Scaling the X_train_final and X_test_final data"
   ]
  },
  {
   "cell_type": "code",
   "execution_count": 52,
   "metadata": {},
   "outputs": [
    {
     "data": {
      "text/html": [
       "<div>\n",
       "<style scoped>\n",
       "    .dataframe tbody tr th:only-of-type {\n",
       "        vertical-align: middle;\n",
       "    }\n",
       "\n",
       "    .dataframe tbody tr th {\n",
       "        vertical-align: top;\n",
       "    }\n",
       "\n",
       "    .dataframe thead th {\n",
       "        text-align: right;\n",
       "    }\n",
       "</style>\n",
       "<table border=\"1\" class=\"dataframe\">\n",
       "  <thead>\n",
       "    <tr style=\"text-align: right;\">\n",
       "      <th></th>\n",
       "      <th>gr_liv_area</th>\n",
       "      <th>overall_qual</th>\n",
       "      <th>total_bsmt_sf</th>\n",
       "      <th>mas_vnr_area</th>\n",
       "      <th>neighborhood_NridgHt</th>\n",
       "      <th>neighborhood_StoneBr</th>\n",
       "      <th>year_built</th>\n",
       "      <th>bsmt_exposure</th>\n",
       "      <th>exter_qual</th>\n",
       "      <th>garage_area</th>\n",
       "      <th>lot_area</th>\n",
       "      <th>kitchen_qual</th>\n",
       "      <th>overall_cond</th>\n",
       "      <th>bsmt_full_bath</th>\n",
       "      <th>sale_type_New</th>\n",
       "      <th>functional</th>\n",
       "      <th>bsmtfin_type_1</th>\n",
       "      <th>fireplaces</th>\n",
       "      <th>roof_style_Hip</th>\n",
       "      <th>roof_matl_WdShngl</th>\n",
       "      <th>screen_porch</th>\n",
       "      <th>exterior_1st_BrkFace</th>\n",
       "      <th>lot_config_CulDSac</th>\n",
       "      <th>neighborhood_NoRidge</th>\n",
       "      <th>neighborhood_Somerst</th>\n",
       "      <th>neighborhood_Crawfor</th>\n",
       "      <th>condition_1_Norm</th>\n",
       "      <th>mas_vnr_type_Stone</th>\n",
       "      <th>mas_vnr_type_None</th>\n",
       "      <th>bsmt_qual</th>\n",
       "      <th>condition_1_PosN</th>\n",
       "      <th>year_remod_add</th>\n",
       "      <th>land_contour_HLS</th>\n",
       "      <th>condition_2_PosA</th>\n",
       "      <th>garage_type_None</th>\n",
       "      <th>lot_frontage</th>\n",
       "      <th>exterior_1st_CemntBd</th>\n",
       "      <th>sale_type_Con</th>\n",
       "      <th>half_bath</th>\n",
       "      <th>foundation_Slab</th>\n",
       "      <th>garage_type_BuiltIn</th>\n",
       "      <th>foundation_PConc</th>\n",
       "      <th>neighborhood_NPkVill</th>\n",
       "      <th>neighborhood_BrkSide</th>\n",
       "      <th>condition_1_PosA</th>\n",
       "      <th>heating_qc</th>\n",
       "      <th>open_porch_sf</th>\n",
       "      <th>garage_finish</th>\n",
       "      <th>wood_deck_sf</th>\n",
       "      <th>exterior_2nd_MetalSd</th>\n",
       "      <th>heating_Wall</th>\n",
       "      <th>garage_type_Detchd</th>\n",
       "      <th>sale_type_CWD</th>\n",
       "      <th>sale_type_ConLD</th>\n",
       "      <th>exterior_1st_AsphShn</th>\n",
       "      <th>street_Pave</th>\n",
       "      <th>roof_matl_Membran</th>\n",
       "      <th>neighborhood_BrDale</th>\n",
       "      <th>sale_type_ConLI</th>\n",
       "      <th>misc_val</th>\n",
       "      <th>pool_area</th>\n",
       "      <th>ms_zoning_I (all)</th>\n",
       "      <th>neighborhood_Veenker</th>\n",
       "      <th>neighborhood_Sawyer</th>\n",
       "      <th>paved_drive</th>\n",
       "      <th>exterior_2nd_Wd Shng</th>\n",
       "      <th>electrical</th>\n",
       "      <th>lot_config_FR3</th>\n",
       "      <th>roof_matl_WdShake</th>\n",
       "      <th>neighborhood_Timber</th>\n",
       "      <th>central_air</th>\n",
       "      <th>low_qual_fin_sf</th>\n",
       "      <th>exterior_1st_Plywood</th>\n",
       "      <th>condition_1_RRNe</th>\n",
       "      <th>garage_type_CarPort</th>\n",
       "      <th>neighborhood_ClearCr</th>\n",
       "      <th>heating_GasW</th>\n",
       "      <th>roof_matl_Tar&amp;Grv</th>\n",
       "      <th>exterior_2nd_Plywood</th>\n",
       "      <th>exterior_2nd_BrkFace</th>\n",
       "      <th>condition_1_RRNn</th>\n",
       "      <th>kitchen_abvgr</th>\n",
       "      <th>neighborhood_Edwards</th>\n",
       "      <th>ms_zoning_C (all)</th>\n",
       "      <th>bsmtfin_type_2</th>\n",
       "      <th>ms_zoning_RM</th>\n",
       "      <th>neighborhood_OldTown</th>\n",
       "      <th>exterior_1st_BrkComm</th>\n",
       "      <th>roof_style_Shed</th>\n",
       "      <th>condition_1_RRAe</th>\n",
       "      <th>exterior_1st_Wd Sdng</th>\n",
       "      <th>neighborhood_SawyerW</th>\n",
       "      <th>neighborhood_CollgCr</th>\n",
       "      <th>neighborhood_NAmes</th>\n",
       "      <th>exterior_2nd_HdBoard</th>\n",
       "      <th>bldg_type_Duplex</th>\n",
       "      <th>heating_OthW</th>\n",
       "      <th>neighborhood_NWAmes</th>\n",
       "      <th>bsmt_cond</th>\n",
       "      <th>bldg_type_Twnhs</th>\n",
       "      <th>mas_vnr_type_BrkFace</th>\n",
       "      <th>bldg_type_TwnhsE</th>\n",
       "      <th>bedroom_abvgr</th>\n",
       "      <th>ms_subclass</th>\n",
       "    </tr>\n",
       "  </thead>\n",
       "  <tbody>\n",
       "    <tr>\n",
       "      <th>0</th>\n",
       "      <td>1479</td>\n",
       "      <td>6</td>\n",
       "      <td>725</td>\n",
       "      <td>289</td>\n",
       "      <td>0</td>\n",
       "      <td>0</td>\n",
       "      <td>1976</td>\n",
       "      <td>0</td>\n",
       "      <td>4</td>\n",
       "      <td>475</td>\n",
       "      <td>13517</td>\n",
       "      <td>4</td>\n",
       "      <td>8</td>\n",
       "      <td>0</td>\n",
       "      <td>0</td>\n",
       "      <td>8</td>\n",
       "      <td>4</td>\n",
       "      <td>0</td>\n",
       "      <td>0</td>\n",
       "      <td>0</td>\n",
       "      <td>0</td>\n",
       "      <td>0</td>\n",
       "      <td>1</td>\n",
       "      <td>0</td>\n",
       "      <td>0</td>\n",
       "      <td>0</td>\n",
       "      <td>0</td>\n",
       "      <td>0</td>\n",
       "      <td>0</td>\n",
       "      <td>3</td>\n",
       "      <td>0</td>\n",
       "      <td>2005</td>\n",
       "      <td>0</td>\n",
       "      <td>0</td>\n",
       "      <td>0</td>\n",
       "      <td>0</td>\n",
       "      <td>0</td>\n",
       "      <td>0</td>\n",
       "      <td>1</td>\n",
       "      <td>0</td>\n",
       "      <td>0</td>\n",
       "      <td>0</td>\n",
       "      <td>0</td>\n",
       "      <td>0</td>\n",
       "      <td>0</td>\n",
       "      <td>5</td>\n",
       "      <td>44</td>\n",
       "      <td>2</td>\n",
       "      <td>0</td>\n",
       "      <td>0</td>\n",
       "      <td>0</td>\n",
       "      <td>0</td>\n",
       "      <td>0</td>\n",
       "      <td>0</td>\n",
       "      <td>0</td>\n",
       "      <td>1</td>\n",
       "      <td>0</td>\n",
       "      <td>0</td>\n",
       "      <td>0</td>\n",
       "      <td>0</td>\n",
       "      <td>0</td>\n",
       "      <td>0</td>\n",
       "      <td>0</td>\n",
       "      <td>1</td>\n",
       "      <td>2</td>\n",
       "      <td>0</td>\n",
       "      <td>5</td>\n",
       "      <td>0</td>\n",
       "      <td>0</td>\n",
       "      <td>0</td>\n",
       "      <td>1</td>\n",
       "      <td>0</td>\n",
       "      <td>0</td>\n",
       "      <td>0</td>\n",
       "      <td>0</td>\n",
       "      <td>0</td>\n",
       "      <td>0</td>\n",
       "      <td>0</td>\n",
       "      <td>1</td>\n",
       "      <td>0</td>\n",
       "      <td>0</td>\n",
       "      <td>1</td>\n",
       "      <td>0</td>\n",
       "      <td>0</td>\n",
       "      <td>0</td>\n",
       "      <td>0</td>\n",
       "      <td>0</td>\n",
       "      <td>0</td>\n",
       "      <td>0</td>\n",
       "      <td>1</td>\n",
       "      <td>0</td>\n",
       "      <td>0</td>\n",
       "      <td>0</td>\n",
       "      <td>0</td>\n",
       "      <td>0</td>\n",
       "      <td>0</td>\n",
       "      <td>0</td>\n",
       "      <td>0</td>\n",
       "      <td>3</td>\n",
       "      <td>0</td>\n",
       "      <td>1</td>\n",
       "      <td>0</td>\n",
       "      <td>3</td>\n",
       "      <td>60</td>\n",
       "    </tr>\n",
       "    <tr>\n",
       "      <th>1</th>\n",
       "      <td>2122</td>\n",
       "      <td>7</td>\n",
       "      <td>913</td>\n",
       "      <td>132</td>\n",
       "      <td>0</td>\n",
       "      <td>0</td>\n",
       "      <td>1996</td>\n",
       "      <td>0</td>\n",
       "      <td>4</td>\n",
       "      <td>559</td>\n",
       "      <td>11492</td>\n",
       "      <td>4</td>\n",
       "      <td>5</td>\n",
       "      <td>1</td>\n",
       "      <td>0</td>\n",
       "      <td>8</td>\n",
       "      <td>4</td>\n",
       "      <td>1</td>\n",
       "      <td>0</td>\n",
       "      <td>0</td>\n",
       "      <td>0</td>\n",
       "      <td>0</td>\n",
       "      <td>1</td>\n",
       "      <td>0</td>\n",
       "      <td>0</td>\n",
       "      <td>0</td>\n",
       "      <td>1</td>\n",
       "      <td>0</td>\n",
       "      <td>0</td>\n",
       "      <td>4</td>\n",
       "      <td>0</td>\n",
       "      <td>1997</td>\n",
       "      <td>0</td>\n",
       "      <td>0</td>\n",
       "      <td>0</td>\n",
       "      <td>43</td>\n",
       "      <td>0</td>\n",
       "      <td>0</td>\n",
       "      <td>1</td>\n",
       "      <td>0</td>\n",
       "      <td>0</td>\n",
       "      <td>1</td>\n",
       "      <td>0</td>\n",
       "      <td>0</td>\n",
       "      <td>0</td>\n",
       "      <td>5</td>\n",
       "      <td>74</td>\n",
       "      <td>2</td>\n",
       "      <td>0</td>\n",
       "      <td>0</td>\n",
       "      <td>0</td>\n",
       "      <td>0</td>\n",
       "      <td>0</td>\n",
       "      <td>0</td>\n",
       "      <td>0</td>\n",
       "      <td>1</td>\n",
       "      <td>0</td>\n",
       "      <td>0</td>\n",
       "      <td>0</td>\n",
       "      <td>0</td>\n",
       "      <td>0</td>\n",
       "      <td>0</td>\n",
       "      <td>0</td>\n",
       "      <td>0</td>\n",
       "      <td>2</td>\n",
       "      <td>0</td>\n",
       "      <td>5</td>\n",
       "      <td>0</td>\n",
       "      <td>0</td>\n",
       "      <td>0</td>\n",
       "      <td>1</td>\n",
       "      <td>0</td>\n",
       "      <td>0</td>\n",
       "      <td>0</td>\n",
       "      <td>0</td>\n",
       "      <td>0</td>\n",
       "      <td>0</td>\n",
       "      <td>0</td>\n",
       "      <td>0</td>\n",
       "      <td>0</td>\n",
       "      <td>0</td>\n",
       "      <td>1</td>\n",
       "      <td>0</td>\n",
       "      <td>0</td>\n",
       "      <td>0</td>\n",
       "      <td>0</td>\n",
       "      <td>0</td>\n",
       "      <td>0</td>\n",
       "      <td>0</td>\n",
       "      <td>0</td>\n",
       "      <td>0</td>\n",
       "      <td>1</td>\n",
       "      <td>0</td>\n",
       "      <td>0</td>\n",
       "      <td>0</td>\n",
       "      <td>0</td>\n",
       "      <td>0</td>\n",
       "      <td>0</td>\n",
       "      <td>3</td>\n",
       "      <td>0</td>\n",
       "      <td>1</td>\n",
       "      <td>0</td>\n",
       "      <td>4</td>\n",
       "      <td>60</td>\n",
       "    </tr>\n",
       "  </tbody>\n",
       "</table>\n",
       "</div>"
      ],
      "text/plain": [
       "   gr_liv_area  overall_qual  total_bsmt_sf  mas_vnr_area  \\\n",
       "0         1479             6            725           289   \n",
       "1         2122             7            913           132   \n",
       "\n",
       "   neighborhood_NridgHt  neighborhood_StoneBr  year_built  bsmt_exposure  \\\n",
       "0                     0                     0        1976              0   \n",
       "1                     0                     0        1996              0   \n",
       "\n",
       "   exter_qual  garage_area  lot_area  kitchen_qual  overall_cond  \\\n",
       "0           4          475     13517             4             8   \n",
       "1           4          559     11492             4             5   \n",
       "\n",
       "   bsmt_full_bath  sale_type_New  functional  bsmtfin_type_1  fireplaces  \\\n",
       "0               0              0           8               4           0   \n",
       "1               1              0           8               4           1   \n",
       "\n",
       "   roof_style_Hip  roof_matl_WdShngl  screen_porch  exterior_1st_BrkFace  \\\n",
       "0               0                  0             0                     0   \n",
       "1               0                  0             0                     0   \n",
       "\n",
       "   lot_config_CulDSac  neighborhood_NoRidge  neighborhood_Somerst  \\\n",
       "0                   1                     0                     0   \n",
       "1                   1                     0                     0   \n",
       "\n",
       "   neighborhood_Crawfor  condition_1_Norm  mas_vnr_type_Stone  \\\n",
       "0                     0                 0                   0   \n",
       "1                     0                 1                   0   \n",
       "\n",
       "   mas_vnr_type_None  bsmt_qual  condition_1_PosN  year_remod_add  \\\n",
       "0                  0          3                 0            2005   \n",
       "1                  0          4                 0            1997   \n",
       "\n",
       "   land_contour_HLS  condition_2_PosA  garage_type_None  lot_frontage  \\\n",
       "0                 0                 0                 0             0   \n",
       "1                 0                 0                 0            43   \n",
       "\n",
       "   exterior_1st_CemntBd  sale_type_Con  half_bath  foundation_Slab  \\\n",
       "0                     0              0          1                0   \n",
       "1                     0              0          1                0   \n",
       "\n",
       "   garage_type_BuiltIn  foundation_PConc  neighborhood_NPkVill  \\\n",
       "0                    0                 0                     0   \n",
       "1                    0                 1                     0   \n",
       "\n",
       "   neighborhood_BrkSide  condition_1_PosA  heating_qc  open_porch_sf  \\\n",
       "0                     0                 0           5             44   \n",
       "1                     0                 0           5             74   \n",
       "\n",
       "   garage_finish  wood_deck_sf  exterior_2nd_MetalSd  heating_Wall  \\\n",
       "0              2             0                     0             0   \n",
       "1              2             0                     0             0   \n",
       "\n",
       "   garage_type_Detchd  sale_type_CWD  sale_type_ConLD  exterior_1st_AsphShn  \\\n",
       "0                   0              0                0                     0   \n",
       "1                   0              0                0                     0   \n",
       "\n",
       "   street_Pave  roof_matl_Membran  neighborhood_BrDale  sale_type_ConLI  \\\n",
       "0            1                  0                    0                0   \n",
       "1            1                  0                    0                0   \n",
       "\n",
       "   misc_val  pool_area  ms_zoning_I (all)  neighborhood_Veenker  \\\n",
       "0         0          0                  0                     0   \n",
       "1         0          0                  0                     0   \n",
       "\n",
       "   neighborhood_Sawyer  paved_drive  exterior_2nd_Wd Shng  electrical  \\\n",
       "0                    1            2                     0           5   \n",
       "1                    0            2                     0           5   \n",
       "\n",
       "   lot_config_FR3  roof_matl_WdShake  neighborhood_Timber  central_air  \\\n",
       "0               0                  0                    0            1   \n",
       "1               0                  0                    0            1   \n",
       "\n",
       "   low_qual_fin_sf  exterior_1st_Plywood  condition_1_RRNe  \\\n",
       "0                0                     0                 0   \n",
       "1                0                     0                 0   \n",
       "\n",
       "   garage_type_CarPort  neighborhood_ClearCr  heating_GasW  roof_matl_Tar&Grv  \\\n",
       "0                    0                     0             0                  0   \n",
       "1                    0                     0             0                  0   \n",
       "\n",
       "   exterior_2nd_Plywood  exterior_2nd_BrkFace  condition_1_RRNn  \\\n",
       "0                     1                     0                 0   \n",
       "1                     0                     0                 0   \n",
       "\n",
       "   kitchen_abvgr  neighborhood_Edwards  ms_zoning_C (all)  bsmtfin_type_2  \\\n",
       "0              1                     0                  0               0   \n",
       "1              1                     0                  0               0   \n",
       "\n",
       "   ms_zoning_RM  neighborhood_OldTown  exterior_1st_BrkComm  roof_style_Shed  \\\n",
       "0             0                     0                     0                0   \n",
       "1             0                     0                     0                0   \n",
       "\n",
       "   condition_1_RRAe  exterior_1st_Wd Sdng  neighborhood_SawyerW  \\\n",
       "0                 1                     0                     0   \n",
       "1                 0                     0                     1   \n",
       "\n",
       "   neighborhood_CollgCr  neighborhood_NAmes  exterior_2nd_HdBoard  \\\n",
       "0                     0                   0                     0   \n",
       "1                     0                   0                     0   \n",
       "\n",
       "   bldg_type_Duplex  heating_OthW  neighborhood_NWAmes  bsmt_cond  \\\n",
       "0                 0             0                    0          3   \n",
       "1                 0             0                    0          3   \n",
       "\n",
       "   bldg_type_Twnhs  mas_vnr_type_BrkFace  bldg_type_TwnhsE  bedroom_abvgr  \\\n",
       "0                0                     1                 0              3   \n",
       "1                0                     1                 0              4   \n",
       "\n",
       "   ms_subclass  \n",
       "0           60  \n",
       "1           60  "
      ]
     },
     "execution_count": 52,
     "metadata": {},
     "output_type": "execute_result"
    }
   ],
   "source": [
    "# Check the first 2 rows of X_train_final\n",
    "X_train_final.head(2)"
   ]
  },
  {
   "cell_type": "code",
   "execution_count": 53,
   "metadata": {},
   "outputs": [
    {
     "data": {
      "text/html": [
       "<div>\n",
       "<style scoped>\n",
       "    .dataframe tbody tr th:only-of-type {\n",
       "        vertical-align: middle;\n",
       "    }\n",
       "\n",
       "    .dataframe tbody tr th {\n",
       "        vertical-align: top;\n",
       "    }\n",
       "\n",
       "    .dataframe thead th {\n",
       "        text-align: right;\n",
       "    }\n",
       "</style>\n",
       "<table border=\"1\" class=\"dataframe\">\n",
       "  <thead>\n",
       "    <tr style=\"text-align: right;\">\n",
       "      <th></th>\n",
       "      <th>gr_liv_area</th>\n",
       "      <th>overall_qual</th>\n",
       "      <th>total_bsmt_sf</th>\n",
       "      <th>mas_vnr_area</th>\n",
       "      <th>neighborhood_NridgHt</th>\n",
       "      <th>neighborhood_StoneBr</th>\n",
       "      <th>year_built</th>\n",
       "      <th>bsmt_exposure</th>\n",
       "      <th>exter_qual</th>\n",
       "      <th>garage_area</th>\n",
       "      <th>lot_area</th>\n",
       "      <th>kitchen_qual</th>\n",
       "      <th>overall_cond</th>\n",
       "      <th>bsmt_full_bath</th>\n",
       "      <th>sale_type_New</th>\n",
       "      <th>functional</th>\n",
       "      <th>bsmtfin_type_1</th>\n",
       "      <th>fireplaces</th>\n",
       "      <th>roof_style_Hip</th>\n",
       "      <th>roof_matl_WdShngl</th>\n",
       "      <th>screen_porch</th>\n",
       "      <th>exterior_1st_BrkFace</th>\n",
       "      <th>lot_config_CulDSac</th>\n",
       "      <th>neighborhood_NoRidge</th>\n",
       "      <th>neighborhood_Somerst</th>\n",
       "      <th>neighborhood_Crawfor</th>\n",
       "      <th>condition_1_Norm</th>\n",
       "      <th>mas_vnr_type_Stone</th>\n",
       "      <th>mas_vnr_type_None</th>\n",
       "      <th>bsmt_qual</th>\n",
       "      <th>condition_1_PosN</th>\n",
       "      <th>year_remod_add</th>\n",
       "      <th>land_contour_HLS</th>\n",
       "      <th>condition_2_PosA</th>\n",
       "      <th>garage_type_None</th>\n",
       "      <th>lot_frontage</th>\n",
       "      <th>exterior_1st_CemntBd</th>\n",
       "      <th>sale_type_Con</th>\n",
       "      <th>half_bath</th>\n",
       "      <th>foundation_Slab</th>\n",
       "      <th>garage_type_BuiltIn</th>\n",
       "      <th>foundation_PConc</th>\n",
       "      <th>neighborhood_NPkVill</th>\n",
       "      <th>neighborhood_BrkSide</th>\n",
       "      <th>condition_1_PosA</th>\n",
       "      <th>heating_qc</th>\n",
       "      <th>open_porch_sf</th>\n",
       "      <th>garage_finish</th>\n",
       "      <th>wood_deck_sf</th>\n",
       "      <th>exterior_2nd_MetalSd</th>\n",
       "      <th>heating_Wall</th>\n",
       "      <th>garage_type_Detchd</th>\n",
       "      <th>sale_type_CWD</th>\n",
       "      <th>sale_type_ConLD</th>\n",
       "      <th>exterior_1st_AsphShn</th>\n",
       "      <th>street_Pave</th>\n",
       "      <th>roof_matl_Membran</th>\n",
       "      <th>neighborhood_BrDale</th>\n",
       "      <th>sale_type_ConLI</th>\n",
       "      <th>misc_val</th>\n",
       "      <th>pool_area</th>\n",
       "      <th>ms_zoning_I (all)</th>\n",
       "      <th>neighborhood_Veenker</th>\n",
       "      <th>neighborhood_Sawyer</th>\n",
       "      <th>paved_drive</th>\n",
       "      <th>exterior_2nd_Wd Shng</th>\n",
       "      <th>electrical</th>\n",
       "      <th>lot_config_FR3</th>\n",
       "      <th>roof_matl_WdShake</th>\n",
       "      <th>neighborhood_Timber</th>\n",
       "      <th>central_air</th>\n",
       "      <th>low_qual_fin_sf</th>\n",
       "      <th>exterior_1st_Plywood</th>\n",
       "      <th>condition_1_RRNe</th>\n",
       "      <th>garage_type_CarPort</th>\n",
       "      <th>neighborhood_ClearCr</th>\n",
       "      <th>heating_GasW</th>\n",
       "      <th>roof_matl_Tar&amp;Grv</th>\n",
       "      <th>exterior_2nd_Plywood</th>\n",
       "      <th>exterior_2nd_BrkFace</th>\n",
       "      <th>condition_1_RRNn</th>\n",
       "      <th>kitchen_abvgr</th>\n",
       "      <th>neighborhood_Edwards</th>\n",
       "      <th>ms_zoning_C (all)</th>\n",
       "      <th>bsmtfin_type_2</th>\n",
       "      <th>ms_zoning_RM</th>\n",
       "      <th>neighborhood_OldTown</th>\n",
       "      <th>exterior_1st_BrkComm</th>\n",
       "      <th>roof_style_Shed</th>\n",
       "      <th>condition_1_RRAe</th>\n",
       "      <th>exterior_1st_Wd Sdng</th>\n",
       "      <th>neighborhood_SawyerW</th>\n",
       "      <th>neighborhood_CollgCr</th>\n",
       "      <th>neighborhood_NAmes</th>\n",
       "      <th>exterior_2nd_HdBoard</th>\n",
       "      <th>bldg_type_Duplex</th>\n",
       "      <th>heating_OthW</th>\n",
       "      <th>neighborhood_NWAmes</th>\n",
       "      <th>bsmt_cond</th>\n",
       "      <th>bldg_type_Twnhs</th>\n",
       "      <th>mas_vnr_type_BrkFace</th>\n",
       "      <th>bldg_type_TwnhsE</th>\n",
       "      <th>bedroom_abvgr</th>\n",
       "      <th>ms_subclass</th>\n",
       "    </tr>\n",
       "  </thead>\n",
       "  <tbody>\n",
       "    <tr>\n",
       "      <th>0</th>\n",
       "      <td>1928</td>\n",
       "      <td>6</td>\n",
       "      <td>1020</td>\n",
       "      <td>0</td>\n",
       "      <td>0</td>\n",
       "      <td>0</td>\n",
       "      <td>1910</td>\n",
       "      <td>0</td>\n",
       "      <td>3</td>\n",
       "      <td>440</td>\n",
       "      <td>9142</td>\n",
       "      <td>2</td>\n",
       "      <td>8</td>\n",
       "      <td>0</td>\n",
       "      <td>0</td>\n",
       "      <td>8</td>\n",
       "      <td>0</td>\n",
       "      <td>0</td>\n",
       "      <td>0</td>\n",
       "      <td>0</td>\n",
       "      <td>0</td>\n",
       "      <td>0</td>\n",
       "      <td>0</td>\n",
       "      <td>0</td>\n",
       "      <td>0</td>\n",
       "      <td>0</td>\n",
       "      <td>1</td>\n",
       "      <td>0</td>\n",
       "      <td>1</td>\n",
       "      <td>2</td>\n",
       "      <td>0</td>\n",
       "      <td>1950</td>\n",
       "      <td>0</td>\n",
       "      <td>0</td>\n",
       "      <td>0</td>\n",
       "      <td>69</td>\n",
       "      <td>0</td>\n",
       "      <td>0</td>\n",
       "      <td>0</td>\n",
       "      <td>0</td>\n",
       "      <td>0</td>\n",
       "      <td>0</td>\n",
       "      <td>0</td>\n",
       "      <td>0</td>\n",
       "      <td>0</td>\n",
       "      <td>4</td>\n",
       "      <td>60</td>\n",
       "      <td>1</td>\n",
       "      <td>0</td>\n",
       "      <td>0</td>\n",
       "      <td>0</td>\n",
       "      <td>1</td>\n",
       "      <td>0</td>\n",
       "      <td>0</td>\n",
       "      <td>0</td>\n",
       "      <td>1</td>\n",
       "      <td>0</td>\n",
       "      <td>0</td>\n",
       "      <td>0</td>\n",
       "      <td>0</td>\n",
       "      <td>0</td>\n",
       "      <td>0</td>\n",
       "      <td>0</td>\n",
       "      <td>0</td>\n",
       "      <td>2</td>\n",
       "      <td>0</td>\n",
       "      <td>2</td>\n",
       "      <td>0</td>\n",
       "      <td>0</td>\n",
       "      <td>0</td>\n",
       "      <td>0</td>\n",
       "      <td>0</td>\n",
       "      <td>0</td>\n",
       "      <td>0</td>\n",
       "      <td>0</td>\n",
       "      <td>0</td>\n",
       "      <td>0</td>\n",
       "      <td>0</td>\n",
       "      <td>0</td>\n",
       "      <td>0</td>\n",
       "      <td>0</td>\n",
       "      <td>2</td>\n",
       "      <td>0</td>\n",
       "      <td>0</td>\n",
       "      <td>0</td>\n",
       "      <td>1</td>\n",
       "      <td>1</td>\n",
       "      <td>0</td>\n",
       "      <td>0</td>\n",
       "      <td>0</td>\n",
       "      <td>0</td>\n",
       "      <td>0</td>\n",
       "      <td>0</td>\n",
       "      <td>0</td>\n",
       "      <td>0</td>\n",
       "      <td>0</td>\n",
       "      <td>0</td>\n",
       "      <td>0</td>\n",
       "      <td>3</td>\n",
       "      <td>0</td>\n",
       "      <td>0</td>\n",
       "      <td>0</td>\n",
       "      <td>4</td>\n",
       "      <td>190</td>\n",
       "    </tr>\n",
       "    <tr>\n",
       "      <th>1</th>\n",
       "      <td>1967</td>\n",
       "      <td>5</td>\n",
       "      <td>1967</td>\n",
       "      <td>0</td>\n",
       "      <td>0</td>\n",
       "      <td>0</td>\n",
       "      <td>1977</td>\n",
       "      <td>0</td>\n",
       "      <td>3</td>\n",
       "      <td>580</td>\n",
       "      <td>9662</td>\n",
       "      <td>3</td>\n",
       "      <td>4</td>\n",
       "      <td>0</td>\n",
       "      <td>0</td>\n",
       "      <td>8</td>\n",
       "      <td>0</td>\n",
       "      <td>0</td>\n",
       "      <td>0</td>\n",
       "      <td>0</td>\n",
       "      <td>0</td>\n",
       "      <td>0</td>\n",
       "      <td>0</td>\n",
       "      <td>0</td>\n",
       "      <td>0</td>\n",
       "      <td>0</td>\n",
       "      <td>1</td>\n",
       "      <td>0</td>\n",
       "      <td>1</td>\n",
       "      <td>4</td>\n",
       "      <td>0</td>\n",
       "      <td>1977</td>\n",
       "      <td>0</td>\n",
       "      <td>0</td>\n",
       "      <td>0</td>\n",
       "      <td>0</td>\n",
       "      <td>0</td>\n",
       "      <td>0</td>\n",
       "      <td>0</td>\n",
       "      <td>0</td>\n",
       "      <td>0</td>\n",
       "      <td>0</td>\n",
       "      <td>0</td>\n",
       "      <td>0</td>\n",
       "      <td>0</td>\n",
       "      <td>3</td>\n",
       "      <td>0</td>\n",
       "      <td>3</td>\n",
       "      <td>170</td>\n",
       "      <td>0</td>\n",
       "      <td>0</td>\n",
       "      <td>0</td>\n",
       "      <td>0</td>\n",
       "      <td>0</td>\n",
       "      <td>0</td>\n",
       "      <td>1</td>\n",
       "      <td>0</td>\n",
       "      <td>0</td>\n",
       "      <td>0</td>\n",
       "      <td>0</td>\n",
       "      <td>0</td>\n",
       "      <td>0</td>\n",
       "      <td>0</td>\n",
       "      <td>1</td>\n",
       "      <td>2</td>\n",
       "      <td>0</td>\n",
       "      <td>5</td>\n",
       "      <td>0</td>\n",
       "      <td>0</td>\n",
       "      <td>0</td>\n",
       "      <td>1</td>\n",
       "      <td>0</td>\n",
       "      <td>1</td>\n",
       "      <td>0</td>\n",
       "      <td>0</td>\n",
       "      <td>0</td>\n",
       "      <td>0</td>\n",
       "      <td>0</td>\n",
       "      <td>1</td>\n",
       "      <td>0</td>\n",
       "      <td>0</td>\n",
       "      <td>2</td>\n",
       "      <td>0</td>\n",
       "      <td>0</td>\n",
       "      <td>0</td>\n",
       "      <td>0</td>\n",
       "      <td>0</td>\n",
       "      <td>0</td>\n",
       "      <td>0</td>\n",
       "      <td>0</td>\n",
       "      <td>0</td>\n",
       "      <td>0</td>\n",
       "      <td>0</td>\n",
       "      <td>0</td>\n",
       "      <td>0</td>\n",
       "      <td>1</td>\n",
       "      <td>0</td>\n",
       "      <td>0</td>\n",
       "      <td>3</td>\n",
       "      <td>0</td>\n",
       "      <td>0</td>\n",
       "      <td>0</td>\n",
       "      <td>6</td>\n",
       "      <td>90</td>\n",
       "    </tr>\n",
       "  </tbody>\n",
       "</table>\n",
       "</div>"
      ],
      "text/plain": [
       "   gr_liv_area  overall_qual  total_bsmt_sf  mas_vnr_area  \\\n",
       "0         1928             6           1020             0   \n",
       "1         1967             5           1967             0   \n",
       "\n",
       "   neighborhood_NridgHt  neighborhood_StoneBr  year_built  bsmt_exposure  \\\n",
       "0                     0                     0        1910              0   \n",
       "1                     0                     0        1977              0   \n",
       "\n",
       "   exter_qual  garage_area  lot_area  kitchen_qual  overall_cond  \\\n",
       "0           3          440      9142             2             8   \n",
       "1           3          580      9662             3             4   \n",
       "\n",
       "   bsmt_full_bath  sale_type_New  functional  bsmtfin_type_1  fireplaces  \\\n",
       "0               0              0           8               0           0   \n",
       "1               0              0           8               0           0   \n",
       "\n",
       "   roof_style_Hip  roof_matl_WdShngl  screen_porch  exterior_1st_BrkFace  \\\n",
       "0               0                  0             0                     0   \n",
       "1               0                  0             0                     0   \n",
       "\n",
       "   lot_config_CulDSac  neighborhood_NoRidge  neighborhood_Somerst  \\\n",
       "0                   0                     0                     0   \n",
       "1                   0                     0                     0   \n",
       "\n",
       "   neighborhood_Crawfor  condition_1_Norm  mas_vnr_type_Stone  \\\n",
       "0                     0                 1                   0   \n",
       "1                     0                 1                   0   \n",
       "\n",
       "   mas_vnr_type_None  bsmt_qual  condition_1_PosN  year_remod_add  \\\n",
       "0                  1          2                 0            1950   \n",
       "1                  1          4                 0            1977   \n",
       "\n",
       "   land_contour_HLS  condition_2_PosA  garage_type_None  lot_frontage  \\\n",
       "0                 0                 0                 0            69   \n",
       "1                 0                 0                 0             0   \n",
       "\n",
       "   exterior_1st_CemntBd  sale_type_Con  half_bath  foundation_Slab  \\\n",
       "0                     0              0          0                0   \n",
       "1                     0              0          0                0   \n",
       "\n",
       "   garage_type_BuiltIn  foundation_PConc  neighborhood_NPkVill  \\\n",
       "0                    0                 0                     0   \n",
       "1                    0                 0                     0   \n",
       "\n",
       "   neighborhood_BrkSide  condition_1_PosA  heating_qc  open_porch_sf  \\\n",
       "0                     0                 0           4             60   \n",
       "1                     0                 0           3              0   \n",
       "\n",
       "   garage_finish  wood_deck_sf  exterior_2nd_MetalSd  heating_Wall  \\\n",
       "0              1             0                     0             0   \n",
       "1              3           170                     0             0   \n",
       "\n",
       "   garage_type_Detchd  sale_type_CWD  sale_type_ConLD  exterior_1st_AsphShn  \\\n",
       "0                   1              0                0                     0   \n",
       "1                   0              0                0                     0   \n",
       "\n",
       "   street_Pave  roof_matl_Membran  neighborhood_BrDale  sale_type_ConLI  \\\n",
       "0            1                  0                    0                0   \n",
       "1            1                  0                    0                0   \n",
       "\n",
       "   misc_val  pool_area  ms_zoning_I (all)  neighborhood_Veenker  \\\n",
       "0         0          0                  0                     0   \n",
       "1         0          0                  0                     0   \n",
       "\n",
       "   neighborhood_Sawyer  paved_drive  exterior_2nd_Wd Shng  electrical  \\\n",
       "0                    0            2                     0           2   \n",
       "1                    1            2                     0           5   \n",
       "\n",
       "   lot_config_FR3  roof_matl_WdShake  neighborhood_Timber  central_air  \\\n",
       "0               0                  0                    0            0   \n",
       "1               0                  0                    0            1   \n",
       "\n",
       "   low_qual_fin_sf  exterior_1st_Plywood  condition_1_RRNe  \\\n",
       "0                0                     0                 0   \n",
       "1                0                     1                 0   \n",
       "\n",
       "   garage_type_CarPort  neighborhood_ClearCr  heating_GasW  roof_matl_Tar&Grv  \\\n",
       "0                    0                     0             0                  0   \n",
       "1                    0                     0             0                  0   \n",
       "\n",
       "   exterior_2nd_Plywood  exterior_2nd_BrkFace  condition_1_RRNn  \\\n",
       "0                     0                     0                 0   \n",
       "1                     1                     0                 0   \n",
       "\n",
       "   kitchen_abvgr  neighborhood_Edwards  ms_zoning_C (all)  bsmtfin_type_2  \\\n",
       "0              2                     0                  0               0   \n",
       "1              2                     0                  0               0   \n",
       "\n",
       "   ms_zoning_RM  neighborhood_OldTown  exterior_1st_BrkComm  roof_style_Shed  \\\n",
       "0             1                     1                     0                0   \n",
       "1             0                     0                     0                0   \n",
       "\n",
       "   condition_1_RRAe  exterior_1st_Wd Sdng  neighborhood_SawyerW  \\\n",
       "0                 0                     0                     0   \n",
       "1                 0                     0                     0   \n",
       "\n",
       "   neighborhood_CollgCr  neighborhood_NAmes  exterior_2nd_HdBoard  \\\n",
       "0                     0                   0                     0   \n",
       "1                     0                   0                     0   \n",
       "\n",
       "   bldg_type_Duplex  heating_OthW  neighborhood_NWAmes  bsmt_cond  \\\n",
       "0                 0             0                    0          3   \n",
       "1                 1             0                    0          3   \n",
       "\n",
       "   bldg_type_Twnhs  mas_vnr_type_BrkFace  bldg_type_TwnhsE  bedroom_abvgr  \\\n",
       "0                0                     0                 0              4   \n",
       "1                0                     0                 0              6   \n",
       "\n",
       "   ms_subclass  \n",
       "0          190  \n",
       "1           90  "
      ]
     },
     "execution_count": 53,
     "metadata": {},
     "output_type": "execute_result"
    }
   ],
   "source": [
    "# Check the first 2 rows of X_train_final\n",
    "X_test_final.head(2)"
   ]
  },
  {
   "cell_type": "code",
   "execution_count": 54,
   "metadata": {},
   "outputs": [],
   "source": [
    "#Instantiate a StandardScaler object\n",
    "ss = StandardScaler()\n",
    "\n",
    "#Fit the X_train_final data into StandardScaler object\n",
    "ss.fit(X_train_final)\n",
    "\n",
    "#Apply the fit method to X_train_final\n",
    "X_train_final = ss.transform(X_train_final)\n",
    "X_test_final = ss.transform(X_test_final)"
   ]
  },
  {
   "cell_type": "code",
   "execution_count": 55,
   "metadata": {},
   "outputs": [
    {
     "data": {
      "text/plain": [
       "array([[-0.03220197, -0.07530656, -0.76788509,  1.1404381 , -0.25194354,\n",
       "        -0.13763419,  0.14337107, -0.62399572,  1.01568463,  0.0118023 ,\n",
       "         0.69411353,  0.72962956,  2.20689691, -0.81696208, -0.28943943,\n",
       "         0.23019575,  1.12527978, -0.92493083, -0.48865927, -0.04951952,\n",
       "        -0.28739941, -0.17978663,  3.85291594, -0.15507449, -0.25954368,\n",
       "        -0.18969926, -2.49964536, -0.29633202, -1.23934666, -0.54060159,\n",
       "        -0.11569882,  0.99202332, -0.20701967, -0.03833885, -0.2419068 ,\n",
       "        -1.79894488, -0.21336423, -0.04428074,  1.25598156, -0.13005931,\n",
       "        -0.26275018, -0.90650255, -0.09157936, -0.19651434, -0.07355762,\n",
       "         0.87330989, -0.04953184,  0.31097178, -0.74507027, -0.43401854,\n",
       "        -0.05425922, -0.59543214, -0.07011719, -0.09157936, -0.02212411,\n",
       "         0.05862104, -0.02212411, -0.09686442, -0.05862104, -0.09933499,\n",
       "        -0.05976013, -0.02212411, -0.09157936,  4.17305816,  0.31154729,\n",
       "        -0.17833149,  0.28527927, -0.06650266, -0.04428074, -0.15507449,\n",
       "         0.27220128, -0.10816393, -0.28243152, -0.03833885, -0.07355762,\n",
       "        -0.11127609, -0.09940535, -0.08304548,  3.1889495 , -0.13005931,\n",
       "        -0.05425922, -0.20493288, -0.27220128, -0.09686442, -0.34060379,\n",
       "        -0.42763345, -0.29437397, -0.03833885, -0.03833885,  9.81495458,\n",
       "        -0.39344918, -0.21084544, -0.31075155, -0.42201657, -0.39344918,\n",
       "        -0.19516762, -0.03129588, -0.21084544,  0.12383943, -0.18691364,\n",
       "         1.49986751, -0.29240701,  0.18998983,  0.06877369],\n",
       "       [ 1.29162618,  0.62755464, -0.3273925 ,  0.20890828, -0.25194354,\n",
       "        -0.13763419,  0.8057817 , -0.62399572,  1.01568463,  0.40284956,\n",
       "         0.30656809,  0.72962956, -0.50833019,  1.10463803, -0.28943943,\n",
       "         0.23019575,  1.12527978,  0.65053469, -0.48865927, -0.04951952,\n",
       "        -0.28739941, -0.17978663,  3.85291594, -0.15507449, -0.25954368,\n",
       "        -0.18969926,  0.40005675, -0.29633202, -1.23934666,  0.56882577,\n",
       "        -0.11569882,  0.61170856, -0.20701967, -0.03833885, -0.2419068 ,\n",
       "        -0.45927784, -0.21336423, -0.04428074,  1.25598156, -0.13005931,\n",
       "        -0.26275018,  1.10314085, -0.09157936, -0.19651434, -0.07355762,\n",
       "         0.87330989,  0.40576607,  0.31097178, -0.74507027, -0.43401854,\n",
       "        -0.05425922, -0.59543214, -0.07011719, -0.09157936, -0.02212411,\n",
       "         0.05862104, -0.02212411, -0.09686442, -0.05862104, -0.09933499,\n",
       "        -0.05976013, -0.02212411, -0.09157936, -0.23963241,  0.31154729,\n",
       "        -0.17833149,  0.28527927, -0.06650266, -0.04428074, -0.15507449,\n",
       "         0.27220128, -0.10816393, -0.28243152, -0.03833885, -0.07355762,\n",
       "        -0.11127609, -0.09940535, -0.08304548, -0.31358289, -0.13005931,\n",
       "        -0.05425922, -0.20493288, -0.27220128, -0.09686442, -0.34060379,\n",
       "        -0.42763345, -0.29437397, -0.03833885, -0.03833885, -0.10188534,\n",
       "        -0.39344918,  4.74281065, -0.31075155, -0.42201657, -0.39344918,\n",
       "        -0.19516762, -0.03129588, -0.21084544,  0.12383943, -0.18691364,\n",
       "         1.49986751, -0.29240701,  1.39976929,  0.06877369]])"
      ]
     },
     "execution_count": 55,
     "metadata": {},
     "output_type": "execute_result"
    }
   ],
   "source": [
    "# Check the scaled X_train_final\n",
    "X_train_final[:2]"
   ]
  },
  {
   "cell_type": "code",
   "execution_count": 56,
   "metadata": {},
   "outputs": [
    {
     "data": {
      "text/plain": [
       "array([[ 0.89221302, -0.07530656, -0.0766866 , -0.57428877, -0.25194354,\n",
       "        -0.13763419, -2.04258401, -0.62399572, -0.69019818, -0.15113407,\n",
       "        -0.14317599, -2.28018442,  2.20689691, -0.81696208, -0.28943943,\n",
       "         0.23019575, -1.2888602 , -0.92493083, -0.48865927, -0.04951952,\n",
       "        -0.28739941, -0.17978663, -0.25954368, -0.15507449, -0.25954368,\n",
       "        -0.18969926,  0.40005675, -0.29633202,  0.80687674, -1.65002894,\n",
       "        -0.11569882, -1.62264063, -0.20701967, -0.03833885, -0.2419068 ,\n",
       "         0.3507534 , -0.21336423, -0.04428074, -0.74030639, -0.13005931,\n",
       "        -0.26275018, -0.90650255, -0.09157936, -0.19651434, -0.07355762,\n",
       "        -0.16390418,  0.19329371, -0.80220917, -0.74507027, -0.43401854,\n",
       "        -0.05425922,  1.67945251, -0.07011719, -0.09157936, -0.02212411,\n",
       "         0.05862104, -0.02212411, -0.09686442, -0.05862104, -0.09933499,\n",
       "        -0.05976013, -0.02212411, -0.09157936, -0.23963241,  0.31154729,\n",
       "        -0.17833149, -7.15868875, -0.06650266, -0.04428074, -0.15507449,\n",
       "        -3.67375202, -0.10816393, -0.28243152, -0.03833885, -0.07355762,\n",
       "        -0.11127609, -0.09940535, -0.08304548, -0.31358289, -0.13005931,\n",
       "        -0.05425922,  4.55509892, -0.27220128, -0.09686442, -0.34060379,\n",
       "         2.33845129,  3.39703949, -0.03833885, -0.03833885, -0.10188534,\n",
       "        -0.39344918, -0.21084544, -0.31075155, -0.42201657, -0.39344918,\n",
       "        -0.19516762, -0.03129588, -0.21084544,  0.12383943, -0.18691364,\n",
       "        -0.66672556, -0.29240701,  1.39976929,  3.10189306],\n",
       "       [ 0.97250742, -0.77816775,  2.14217771, -0.57428877, -0.25194354,\n",
       "        -0.13763419,  0.1764916 , -0.62399572, -0.69019818,  0.50061138,\n",
       "        -0.04365815, -0.77527743, -1.41340588, -0.81696208, -0.28943943,\n",
       "         0.23019575, -1.2888602 , -0.92493083, -0.48865927, -0.04951952,\n",
       "        -0.28739941, -0.17978663, -0.25954368, -0.15507449, -0.25954368,\n",
       "        -0.18969926,  0.40005675, -0.29633202,  0.80687674,  0.56882577,\n",
       "        -0.11569882, -0.33907833, -0.20701967, -0.03833885, -0.2419068 ,\n",
       "        -1.79894488, -0.21336423, -0.04428074, -0.74030639, -0.13005931,\n",
       "        -0.26275018, -0.90650255, -0.09157936, -0.19651434, -0.07355762,\n",
       "        -1.20111825, -0.7173021 ,  1.42415274,  0.61834214, -0.43401854,\n",
       "        -0.05425922, -0.59543214, -0.07011719, -0.09157936, -0.02212411,\n",
       "         0.05862104, -0.02212411, -0.09686442, -0.05862104, -0.09933499,\n",
       "        -0.05976013, -0.02212411, -0.09157936,  4.17305816,  0.31154729,\n",
       "        -0.17833149,  0.28527927, -0.06650266, -0.04428074, -0.15507449,\n",
       "         0.27220128, -0.10816393,  3.54068127, -0.03833885, -0.07355762,\n",
       "        -0.11127609, -0.09940535, -0.08304548,  3.1889495 , -0.13005931,\n",
       "        -0.05425922,  4.55509892, -0.27220128, -0.09686442, -0.34060379,\n",
       "        -0.42763345, -0.29437397, -0.03833885, -0.03833885, -0.10188534,\n",
       "        -0.39344918, -0.21084544, -0.31075155, -0.42201657, -0.39344918,\n",
       "         5.12380067, -0.03129588, -0.21084544,  0.12383943, -0.18691364,\n",
       "        -0.66672556, -0.29240701,  3.81932821,  0.76872431]])"
      ]
     },
     "execution_count": 56,
     "metadata": {},
     "output_type": "execute_result"
    }
   ],
   "source": [
    "# Check the scaled X_test_final\n",
    "X_test_final[:2]"
   ]
  },
  {
   "cell_type": "code",
   "execution_count": 57,
   "metadata": {},
   "outputs": [],
   "source": [
    "#Instantiate the LassoCV() model\n",
    "lasso_final = LassoCV()"
   ]
  },
  {
   "cell_type": "code",
   "execution_count": 58,
   "metadata": {},
   "outputs": [
    {
     "name": "stdout",
     "output_type": "stream",
     "text": [
      "The optimum alpha value for LassoCV model is: 407.74304430295075\n"
     ]
    }
   ],
   "source": [
    "# Find optimum alpha for Lasso model.\n",
    "lasso_final = LassoCV(cv=10,n_alphas=200).fit(X_train_final, y_train_final)\n",
    "\n",
    "print('The optimum alpha value for LassoCV model is: {}'.format(lassoCV.alpha_))"
   ]
  },
  {
   "cell_type": "code",
   "execution_count": 59,
   "metadata": {},
   "outputs": [
    {
     "name": "stdout",
     "output_type": "stream",
     "text": [
      "The R2 score for each fold in Lasso model for training data is: \n",
      "[0.89177086 0.91916417 0.9189171  0.90728929 0.91082761]\n",
      "\n",
      "The mean R2 score for Lasso model for training data is: 0.909593805573224\n"
     ]
    }
   ],
   "source": [
    "# Instantiate the Lasso() model with optimum alpha value\n",
    "lasso = Lasso(alpha=lasso_final.alpha_)\n",
    "\n",
    "# Calculate the cross_val_score R2 score for Lasso model\n",
    "lasso_score = cross_val_score(lasso, X_train_final, y_train_final,cv=5);\n",
    "\n",
    "print('The R2 score for each fold in Lasso model for training data is: \\n{}'.format(lasso_score))\n",
    "print('\\nThe mean R2 score for Lasso model for training data is: {}'. format(lasso_score.mean()))"
   ]
  },
  {
   "cell_type": "code",
   "execution_count": 60,
   "metadata": {},
   "outputs": [
    {
     "data": {
      "text/plain": [
       "Lasso(alpha=63.72268819515682, copy_X=True, fit_intercept=True, max_iter=1000,\n",
       "      normalize=False, positive=False, precompute=False, random_state=None,\n",
       "      selection='cyclic', tol=0.0001, warm_start=False)"
      ]
     },
     "execution_count": 60,
     "metadata": {},
     "output_type": "execute_result"
    }
   ],
   "source": [
    "# Fit the model with X_train_final and y_train_final data\n",
    "\n",
    "lasso.fit(X_train_final, y_train_final)"
   ]
  },
  {
   "cell_type": "code",
   "execution_count": 61,
   "metadata": {},
   "outputs": [
    {
     "name": "stdout",
     "output_type": "stream",
     "text": [
      "The R2 score for train data is: 0.9221\n"
     ]
    }
   ],
   "source": [
    "# Calculate the R2 score on training data\n",
    "r2_score_train = lasso.score(X_train_final, y_train_final)\n",
    "print('The R2 score for train data is: {:.4f}'.format(r2_score_train))"
   ]
  },
  {
   "cell_type": "markdown",
   "metadata": {},
   "source": [
    "# Prediction\n",
    "\n",
    "Predict the values of `saleprice` for the X_test_final data."
   ]
  },
  {
   "cell_type": "code",
   "execution_count": 62,
   "metadata": {},
   "outputs": [
    {
     "data": {
      "text/plain": [
       "array([136801.12425404, 155565.76361369, 226680.06510217, 106090.19592054,\n",
       "       177210.02839493])"
      ]
     },
     "execution_count": 62,
     "metadata": {},
     "output_type": "execute_result"
    }
   ],
   "source": [
    "# Predicting the salesprice for X_test_final\n",
    "predictions_final = lasso.predict(X_test_final)\n",
    "\n",
    "# Print first 5 predictions done.\n",
    "predictions_final[:5]"
   ]
  },
  {
   "cell_type": "code",
   "execution_count": 63,
   "metadata": {},
   "outputs": [
    {
     "data": {
      "text/plain": [
       "0    2658\n",
       "1    2718\n",
       "2    2414\n",
       "3    1989\n",
       "4     625\n",
       "Name: id, dtype: int64"
      ]
     },
     "execution_count": 63,
     "metadata": {},
     "output_type": "execute_result"
    }
   ],
   "source": [
    "clean_test['id'].head()"
   ]
  },
  {
   "cell_type": "code",
   "execution_count": 64,
   "metadata": {},
   "outputs": [],
   "source": [
    "# Creating the dataframe for submissions\n",
    "predicted_saleprice = pd.DataFrame(clean_test['id'])\n",
    "predicted_saleprice['SalePrice'] = predictions_final"
   ]
  },
  {
   "cell_type": "code",
   "execution_count": 65,
   "metadata": {},
   "outputs": [
    {
     "data": {
      "text/html": [
       "<div>\n",
       "<style scoped>\n",
       "    .dataframe tbody tr th:only-of-type {\n",
       "        vertical-align: middle;\n",
       "    }\n",
       "\n",
       "    .dataframe tbody tr th {\n",
       "        vertical-align: top;\n",
       "    }\n",
       "\n",
       "    .dataframe thead th {\n",
       "        text-align: right;\n",
       "    }\n",
       "</style>\n",
       "<table border=\"1\" class=\"dataframe\">\n",
       "  <thead>\n",
       "    <tr style=\"text-align: right;\">\n",
       "      <th></th>\n",
       "      <th>id</th>\n",
       "      <th>SalePrice</th>\n",
       "    </tr>\n",
       "  </thead>\n",
       "  <tbody>\n",
       "    <tr>\n",
       "      <th>0</th>\n",
       "      <td>2658</td>\n",
       "      <td>136801.124254</td>\n",
       "    </tr>\n",
       "    <tr>\n",
       "      <th>1</th>\n",
       "      <td>2718</td>\n",
       "      <td>155565.763614</td>\n",
       "    </tr>\n",
       "    <tr>\n",
       "      <th>2</th>\n",
       "      <td>2414</td>\n",
       "      <td>226680.065102</td>\n",
       "    </tr>\n",
       "    <tr>\n",
       "      <th>3</th>\n",
       "      <td>1989</td>\n",
       "      <td>106090.195921</td>\n",
       "    </tr>\n",
       "    <tr>\n",
       "      <th>4</th>\n",
       "      <td>625</td>\n",
       "      <td>177210.028395</td>\n",
       "    </tr>\n",
       "  </tbody>\n",
       "</table>\n",
       "</div>"
      ],
      "text/plain": [
       "     id      SalePrice\n",
       "0  2658  136801.124254\n",
       "1  2718  155565.763614\n",
       "2  2414  226680.065102\n",
       "3  1989  106090.195921\n",
       "4   625  177210.028395"
      ]
     },
     "execution_count": 65,
     "metadata": {},
     "output_type": "execute_result"
    }
   ],
   "source": [
    "# Check the dataframe created\n",
    "predicted_saleprice.head()"
   ]
  },
  {
   "cell_type": "code",
   "execution_count": 66,
   "metadata": {},
   "outputs": [],
   "source": [
    "# Save the predictions in csv format\n",
    "predicted_saleprice.to_csv('../datasets/predictions.csv',index=False)"
   ]
  },
  {
   "cell_type": "markdown",
   "metadata": {},
   "source": [
    "## Conclusions and Recomendations"
   ]
  },
  {
   "cell_type": "markdown",
   "metadata": {},
   "source": [
    "Below are the features (alongwith with how impactful they are) that add most value to a home. \n",
    "These all have positive impact on value of a house. Therefore, higher the features, higher the value.\n",
    "\n",
    "|Feature|coefficients|Description|\n",
    "|:---|:---:|:---|\n",
    "|gr_liv_area|24936.46|Above grade (ground) living area square feet|\n",
    "|overall_qual|10492.96|The overall material and finish of the house|\n",
    "|total_bsmt_sf|8746.06|Total square feet of basement area|\n",
    "|mas_vnr_area|6626.93|Masonry veneer area in square feet|\n",
    "|neighborhood_NridgHt|6314.43|If the neighborhood is NridgHt|\n",
    "|year_built|6243.16|Original construction date|\n",
    "|garage_area|6073.93|Size of garage in square feet|\n",
    "|exter_qual|5604.66|The quality of the material on the exterior|\n",
    "|lot_area|5513.68|Lot size in square feet|\n",
    "|neighborhood_StoneBr|5346.67|If the neighborhood is StoneBr|"
   ]
  },
  {
   "cell_type": "markdown",
   "metadata": {},
   "source": [
    "Below are the features (alongwith with how impactful they are) that decrease the value of a home. \n",
    "\n",
    "|Feature|coefficients|Description|\n",
    "|:---|:---:|:---|\n",
    "|ms_subclass|-3057.85|Type of dwelling involved in the sale|\n",
    "|bldg_type_TwnhsE|-2798.17|If the Type of dwelling is TwnhsE: Townhouse End Unit|\n",
    "|mas_vnr_type_BrkFace|-2389.47|If Masonry veneer type is BrkFace(Brick Face)|\n",
    "|roof_style_Mansard|-1698.01|If roof style is Mansard|\n",
    "|bedroom_abvgr|-1600.55|If Bedrooms are not above grade|\n",
    "|bldg_type_Twnhs|-1498.21|If the Type of dwelling is Townhouse Inside Unit|\n",
    "|kitchen_abvgr|-1441.67|If Kitchens are not above grade|\n",
    "|neighborhood_NAmes|-1404.43|If neighborhood is Northwest Ames|\n",
    "|bsmt_cond|-1379.73|general condition of the basement|\n",
    "|neighborhood_SawyerW|-1150.55|If neighborhood is Sawyer West|"
   ]
  },
  {
   "cell_type": "markdown",
   "metadata": {},
   "source": [
    "Below are few things that homeowners can do to improve the home value:\n",
    "- Remodeling of home for kitchen and bathrooms particularly.\n",
    "- Improving the quality of material of home.\n",
    "- Improving the landscape of a home (adding some plants/trees) or add square foot, if possible.\n",
    "- De-clutter as much as possible."
   ]
  },
  {
   "cell_type": "markdown",
   "metadata": {},
   "source": [
    "From the model, we can see that below neighborhoods have the most positive impact on a home. Therefore, These neighborhoods seem like they might be a good investment.\n",
    "\n",
    "- neighborhood_NridgHt --  Northridge Heights\n",
    "- neighborhood_StoneBr --  Stone Brook\n",
    "- neighborhood_GrnHill --  Green Hills\n",
    "- neighborhood_NoRidge --  Northridge\n",
    "- neighborhood_Crawfor --  Crawford"
   ]
  },
  {
   "cell_type": "code",
   "execution_count": 96,
   "metadata": {},
   "outputs": [
    {
     "data": {
      "image/png": "[encoded data removed]",
      "text/plain": [
       "<Figure size 1080x576 with 1 Axes>"
      ]
     },
     "metadata": {
      "needs_background": "light"
     },
     "output_type": "display_data"
    }
   ],
   "source": [
    "coef_lasso[coef_lasso.index.str.contains(\"nei\")].plot(kind=\"bar\",rot=45,figsize=(15,8),color=\"c\")\n",
    "plt.xlabel('Neighborhood')\n",
    "plt.ylabel('Coefficients')\n",
    "plt.title('Neighborhood impact on saleprice');"
   ]
  },
  {
   "cell_type": "markdown",
   "metadata": {},
   "source": [
    "People's choice of features when they buy a house are different in different cities. For eg: in 1 city people might prefer to live in condominiums, while in other they may prefer standalone houses.\n",
    "Plus the home features also can be different for different cities. Therefore, it is difficult to say whether the model will generalize well to other cities.\n",
    "\n",
    "However, with more data we can always modify our model to suit the city's needs, thus, increasing its accuracy in predicting prices."
   ]
  },
  {
   "cell_type": "markdown",
   "metadata": {},
   "source": [
    "# Kaggle score\n",
    "\n",
    "![](../Images/Project2_kaggle_score.png)"
   ]
  },
  {
   "cell_type": "code",
   "execution_count": null,
   "metadata": {},
   "outputs": [],
   "source": []
  }
 ],
 "metadata": {
  "kernelspec": {
   "display_name": "Python 3",
   "language": "python",
   "name": "python3"
  },
  "language_info": {
   "codemirror_mode": {
    "name": "ipython",
    "version": 3
   },
   "file_extension": ".py",
   "mimetype": "text/x-python",
   "name": "python",
   "nbconvert_exporter": "python",
   "pygments_lexer": "ipython3",
   "version": "3.7.4"
  }
 },
 "nbformat": 4,
 "nbformat_minor": 2
}
